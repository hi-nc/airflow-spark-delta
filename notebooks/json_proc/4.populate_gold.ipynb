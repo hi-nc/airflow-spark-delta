{
 "cells": [
  {
   "cell_type": "code",
   "execution_count": 15,
   "id": "55b53a11-7d0c-4604-bbce-616f8767ca86",
   "metadata": {
    "tags": []
   },
   "outputs": [
    {
     "data": {
      "text/plain": [
       "DataFrame[]"
      ]
     },
     "execution_count": 15,
     "metadata": {},
     "output_type": "execute_result"
    }
   ],
   "source": [
    "spark.sql(f\"DROP DATABASE IF EXISTS gold CASCADE\")\n",
    "spark.sql(f\"CREATE DATABASE IF NOT EXISTS gold\") "
   ]
  },
  {
   "cell_type": "code",
   "execution_count": 17,
   "id": "c0ad3364-c9ab-457c-b98c-a3407c84e770",
   "metadata": {
    "tags": []
   },
   "outputs": [
    {
     "name": "stdout",
     "output_type": "stream",
     "text": [
      "+----------+-----------+-----------+--------------------+--------+\n",
      "|Table_Name|   Progress|     Status|          Start_time|End_time|\n",
      "+----------+-----------+-----------+--------------------+--------+\n",
      "|   EV_Data|Ingest_Gold|In_Progress|2024-12-05 19:22:...|    null|\n",
      "+----------+-----------+-----------+--------------------+--------+\n",
      "\n"
     ]
    }
   ],
   "source": [
    "update_audit_table(\"EV_Data\", progress=\"Ingest_Gold\", status=\"In_Progress\", start=True)"
   ]
  },
  {
   "cell_type": "code",
   "execution_count": 18,
   "id": "061e3dd0-37f4-4475-a9fd-ae6f18618a97",
   "metadata": {
    "tags": []
   },
   "outputs": [
    {
     "name": "stdout",
     "output_type": "stream",
     "text": [
      "+------------------+--------------------+--------+-------------------+------------+-------------------+------------+----+----------+-----------+-----------+-----+-----------+----------+---------+-------+---------------------+-----------------------------------------------+--------------+---------+--------------------+--------------+--------------------+--------------------+-----------------+--------+-----------------------+---------------------------------------+--------+-----------+-------+\n",
      "|               sid|                  id|position|         created_at|created_meta|         updated_at|updated_meta|meta|  VIN_1_10|     County|       City|State|Postal_Code|Model_year|     Make|  Model|Electric_Vehicle_Type|Clean_Alternative_Fuel_Vehicle_CAFV_Eligibility|Electric_Range|Base_MSRP|Legislative_District|DOL_Vehicle_ID|    Vehicle_Location|    Electric_Utility|2020_Census_Tract|Counties|Congressional_Districts|WAOFM_GIS_Legislative_District_Boundary|err_code|err_message|err_flg|\n",
      "+------------------+--------------------+--------+-------------------+------------+-------------------+------------+----+----------+-----------+-----------+-----+-----------+----------+---------+-------+---------------------+-----------------------------------------------+--------------+---------+--------------------+--------------+--------------------+--------------------+-----------------+--------+-----------------------+---------------------------------------+--------+-----------+-------+\n",
      "|row-zt4k~iszy.uhv6|00000000-0000-000...|       0|2023-02-14 22:37:13|        null|2023-02-14 22:38:04|        null| { }|5YJ3E1EA8J|  San Diego|  Oceanside|   CA|    92051.0|    2018.0|    TESLA|MODEL 3| Battery Electric ...|                           Clean Alternative...|         215.0|      0.0|                null|   1.5399805E8|                null|                null|    6.073018509E9|    null|                   null|                                   null|   DQ02 |Null value |      Y|\n",
      "|row-5r58~kb8y.789r|00000000-0000-000...|       0|2023-02-14 22:37:13|        null|2023-02-14 22:38:04|        null| { }|3FA6P0PU7H|   Sedgwick|      Derby|   KS|    67037.0|    2017.0|     FORD| FUSION| Plug-in Hybrid El...|                           Not eligible due ...|          21.0|      0.0|                null|  1.38214331E8|POINT (-97.27013 ...|                null|  2.0173009801E10|  1291.0|                   null|                                   null|   DQ02 |Null value |      Y|\n",
      "|row-84ix~3wif_u9ju|00000000-0000-000...|       0|2023-02-14 22:37:13|        null|2023-02-14 22:38:18|        null| { }|1N4AZ0CP8D|  Snohomish| Marysville|   WA|    98271.0|    2013.0|   NISSAN|   LEAF| Battery Electric ...|                           Clean Alternative...|          75.0|      0.0|                38.0|     3129059.0|POINT (-122.19388...|PUGET SOUND ENERG...|  5.3061052805E10|  3213.0|                    2.0|                                   40.0|        |           |      N|\n",
      "|row-wiar-siae_sed9|00000000-0000-000...|       0|2023-02-14 22:37:13|        null|2023-02-14 22:38:18|        null| { }|WBY8P8C58K|     Kitsap|  Bremerton|   WA|    98337.0|    2019.0|      BMW|     I3| Plug-in Hybrid El...|                           Clean Alternative...|         126.0|      0.0|                26.0|  1.66525635E8|POINT (-122.62749...|PUGET SOUND ENERG...|    5.30350805E10|   848.0|                    6.0|                                   33.0|        |           |      N|\n",
      "|row-abd5~finn.nzkg|00000000-0000-000...|       0|2023-02-14 22:37:13|        null|2023-02-14 22:38:18|        null| { }|5YJ3E1EA7K|  Snohomish|    Edmonds|   WA|    98026.0|    2019.0|    TESLA|MODEL 3| Battery Electric ...|                           Clean Alternative...|         220.0|      0.0|                32.0|  4.75248315E8|POINT (-122.31768...|PUGET SOUND ENERG...|    5.30610508E10|  3213.0|                    2.0|                                    7.0|        |           |      N|\n",
      "|row-9qmp.7c6z.3ncd|00000000-0000-000...|       0|2023-02-14 22:37:13|        null|2023-02-14 22:38:18|        null| { }|1G1FZ6S07L|Walla Walla|Walla Walla|   WA|    99362.0|    2020.0|CHEVROLET|BOLT EV| Battery Electric ...|                           Clean Alternative...|         259.0|      0.0|                16.0|  1.50312991E8|POINT (-118.34261...|          PACIFICORP|  5.3071920702E10|  2743.0|                    5.0|                                   23.0|        |           |      N|\n",
      "|row-qnct~snmi~bfh6|00000000-0000-000...|       0|2023-02-14 22:37:13|        null|2023-02-14 22:38:18|        null| { }|KNDCC3LG1L|  Snohomish|    Everett|   WA|    98204.0|    2020.0|      KIA|   NIRO| Battery Electric ...|                           Clean Alternative...|         239.0|      0.0|                21.0|  1.52471728E8|POINT (-122.25527...|PUGET SOUND ENERG...|  5.3061041905E10|  3213.0|                    2.0|                                    7.0|        |           |      N|\n",
      "|row-isc5~dgtb~rt8i|00000000-0000-000...|       0|2023-02-14 22:37:13|        null|2023-02-14 22:38:18|        null| { }|1N4AZ0CP5D|     Island| Oak Harbor|   WA|    98277.0|    2013.0|   NISSAN|   LEAF| Battery Electric ...|                           Clean Alternative...|          75.0|      0.0|                10.0|  2.34850367E8|POINT (-122.64682...|PUGET SOUND ENERG...|    5.30299703E10|  3007.0|                    2.0|                                   16.0|        |           |      N|\n",
      "|row-un7y_4v74~he2e|00000000-0000-000...|       0|2023-02-14 22:37:13|        null|2023-02-14 22:38:18|        null| { }|5YJ3E1EA1L|  Snohomish|    Bothell|   WA|    98021.0|    2020.0|    TESLA|MODEL 3| Battery Electric ...|                           Clean Alternative...|         266.0|      0.0|                 1.0|  1.10771972E8|POINT (-122.18384...|PUGET SOUND ENERG...|  5.3061051937E10|  3213.0|                    1.0|                                    1.0|        |           |      N|\n",
      "|row-ynhd~9n9n_nrh6|00000000-0000-000...|       0|2023-02-14 22:37:13|        null|2023-02-14 22:38:18|        null| { }|5YJ3E1EB8K|   Thurston|    Olympia|   WA|    98501.0|    2019.0|    TESLA|MODEL 3| Battery Electric ...|                           Clean Alternative...|         220.0|      0.0|                22.0|  4.77769939E8|POINT (-122.89166...|PUGET SOUND ENERG...|    5.30670107E10|  2742.0|                   10.0|                                   28.0|        |           |      N|\n",
      "+------------------+--------------------+--------+-------------------+------------+-------------------+------------+----+----------+-----------+-----------+-----+-----------+----------+---------+-------+---------------------+-----------------------------------------------+--------------+---------+--------------------+--------------+--------------------+--------------------+-----------------+--------+-----------------------+---------------------------------------+--------+-----------+-------+\n",
      "\n"
     ]
    }
   ],
   "source": [
    "# Define the database and table names\n",
    "database_name = \"silver\"\n",
    "table_name = \"vehicle_data\"\n",
    "\n",
    "# Query the data from the managed table\n",
    "df = spark.sql(f\"SELECT * FROM {database_name}.{table_name}\")\n",
    "df.limit(10).show()"
   ]
  },
  {
   "cell_type": "code",
   "execution_count": null,
   "id": "31d1d54f-7065-4151-a338-951a310a965b",
   "metadata": {},
   "outputs": [],
   "source": [
    "#Which one of the car make is more efficient?\n",
    "gold_df = spark.sql(\n",
    "    f\"\"\"\n",
    "    SELECT Model_Year, County, City, State, Electric_Vehicle_type, Make, Model,\n",
    "           COUNT(DOL_Vehicle_ID) ev_cnt, AVG(Electric_Range) AS Avg_ev_Range\n",
    "    FROM {database_name}.{table_name}\n",
    "    GROUP BY Model_Year, County, City, State, Electric_Vehicle_type, Make, Model\n",
    "    \"\"\")\n",
    "gold_df.limit(10).show()"
   ]
  },
  {
   "cell_type": "code",
   "execution_count": null,
   "id": "3534007a-44ee-46b5-b25c-b745f74c89ce",
   "metadata": {},
   "outputs": [],
   "source": [
    "gold_db = \"gold\"\n",
    "gold_table = \"ev_insights\"\n",
    "\n",
    "gold_df.write.mode(\"overwrite\").saveAsTable(f\"{gold_db}.{gold_table}\")"
   ]
  },
  {
   "cell_type": "code",
   "execution_count": 19,
   "id": "0ede5dd2-ceba-4219-8c3c-1633a891e064",
   "metadata": {
    "tags": []
   },
   "outputs": [
    {
     "name": "stdout",
     "output_type": "stream",
     "text": [
      "+---------+---------+-----+\n",
      "|     City|     Make|count|\n",
      "+---------+---------+-----+\n",
      "|  Seattle|    TESLA| 1597|\n",
      "| Bellevue|    TESLA|  766|\n",
      "|  Redmond|    TESLA|  544|\n",
      "|  Seattle|   NISSAN|  515|\n",
      "|Sammamish|    TESLA|  411|\n",
      "| Kirkland|    TESLA|  392|\n",
      "|  Bothell|    TESLA|  383|\n",
      "|  Seattle|CHEVROLET|  336|\n",
      "|Vancouver|    TESLA|  295|\n",
      "|   Renton|    TESLA|  289|\n",
      "+---------+---------+-----+\n",
      "\n"
     ]
    }
   ],
   "source": [
    "# Is there any relationship between the choice of EV make and city?\n",
    "# Group by 'City' and 'Make' to see the count of each make in different cities\n",
    "df_city_make = df.groupBy(\"City\", \"Make\").count().orderBy(\"count\", ascending=False)\n",
    "\n",
    "# Show the relationship between city and make\n",
    "df_city_make.limit(10).show()"
   ]
  },
  {
   "cell_type": "code",
   "execution_count": 20,
   "id": "66d5a3e5-0e34-4a86-9fbc-211218c63277",
   "metadata": {
    "tags": []
   },
   "outputs": [
    {
     "name": "stdout",
     "output_type": "stream",
     "text": [
      "+---------+-------------+-----+\n",
      "|     Make|        Model|count|\n",
      "+---------+-------------+-----+\n",
      "|CHEVROLET|         VOLT|  921|\n",
      "|   TOYOTA|  PRIUS PRIME|  464|\n",
      "|     FORD|       FUSION|  349|\n",
      "|      BMW|           X5|  313|\n",
      "| CHRYSLER|     PACIFICA|  309|\n",
      "|     FORD|        C-MAX|  262|\n",
      "|     JEEP|     WRANGLER|  238|\n",
      "|      BMW|           I3|  236|\n",
      "|   TOYOTA|   RAV4 PRIME|  204|\n",
      "|   TOYOTA|PRIUS PLUG-IN|  171|\n",
      "+---------+-------------+-----+\n",
      "\n"
     ]
    }
   ],
   "source": [
    "# Which Plug-in Hybrid Electric Vehicle (PHEV) is preferred by buyers?\n",
    "# Filter for Plug-in Hybrid Electric Vehicle (PHEV)\n",
    "df_phev = df.filter(col(\"Electric_Vehicle_Type\").contains(\"Plug-in Hybrid Electric Vehicle (PHEV)\"))\n",
    "\n",
    "# Group by 'Make' and 'Model' to see the count of each PHEV\n",
    "df_phev_preference = df_phev.groupBy(\"Make\", \"Model\").count().orderBy(\"count\", ascending=False)\n",
    "\n",
    "# Show the most preferred PHEV by buyers\n",
    "df_phev_preference.limit(10).show()"
   ]
  },
  {
   "cell_type": "code",
   "execution_count": 21,
   "id": "2969454d-af46-45a6-afa0-983c10f9ec4b",
   "metadata": {
    "tags": []
   },
   "outputs": [
    {
     "name": "stdout",
     "output_type": "stream",
     "text": [
      "+----------+--------+------------------+------------------+----------+\n",
      "|      Make|   Model|Avg_Electric_Range|     Avg_Base_MSRP|Popularity|\n",
      "+----------+--------+------------------+------------------+----------+\n",
      "|   HYUNDAI|    KONA|             258.0|               0.0|        43|\n",
      "|     TESLA|ROADSTER|237.85714285714286|107521.42857142857|         7|\n",
      "|    JAGUAR|  I-PACE|            204.75|               0.0|        40|\n",
      "|     TESLA| MODEL S| 191.8760147601476|15836.752767527676|      1355|\n",
      "| CHEVROLET| BOLT EV| 182.3937924345296|               0.0|      1031|\n",
      "|     TESLA| MODEL X|164.31479289940827|               0.0|       845|\n",
      "|     TESLA| MODEL 3|             142.0|               0.0|      4252|\n",
      "|      AUDI|  E-TRON|129.85185185185185|               0.0|       162|\n",
      "|VOLKSWAGEN|  E-GOLF|108.97938144329896|               0.0|       194|\n",
      "|    TOYOTA|    RAV4|             103.0|               0.0|         8|\n",
      "+----------+--------+------------------+------------------+----------+\n",
      "\n"
     ]
    }
   ],
   "source": [
    "# Based on the data, which car make and model would you recommend?\n",
    "from pyspark.sql.functions import avg, count\n",
    "df = df.withColumn(\"Base_MSRP\", col(\"Base_MSRP\").cast(\"int\"))\n",
    "df_recommend = df.groupBy(\"Make\", \"Model\").agg(\n",
    "    avg(\"Electric_Range\").alias(\"Avg_Electric_Range\"),\n",
    "    avg(\"Base_MSRP\").alias(\"Avg_Base_MSRP\"),\n",
    "    count(\"DOL_Vehicle_ID\").alias(\"Popularity\")\n",
    ").orderBy(\"Avg_Electric_Range\", ascending=False)\n",
    "\n",
    "df_recommend.limit(10).show()"
   ]
  },
  {
   "cell_type": "code",
   "execution_count": 22,
   "id": "14642d1f-adb9-46d6-b42b-d0e25c63351e",
   "metadata": {
    "tags": []
   },
   "outputs": [
    {
     "name": "stdout",
     "output_type": "stream",
     "text": [
      "+----------+-------------+-----------+--------------------+--------------------+\n",
      "|Table_Name|     Progress|     Status|          Start_time|            End_time|\n",
      "+----------+-------------+-----------+--------------------+--------------------+\n",
      "|   EV_Data|Ingest_Bronze|  Completed|2024-12-05 19:18:...|2024-12-05 19:20:...|\n",
      "|   EV_Data|Ingest_Silver|  Completed|2024-12-05 19:20:...|2024-12-05 19:21:...|\n",
      "|   EV_Data|  Ingest_Gold|In_Progress|2024-12-05 19:22:...|                null|\n",
      "+----------+-------------+-----------+--------------------+--------------------+\n",
      "\n",
      "+----------+-----------+-----------+--------------------+--------+\n",
      "|Table_Name|   Progress|     Status|          Start_time|End_time|\n",
      "+----------+-----------+-----------+--------------------+--------+\n",
      "|   EV_Data|Ingest_Gold|In_Progress|2024-12-05 19:22:...|    null|\n",
      "+----------+-----------+-----------+--------------------+--------+\n",
      "\n",
      "+----------+-------------+---------+--------------------+--------------------+\n",
      "|Table_Name|     Progress|   Status|          Start_time|            End_time|\n",
      "+----------+-------------+---------+--------------------+--------------------+\n",
      "|   EV_Data|Ingest_Bronze|Completed|2024-12-05 19:18:...|2024-12-05 19:20:...|\n",
      "|   EV_Data|Ingest_Silver|Completed|2024-12-05 19:20:...|2024-12-05 19:21:...|\n",
      "|   EV_Data|  Ingest_Gold|Completed|2024-12-05 19:22:...|2024-12-05 19:24:...|\n",
      "+----------+-------------+---------+--------------------+--------------------+\n",
      "\n"
     ]
    }
   ],
   "source": [
    "update_audit_table(\"EV_Data\", progress=\"Ingest_Gold\", status=\"Completed\", end=True)"
   ]
  },
  {
   "cell_type": "code",
   "execution_count": null,
   "id": "b59e2d6a-eed5-4d07-946a-df94f9749597",
   "metadata": {},
   "outputs": [],
   "source": []
  }
 ],
 "metadata": {
  "kernelspec": {
   "display_name": "Python 3 (ipykernel)",
   "language": "python",
   "name": "python3"
  },
  "language_info": {
   "codemirror_mode": {
    "name": "ipython",
    "version": 3
   },
   "file_extension": ".py",
   "mimetype": "text/x-python",
   "name": "python",
   "nbconvert_exporter": "python",
   "pygments_lexer": "ipython3",
   "version": "3.10.10"
  }
 },
 "nbformat": 4,
 "nbformat_minor": 5
}
