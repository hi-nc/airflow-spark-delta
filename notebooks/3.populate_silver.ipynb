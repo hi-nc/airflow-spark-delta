{
 "cells": [
  {
   "cell_type": "code",
   "execution_count": 83,
   "id": "d2548dd4-2fec-49f4-ac49-e5b92f8cb054",
   "metadata": {
    "tags": []
   },
   "outputs": [],
   "source": [
    "from pyspark.sql.functions import when, col, regexp_replace, trim\n",
    "from pyspark.sql import SparkSession\n",
    "from pyspark.sql.functions import from_json, col, explode, explode_outer, split\n",
    "from pyspark.sql.types import StringType, IntegerType, StructType, StructField\n",
    "from pyspark.sql.functions import col\n",
    "from pyspark.sql.types import ArrayType,StructType\n",
    "import json\n",
    "\n",
    "import pyspark\n",
    "from pyspark import SparkConf, SparkContext\n",
    "from delta import *\n",
    "from pyspark.sql.functions import col, when, md5, concat_ws, lit\n",
    "from pyspark.sql.types import StringType, StructType, StructField, TimestampType\n",
    "from pyspark.sql.functions import *\n",
    "from datetime import datetime\n",
    " \n",
    "builder = pyspark.sql.SparkSession.builder.appName(\"ReadDelta\") \\\n",
    ".config(\"spark.jars.packages\", \"io.delta:delta-core_2.12:2.3.0\") \\\n",
    ".config(\"spark.sql.extensions\", \"io.delta.sql.DeltaSparkSessionExtension\") \\\n",
    ".config(\"spark.sql.catalog.spark_catalog\", \"org.apache.spark.sql.delta.catalog.DeltaCatalog\")\n",
    " \n",
    "spark = configure_spark_with_delta_pip(builder).getOrCreate()"
   ]
  },
  {
   "cell_type": "code",
   "execution_count": 84,
   "id": "9a70c861-f334-4434-b5b3-806a0f8f265e",
   "metadata": {
    "tags": []
   },
   "outputs": [
    {
     "data": {
      "text/plain": [
       "DataFrame[]"
      ]
     },
     "execution_count": 84,
     "metadata": {},
     "output_type": "execute_result"
    }
   ],
   "source": [
    "spark.sql(f\"DROP DATABASE IF EXISTS silver CASCADE\")\n",
    "spark.sql(f\"CREATE DATABASE IF NOT EXISTS silver\") "
   ]
  },
  {
   "cell_type": "code",
   "execution_count": 85,
   "id": "1527467c-f892-4136-b6cc-e3e1ea848300",
   "metadata": {
    "tags": []
   },
   "outputs": [
    {
     "name": "stdout",
     "output_type": "stream",
     "text": [
      "+----------+-------------+-----------+--------------------+--------+\n",
      "|Table_Name|     Progress|     Status|          Start_time|End_time|\n",
      "+----------+-------------+-----------+--------------------+--------+\n",
      "|   EV_Data|Ingest_Bronze|In_Progress|2024-12-05 19:14:...|    null|\n",
      "+----------+-------------+-----------+--------------------+--------+\n",
      "\n",
      "+----------+----------+-----------+--------+\n",
      "|Layer_Name|Table_Name|Schema_Flag|Md5_Hash|\n",
      "+----------+----------+-----------+--------+\n",
      "+----------+----------+-----------+--------+\n",
      "\n",
      "+----------+----------+-----------+--------------------+\n",
      "|Layer_Name|Table_Name|Schema_Flag|            Md5_Hash|\n",
      "+----------+----------+-----------+--------------------+\n",
      "|    Bronze|   EV_Data|          N|99b6b6813c00543c7...|\n",
      "+----------+----------+-----------+--------------------+\n",
      "\n",
      "check_and_store_md5_result-True\n",
      "+------------------+--------------------+--------+----------+------------+----------+------------+----+----------+-----------+-----------+-----+-----------+----------+---------+-------+---------------------+-----------------------------------------------+--------------+---------+--------------------+--------------+--------------------+--------------------+-----------------+--------+-----------------------+---------------------------------------+\n",
      "|               sid|                  id|position|created_at|created_meta|updated_at|updated_meta|meta|  VIN_1_10|     County|       City|State|Postal_Code|Model_Year|     Make|  Model|Electric_Vehicle_Type|Clean_Alternative_Fuel_Vehicle_CAFV_Eligibility|Electric_Range|Base_MSRP|Legislative_District|DOL_Vehicle_ID|    Vehicle_Location|    Electric_Utility|2020_Census_Tract|Counties|Congressional_Districts|WAOFM_GIS_Legislative_District_Boundary|\n",
      "+------------------+--------------------+--------+----------+------------+----------+------------+----+----------+-----------+-----------+-----+-----------+----------+---------+-------+---------------------+-----------------------------------------------+--------------+---------+--------------------+--------------+--------------------+--------------------+-----------------+--------+-----------------------+---------------------------------------+\n",
      "|row-zt4k~iszy.uhv6|00000000-0000-000...|       0|1676414233|        null|1676414284|        null| { }|5YJ3E1EA8J|  San Diego|  Oceanside|   CA|      92051|      2018|    TESLA|MODEL 3| Battery Electric ...|                           Clean Alternative...|           215|        0|                null|     153998050|                null|                null|      06073018509|    null|                   null|                                   null|\n",
      "|row-5r58~kb8y.789r|00000000-0000-000...|       0|1676414233|        null|1676414284|        null| { }|3FA6P0PU7H|   Sedgwick|      Derby|   KS|      67037|      2017|     FORD| FUSION| Plug-in Hybrid El...|                           Not eligible due ...|            21|        0|                null|     138214331|POINT (-97.27013 ...|                null|      20173009801|    1291|                   null|                                   null|\n",
      "|row-84ix~3wif_u9ju|00000000-0000-000...|       0|1676414233|        null|1676414298|        null| { }|1N4AZ0CP8D|  Snohomish| Marysville|   WA|      98271|      2013|   NISSAN|   LEAF| Battery Electric ...|                           Clean Alternative...|            75|        0|                  38|       3129059|POINT (-122.19388...|PUGET SOUND ENERG...|      53061052805|    3213|                      2|                                     40|\n",
      "|row-wiar-siae_sed9|00000000-0000-000...|       0|1676414233|        null|1676414298|        null| { }|WBY8P8C58K|     Kitsap|  Bremerton|   WA|      98337|      2019|      BMW|     I3| Plug-in Hybrid El...|                           Clean Alternative...|           126|        0|                  26|     166525635|POINT (-122.62749...|PUGET SOUND ENERG...|      53035080500|     848|                      6|                                     33|\n",
      "|row-abd5~finn.nzkg|00000000-0000-000...|       0|1676414233|        null|1676414298|        null| { }|5YJ3E1EA7K|  Snohomish|    Edmonds|   WA|      98026|      2019|    TESLA|MODEL 3| Battery Electric ...|                           Clean Alternative...|           220|        0|                  32|     475248315|POINT (-122.31768...|PUGET SOUND ENERG...|      53061050800|    3213|                      2|                                      7|\n",
      "|row-9qmp.7c6z.3ncd|00000000-0000-000...|       0|1676414233|        null|1676414298|        null| { }|1G1FZ6S07L|Walla Walla|Walla Walla|   WA|      99362|      2020|CHEVROLET|BOLT EV| Battery Electric ...|                           Clean Alternative...|           259|        0|                  16|     150312991|POINT (-118.34261...|          PACIFICORP|      53071920702|    2743|                      5|                                     23|\n",
      "|row-qnct~snmi~bfh6|00000000-0000-000...|       0|1676414233|        null|1676414298|        null| { }|KNDCC3LG1L|  Snohomish|    Everett|   WA|      98204|      2020|      KIA|   NIRO| Battery Electric ...|                           Clean Alternative...|           239|        0|                  21|     152471728|POINT (-122.25527...|PUGET SOUND ENERG...|      53061041905|    3213|                      2|                                      7|\n",
      "|row-isc5~dgtb~rt8i|00000000-0000-000...|       0|1676414233|        null|1676414298|        null| { }|1N4AZ0CP5D|     Island| Oak Harbor|   WA|      98277|      2013|   NISSAN|   LEAF| Battery Electric ...|                           Clean Alternative...|            75|        0|                  10|     234850367|POINT (-122.64682...|PUGET SOUND ENERG...|      53029970300|    3007|                      2|                                     16|\n",
      "|row-un7y_4v74~he2e|00000000-0000-000...|       0|1676414233|        null|1676414298|        null| { }|5YJ3E1EA1L|  Snohomish|    Bothell|   WA|      98021|      2020|    TESLA|MODEL 3| Battery Electric ...|                           Clean Alternative...|           266|        0|                   1|     110771972|POINT (-122.18384...|PUGET SOUND ENERG...|      53061051937|    3213|                      1|                                      1|\n",
      "|row-ynhd~9n9n_nrh6|00000000-0000-000...|       0|1676414233|        null|1676414298|        null| { }|5YJ3E1EB8K|   Thurston|    Olympia|   WA|      98501|      2019|    TESLA|MODEL 3| Battery Electric ...|                           Clean Alternative...|           220|        0|                  22|     477769939|POINT (-122.89166...|PUGET SOUND ENERG...|      53067010700|    2742|                     10|                                     28|\n",
      "+------------------+--------------------+--------+----------+------------+----------+------------+----+----------+-----------+-----------+-----+-----------+----------+---------+-------+---------------------+-----------------------------------------------+--------------+---------+--------------------+--------------+--------------------+--------------------+-----------------+--------+-----------------------+---------------------------------------+\n",
      "\n"
     ]
    },
    {
     "data": {
      "text/plain": [
       "DataFrame[sid: string, id: string, position: string, created_at: string, created_meta: string, updated_at: string, updated_meta: string, meta: string, VIN_1_10: string, County: string, City: string, State: string, Postal_Code: string, Model_Year: string, Make: string, Model: string, Electric_Vehicle_Type: string, Clean_Alternative_Fuel_Vehicle_CAFV_Eligibility: string, Electric_Range: string, Base_MSRP: string, Legislative_District: string, DOL_Vehicle_ID: string, Vehicle_Location: string, Electric_Utility: string, 2020_Census_Tract: string, Counties: string, Congressional_Districts: string, WAOFM_GIS_Legislative_District_Boundary: string]"
      ]
     },
     "metadata": {},
     "output_type": "display_data"
    },
    {
     "name": "stdout",
     "output_type": "stream",
     "text": [
      "+----------+-------------+-----------+--------------------+--------+\n",
      "|Table_Name|     Progress|     Status|          Start_time|End_time|\n",
      "+----------+-------------+-----------+--------------------+--------+\n",
      "|   EV_Data|Ingest_Bronze|In_Progress|2024-12-05 19:14:...|    null|\n",
      "+----------+-------------+-----------+--------------------+--------+\n",
      "\n",
      "+----------+-------------+-----------+--------------------+--------+\n",
      "|Table_Name|     Progress|     Status|          Start_time|End_time|\n",
      "+----------+-------------+-----------+--------------------+--------+\n",
      "|   EV_Data|Ingest_Bronze|In_Progress|2024-12-05 19:14:...|    null|\n",
      "+----------+-------------+-----------+--------------------+--------+\n",
      "\n",
      "+----------+-------------+---------+--------------------+--------------------+\n",
      "|Table_Name|     Progress|   Status|          Start_time|            End_time|\n",
      "+----------+-------------+---------+--------------------+--------------------+\n",
      "|   EV_Data|Ingest_Bronze|Completed|2024-12-05 19:14:...|2024-12-05 19:14:...|\n",
      "+----------+-------------+---------+--------------------+--------------------+\n",
      "\n"
     ]
    }
   ],
   "source": [
    "%run \"/home/jovyan/work/notebooks/2.populate_bronze.ipynb\""
   ]
  },
  {
   "cell_type": "code",
   "execution_count": 86,
   "id": "0f041375-1d3a-4b7a-aa1b-cd10224124d6",
   "metadata": {
    "tags": []
   },
   "outputs": [
    {
     "name": "stdout",
     "output_type": "stream",
     "text": [
      "+----------+-------------+-----------+--------------------+--------+\n",
      "|Table_Name|     Progress|     Status|          Start_time|End_time|\n",
      "+----------+-------------+-----------+--------------------+--------+\n",
      "|   EV_Data|Ingest_Silver|In_Progress|2024-12-05 19:14:...|    null|\n",
      "+----------+-------------+-----------+--------------------+--------+\n",
      "\n"
     ]
    }
   ],
   "source": [
    "update_audit_table(\"EV_Data\", progress=\"Ingest_Silver\", status=\"In_Progress\", start=True)"
   ]
  },
  {
   "cell_type": "code",
   "execution_count": 87,
   "id": "3bb867e4-542d-48bc-8543-8e3ddd1f47ed",
   "metadata": {
    "tags": []
   },
   "outputs": [
    {
     "name": "stdout",
     "output_type": "stream",
     "text": [
      "+------------+------------+\n",
      "|        name|dataTypeName|\n",
      "+------------+------------+\n",
      "|         sid|   meta_data|\n",
      "|          id|   meta_data|\n",
      "|    position|   meta_data|\n",
      "|  created_at|   meta_data|\n",
      "|created_meta|   meta_data|\n",
      "|  updated_at|   meta_data|\n",
      "|updated_meta|   meta_data|\n",
      "|        meta|   meta_data|\n",
      "|  VIN (1-10)|        text|\n",
      "|      County|        text|\n",
      "+------------+------------+\n",
      "\n",
      "+------------+------------+------------+\n",
      "|        name|dataTypeName|SQL_DataType|\n",
      "+------------+------------+------------+\n",
      "|         sid|   meta_data|      STRING|\n",
      "|          id|   meta_data|      STRING|\n",
      "|    position|   meta_data|      STRING|\n",
      "|  created_at|   meta_data|      STRING|\n",
      "|created_meta|   meta_data|      STRING|\n",
      "|  updated_at|   meta_data|      STRING|\n",
      "|updated_meta|   meta_data|      STRING|\n",
      "|        meta|   meta_data|      STRING|\n",
      "|    VIN_1_10|        text|      STRING|\n",
      "|      County|        text|      STRING|\n",
      "+------------+------------+------------+\n",
      "\n",
      "\n",
      "CREATE TABLE if not exists silver.ev_std (\n",
      "    `sid` STRING, `id` STRING, `position` STRING, `created_at` STRING, `created_meta` STRING, `updated_at` STRING, `updated_meta` STRING, `meta` STRING, `VIN_1_10` STRING, `County` STRING, `City` STRING, `State` STRING, `Postal_Code` STRING, `Model_Year` STRING, `Make` STRING, `Model` STRING, `Electric_Vehicle_Type` STRING, `Clean_Alternative_Fuel_Vehicle_CAFV_Eligibility` STRING, `Electric_Range` DOUBLE, `Base_MSRP` DOUBLE, `Legislative_District` DOUBLE, `DOL_Vehicle_ID` STRING, `Vehicle_Location` STRING, `Electric_Utility` STRING, `2020_Census_Tract` STRING, `Counties` DOUBLE, `Congressional_Districts` DOUBLE, `WAOFM_GIS_Legislative_District_Boundary` DOUBLE\n",
      ") USING DELTA \n",
      "\n",
      "Table silver.ev_std has been created successfully.\n"
     ]
    }
   ],
   "source": [
    "from pyspark.sql.functions import when, col, regexp_replace, trim\n",
    "\n",
    "# Step 1: Define your database and table names\n",
    "bronze_database_name = \"bronze\"\n",
    "columns_metadata_table = \"columns_metadata\"\n",
    "silver_database_name = \"silver\"\n",
    "new_table_name = \"ev_std\"\n",
    "\n",
    "# Step 2: Fetch the schema of your original table (columns metadata)\n",
    "df = spark.sql(f\"SELECT name, dataTypeName FROM {bronze_database_name}.{columns_metadata_table}\")\n",
    "df.limit(10).show()\n",
    "\n",
    "# Step 3: Apply the mapping to convert your custom dataTypeName to actual SQL data types\n",
    "df_with_sql_types = df.withColumn(\n",
    "    \"SQL_DataType\",\n",
    "    when(df.dataTypeName == \"number\", \"DOUBLE\")\n",
    "    .when(df.dataTypeName == \"text\", \"STRING\")\n",
    "    .when(df.dataTypeName == \"point\", \"STRING\")\n",
    "    .when(df.dataTypeName == \"meta_data\", \"STRING\")\n",
    "    .otherwise(\"UNKNOWN\")\n",
    ")\n",
    "\n",
    "# Step 4: Correct only the 'name' column by replacing spaces and dashes with underscores using regexp_replace\n",
    "df_with_sql_types = df_with_sql_types.withColumn(\n",
    "    \"name\",\n",
    "    regexp_replace(col(\"name\"), \"[^a-zA-Z0-9]+\", \"_\")\n",
    ")\n",
    "df_with_sql_types = df_with_sql_types.withColumn(\n",
    "    \"name\",\n",
    "    trim(regexp_replace(col(\"name\"), \"^_+|_+$\", \"\"))\n",
    ")\n",
    "\n",
    "# Step 5: Display the corrected schema with column names and data types\n",
    "df_with_sql_types.limit(10).show()\n",
    "\n",
    "# Step 6: Generate the CREATE TABLE statement based on the corrected schema\n",
    "columns_with_types = [\n",
    "    f\"`{row['name']}` {row['SQL_DataType']}\" for row in df_with_sql_types.collect()\n",
    "]\n",
    "\n",
    "create_table_statement = f\"\"\"\n",
    "CREATE TABLE if not exists {silver_database_name}.{new_table_name} (\n",
    "    {', '.join(columns_with_types)}\n",
    ") USING DELTA \n",
    "\"\"\"\n",
    "\n",
    "# Step 7: Print the CREATE TABLE statement for verification\n",
    "print(create_table_statement)\n",
    "\n",
    "# Execute the SQL statement to create the new table\n",
    "spark.sql(create_table_statement)\n",
    "\n",
    "# Confirm the table has been created successfully\n",
    "print(f\"Table {silver_database_name}.{new_table_name} has been created successfully.\")\n"
   ]
  },
  {
   "cell_type": "code",
   "execution_count": 88,
   "id": "33bb2ffa-c7ba-4962-8983-92cbd837096a",
   "metadata": {
    "tags": []
   },
   "outputs": [],
   "source": [
    "def data_type_correction(bronze_df):\n",
    "    \n",
    "    bronze_df = bronze_df.withColumn(\"created_at\", bronze_df[\"created_at\"].cast(DoubleType()))\\\n",
    "                        .withColumn(\"updated_at\", bronze_df[\"updated_at\"].cast(DoubleType()))\\\n",
    "                        .withColumn(\"Postal_Code\", bronze_df[\"Postal_code\"].cast(DoubleType()))\\\n",
    "                        .withColumn(\"Model_year\", bronze_df[\"Model_year\"].cast(DoubleType()))\\\n",
    "                        .withColumn(\"2020_Census_Tract\", bronze_df[\"2020_Census_Tract\"].cast(DoubleType()))\\\n",
    "                        .withColumn(\"Counties\", bronze_df[\"Counties\"].cast(DoubleType()))\\\n",
    "                        .withColumn(\"Electric_Range\", bronze_df[\"Electric_Range\"].cast(DoubleType()))\\\n",
    "                        .withColumn(\"Base_MSRP\", bronze_df[\"Base_MSRP\"].cast(DoubleType()))\\\n",
    "                        .withColumn(\"Legislative_District\", bronze_df[\"Legislative_District\"].cast(DoubleType()))\\\n",
    "                        .withColumn(\"DOL_Vehicle_ID\", bronze_df[\"DOL_Vehicle_ID\"].cast(DoubleType()))\\\n",
    "                        .withColumn(\"Congressional_Districts\", bronze_df[\"Congressional_Districts\"].cast(DoubleType()))\\\n",
    "                        .withColumn(\"WAOFM_GIS_Legislative_District_Boundary\", bronze_df[\"WAOFM_GIS_Legislative_District_Boundary\"].cast(DoubleType()))\n",
    "    bronze_df = bronze_df.withColumn(\"created_at\",to_timestamp(from_unixtime(col(\"created_at\"))))\\\n",
    "                           .withColumn(\"updated_at\",to_timestamp(from_unixtime(col(\"updated_at\"))))\n",
    "\n",
    "    return bronze_df"
   ]
  },
  {
   "cell_type": "code",
   "execution_count": 89,
   "id": "393ed8ef-ca34-4228-8f9c-1fdc30820d66",
   "metadata": {
    "tags": []
   },
   "outputs": [],
   "source": [
    "def us_state_validation(bronze_df):\n",
    "\n",
    "    valid_states = ['AL', 'AK', 'AZ', 'AR', 'CA', 'CO', 'CT', 'DE', 'FL', 'GA', 'HI', 'ID', 'IL', 'IN', \n",
    "                'IA', 'KS', 'KY', 'LA', 'ME', 'MD', 'MA', 'MI', 'MN', 'MS', 'MO', 'MT', 'NE', 'NV', \n",
    "                'NH', 'NJ', 'NM', 'NY', 'NC', 'ND', 'OH', 'OK', 'OR', 'PA', 'RI', 'SC', 'SD', 'TN', \n",
    "                'TX', 'UT', 'VT', 'VA', 'WA', 'WV', 'WI', 'WY']\n",
    "    bronze_df = bronze_df.withColumn(\"err_code\", when(~col(\"State\").isin(valid_states), concat(col(\"err_code\"), lit(\"DQ01\"))).otherwise(col(\"err_code\")))\\\n",
    "    .withColumn(\"err_message\", when(~col(\"State\").isin(valid_states), concat(col(\"err_message\"), lit(\"Invalid Sate\"))).otherwise(col(\"err_message\")))\n",
    "    bronze_df = bronze_df.withColumn(\"err_flg\", when(col(\"err_code\") != \"\", \"Y\").otherwise(\"N\"))\n",
    "    return bronze_df"
   ]
  },
  {
   "cell_type": "code",
   "execution_count": 90,
   "id": "688d90bb-d1af-4630-8f00-5b32798fbbdf",
   "metadata": {
    "tags": []
   },
   "outputs": [],
   "source": [
    "def null_check(bronze_df):\n",
    "    # List of columns to check for null values, excluding the specified ones\n",
    "    columns = [col_name for col_name in bronze_df.columns if col_name not in [\"err_code\", \"err_message\", \"updated_meta\", \"created_meta\"]]\n",
    "\n",
    "    # Initialize null check for all columns together, so we only add error once\n",
    "    null_condition = None\n",
    "\n",
    "    for column in columns:\n",
    "        # Create a condition to check if any of the columns has a null value\n",
    "        column_null_condition = col(column).isNull()\n",
    "        if null_condition is None:\n",
    "            null_condition = column_null_condition\n",
    "        else:\n",
    "            null_condition = null_condition | column_null_condition\n",
    "\n",
    "    # Apply the error code and message only once if any column has a null value\n",
    "    bronze_df = bronze_df.withColumn(\n",
    "        \"err_code\",\n",
    "        when((instr(col(\"err_code\"), \"DQ02\") == 0) & null_condition, \n",
    "             concat(col(\"err_code\"), lit(\"DQ02 \"))\n",
    "        ).otherwise(col(\"err_code\"))\n",
    "    ).withColumn(\n",
    "        \"err_message\",\n",
    "        when((instr(col(\"err_message\"), \"Null value\") == 0) & null_condition, \n",
    "             concat(col(\"err_message\"), lit(\"Null value \"))\n",
    "        ).otherwise(col(\"err_message\"))\n",
    "    )\n",
    "    \n",
    "    # Adding a final flag to indicate if there are any errors\n",
    "    bronze_df = bronze_df.withColumn(\"err_flg\", when(col(\"err_code\") != \"\", lit(\"Y\")).otherwise(lit(\"N\")))\n",
    "\n",
    "    return bronze_df\n"
   ]
  },
  {
   "cell_type": "code",
   "execution_count": 91,
   "id": "4e285e4c-950b-4b94-87dd-858e7060ca89",
   "metadata": {
    "tags": []
   },
   "outputs": [],
   "source": [
    "def numeric_check(bronze_df):\n",
    "    # List of numeric columns only\n",
    "    numeric_columns = [field.name for field in bronze_df.schema.fields if field.dataType.simpleString() in ['int', 'double', 'float', 'long', 'decimal']]\n",
    "\n",
    "    # Initialize numeric check for all columns together, so we only add error once\n",
    "    invalid_numeric_condition = None\n",
    "\n",
    "    for column in numeric_columns:\n",
    "        # Create a condition to check if any of the columns has an invalid numeric value (NaN)\n",
    "        column_invalid_condition = isnan(col(column))  # Check only for NaN (exclude nulls)\n",
    "\n",
    "        # Combine conditions across all numeric columns\n",
    "        if invalid_numeric_condition is None:\n",
    "            invalid_numeric_condition = column_invalid_condition\n",
    "        else:\n",
    "            invalid_numeric_condition = invalid_numeric_condition | column_invalid_condition\n",
    "\n",
    "    # Apply the error code and message only once if any column has an invalid numeric value\n",
    "    bronze_df = bronze_df.withColumn(\n",
    "        \"err_code\",\n",
    "        when((instr(col(\"err_code\"), \"DQ04\") == 0) & invalid_numeric_condition, \n",
    "             concat(col(\"err_code\"), lit(\"DQ04 \"))\n",
    "        ).otherwise(col(\"err_code\"))\n",
    "    ).withColumn(\n",
    "        \"err_message\",\n",
    "        when((instr(col(\"err_message\"), \"Invalid Numeric Value\") == 0) & invalid_numeric_condition, \n",
    "             concat(col(\"err_message\"), lit(\"Invalid Numeric Value \"))\n",
    "        ).otherwise(col(\"err_message\"))\n",
    "    )\n",
    "\n",
    "    # Adding a final flag to indicate if there are any errors\n",
    "    bronze_df = bronze_df.withColumn(\"err_flg\", when(col(\"err_code\") != \"\", lit(\"Y\")).otherwise(lit(\"N\")))\n",
    "\n",
    "    return bronze_df"
   ]
  },
  {
   "cell_type": "code",
   "execution_count": 92,
   "id": "f2d49cfa-e6bb-4277-8af9-ed30b24904e6",
   "metadata": {
    "tags": []
   },
   "outputs": [],
   "source": [
    "def year_check(bronze_df):\n",
    "    current_year = datetime.now().year\n",
    "    \n",
    "    # Corrected the parentheses to ensure correct logical operation order\n",
    "    bronze_df = bronze_df.withColumn(\n",
    "        \"err_code\", \n",
    "        when((col(\"Model_year\") <= current_year) & (col(\"Model_year\") < 1900),\n",
    "             concat(col(\"err_code\"), lit(\"DQ03 \"))\n",
    "        ).otherwise(col(\"err_code\"))\n",
    "    )\n",
    "    \n",
    "    bronze_df = bronze_df.withColumn(\n",
    "        \"err_message\", \n",
    "        when((col(\"Model_year\") <= current_year) & (col(\"Model_year\") < 1900),\n",
    "             concat(col(\"err_message\"), lit(\"Invalid Model Year \"))\n",
    "        ).otherwise(col(\"err_message\"))\n",
    "    )\n",
    "\n",
    "    bronze_df = bronze_df.withColumn(\"err_flg\", when(col(\"err_code\") != \"\", lit(\"Y\")).otherwise(lit(\"N\")))\n",
    "    \n",
    "    return bronze_df"
   ]
  },
  {
   "cell_type": "code",
   "execution_count": 93,
   "id": "1cf0b8fe-c4ef-4019-861b-4cc4fbb540ca",
   "metadata": {
    "tags": []
   },
   "outputs": [
    {
     "name": "stdout",
     "output_type": "stream",
     "text": [
      "+------------------+--------------------+--------+-------------------+------------+-------------------+------------+----+----------+-----------+-----------+-----+-----------+----------+---------+-------+---------------------+-----------------------------------------------+--------------+---------+--------------------+--------------+--------------------+--------------------+-----------------+--------+-----------------------+---------------------------------------+--------+-----------+-------+\n",
      "|               sid|                  id|position|         created_at|created_meta|         updated_at|updated_meta|meta|  VIN_1_10|     County|       City|State|Postal_Code|Model_year|     Make|  Model|Electric_Vehicle_Type|Clean_Alternative_Fuel_Vehicle_CAFV_Eligibility|Electric_Range|Base_MSRP|Legislative_District|DOL_Vehicle_ID|    Vehicle_Location|    Electric_Utility|2020_Census_Tract|Counties|Congressional_Districts|WAOFM_GIS_Legislative_District_Boundary|err_code|err_message|err_flg|\n",
      "+------------------+--------------------+--------+-------------------+------------+-------------------+------------+----+----------+-----------+-----------+-----+-----------+----------+---------+-------+---------------------+-----------------------------------------------+--------------+---------+--------------------+--------------+--------------------+--------------------+-----------------+--------+-----------------------+---------------------------------------+--------+-----------+-------+\n",
      "|row-zt4k~iszy.uhv6|00000000-0000-000...|       0|2023-02-14 22:37:13|        null|2023-02-14 22:38:04|        null| { }|5YJ3E1EA8J|  San Diego|  Oceanside|   CA|    92051.0|    2018.0|    TESLA|MODEL 3| Battery Electric ...|                           Clean Alternative...|         215.0|      0.0|                null|   1.5399805E8|                null|                null|    6.073018509E9|    null|                   null|                                   null|   DQ02 |Null value |      Y|\n",
      "|row-5r58~kb8y.789r|00000000-0000-000...|       0|2023-02-14 22:37:13|        null|2023-02-14 22:38:04|        null| { }|3FA6P0PU7H|   Sedgwick|      Derby|   KS|    67037.0|    2017.0|     FORD| FUSION| Plug-in Hybrid El...|                           Not eligible due ...|          21.0|      0.0|                null|  1.38214331E8|POINT (-97.27013 ...|                null|  2.0173009801E10|  1291.0|                   null|                                   null|   DQ02 |Null value |      Y|\n",
      "|row-84ix~3wif_u9ju|00000000-0000-000...|       0|2023-02-14 22:37:13|        null|2023-02-14 22:38:18|        null| { }|1N4AZ0CP8D|  Snohomish| Marysville|   WA|    98271.0|    2013.0|   NISSAN|   LEAF| Battery Electric ...|                           Clean Alternative...|          75.0|      0.0|                38.0|     3129059.0|POINT (-122.19388...|PUGET SOUND ENERG...|  5.3061052805E10|  3213.0|                    2.0|                                   40.0|        |           |      N|\n",
      "|row-wiar-siae_sed9|00000000-0000-000...|       0|2023-02-14 22:37:13|        null|2023-02-14 22:38:18|        null| { }|WBY8P8C58K|     Kitsap|  Bremerton|   WA|    98337.0|    2019.0|      BMW|     I3| Plug-in Hybrid El...|                           Clean Alternative...|         126.0|      0.0|                26.0|  1.66525635E8|POINT (-122.62749...|PUGET SOUND ENERG...|    5.30350805E10|   848.0|                    6.0|                                   33.0|        |           |      N|\n",
      "|row-abd5~finn.nzkg|00000000-0000-000...|       0|2023-02-14 22:37:13|        null|2023-02-14 22:38:18|        null| { }|5YJ3E1EA7K|  Snohomish|    Edmonds|   WA|    98026.0|    2019.0|    TESLA|MODEL 3| Battery Electric ...|                           Clean Alternative...|         220.0|      0.0|                32.0|  4.75248315E8|POINT (-122.31768...|PUGET SOUND ENERG...|    5.30610508E10|  3213.0|                    2.0|                                    7.0|        |           |      N|\n",
      "|row-9qmp.7c6z.3ncd|00000000-0000-000...|       0|2023-02-14 22:37:13|        null|2023-02-14 22:38:18|        null| { }|1G1FZ6S07L|Walla Walla|Walla Walla|   WA|    99362.0|    2020.0|CHEVROLET|BOLT EV| Battery Electric ...|                           Clean Alternative...|         259.0|      0.0|                16.0|  1.50312991E8|POINT (-118.34261...|          PACIFICORP|  5.3071920702E10|  2743.0|                    5.0|                                   23.0|        |           |      N|\n",
      "|row-qnct~snmi~bfh6|00000000-0000-000...|       0|2023-02-14 22:37:13|        null|2023-02-14 22:38:18|        null| { }|KNDCC3LG1L|  Snohomish|    Everett|   WA|    98204.0|    2020.0|      KIA|   NIRO| Battery Electric ...|                           Clean Alternative...|         239.0|      0.0|                21.0|  1.52471728E8|POINT (-122.25527...|PUGET SOUND ENERG...|  5.3061041905E10|  3213.0|                    2.0|                                    7.0|        |           |      N|\n",
      "|row-isc5~dgtb~rt8i|00000000-0000-000...|       0|2023-02-14 22:37:13|        null|2023-02-14 22:38:18|        null| { }|1N4AZ0CP5D|     Island| Oak Harbor|   WA|    98277.0|    2013.0|   NISSAN|   LEAF| Battery Electric ...|                           Clean Alternative...|          75.0|      0.0|                10.0|  2.34850367E8|POINT (-122.64682...|PUGET SOUND ENERG...|    5.30299703E10|  3007.0|                    2.0|                                   16.0|        |           |      N|\n",
      "|row-un7y_4v74~he2e|00000000-0000-000...|       0|2023-02-14 22:37:13|        null|2023-02-14 22:38:18|        null| { }|5YJ3E1EA1L|  Snohomish|    Bothell|   WA|    98021.0|    2020.0|    TESLA|MODEL 3| Battery Electric ...|                           Clean Alternative...|         266.0|      0.0|                 1.0|  1.10771972E8|POINT (-122.18384...|PUGET SOUND ENERG...|  5.3061051937E10|  3213.0|                    1.0|                                    1.0|        |           |      N|\n",
      "|row-ynhd~9n9n_nrh6|00000000-0000-000...|       0|2023-02-14 22:37:13|        null|2023-02-14 22:38:18|        null| { }|5YJ3E1EB8K|   Thurston|    Olympia|   WA|    98501.0|    2019.0|    TESLA|MODEL 3| Battery Electric ...|                           Clean Alternative...|         220.0|      0.0|                22.0|  4.77769939E8|POINT (-122.89166...|PUGET SOUND ENERG...|    5.30670107E10|  2742.0|                   10.0|                                   28.0|        |           |      N|\n",
      "+------------------+--------------------+--------+-------------------+------------+-------------------+------------+----+----------+-----------+-----------+-----+-----------+----------+---------+-------+---------------------+-----------------------------------------------+--------------+---------+--------------------+--------------+--------------------+--------------------+-----------------+--------+-----------------------+---------------------------------------+--------+-----------+-------+\n",
      "\n"
     ]
    }
   ],
   "source": [
    "from pyspark.sql.functions import col, when, concat, lit, instr, isnan, to_timestamp, from_unixtime\n",
    "from pyspark.sql.types import TimestampType, DoubleType\n",
    "from datetime import datetime\n",
    "\n",
    "source_database_name = \"bronze\"\n",
    "source_table_name = \"vehicle_data\" \n",
    "bronze_df = spark.sql(f\"SELECT * FROM {source_database_name}.{source_table_name}\")\n",
    "bronze_df = bronze_df.withColumn(\"err_code\", lit(\"\")).withColumn(\"err_message\", lit(\"\"))\n",
    "bronze_df = data_type_correction(bronze_df)\n",
    "bronze_df = null_check(bronze_df)\n",
    "bronze_df = year_check(bronze_df)\n",
    "bronze_df = numeric_check(bronze_df)\n",
    "# Create the table by writing data to it\n",
    "bronze_df.write.format(\"delta\").mode(\"overwrite\").saveAsTable(\"silver.vehicle_data\")\n",
    "bronze_df.limit(10).show()"
   ]
  },
  {
   "cell_type": "code",
   "execution_count": 94,
   "id": "7f99d67f-bb23-40d8-8b70-8a4182512020",
   "metadata": {
    "tags": []
   },
   "outputs": [
    {
     "name": "stdout",
     "output_type": "stream",
     "text": [
      "+----------+-------------+-----------+--------------------+--------------------+\n",
      "|Table_Name|     Progress|     Status|          Start_time|            End_time|\n",
      "+----------+-------------+-----------+--------------------+--------------------+\n",
      "|   EV_Data|Ingest_Bronze|  Completed|2024-12-05 19:14:...|2024-12-05 19:14:...|\n",
      "|   EV_Data|Ingest_Silver|In_Progress|2024-12-05 19:14:...|                null|\n",
      "+----------+-------------+-----------+--------------------+--------------------+\n",
      "\n",
      "+----------+-------------+-----------+--------------------+--------+\n",
      "|Table_Name|     Progress|     Status|          Start_time|End_time|\n",
      "+----------+-------------+-----------+--------------------+--------+\n",
      "|   EV_Data|Ingest_Silver|In_Progress|2024-12-05 19:14:...|    null|\n",
      "+----------+-------------+-----------+--------------------+--------+\n",
      "\n",
      "+----------+-------------+---------+--------------------+--------------------+\n",
      "|Table_Name|     Progress|   Status|          Start_time|            End_time|\n",
      "+----------+-------------+---------+--------------------+--------------------+\n",
      "|   EV_Data|Ingest_Bronze|Completed|2024-12-05 19:14:...|2024-12-05 19:14:...|\n",
      "|   EV_Data|Ingest_Silver|Completed|2024-12-05 19:14:...|2024-12-05 19:16:...|\n",
      "+----------+-------------+---------+--------------------+--------------------+\n",
      "\n"
     ]
    }
   ],
   "source": [
    "update_audit_table(\"EV_Data\", progress=\"Ingest_Silver\", status=\"Completed\", end=True)"
   ]
  },
  {
   "cell_type": "code",
   "execution_count": null,
   "id": "6d47746f-6465-4a2f-adf0-600dc6ba8f90",
   "metadata": {},
   "outputs": [],
   "source": []
  }
 ],
 "metadata": {
  "kernelspec": {
   "display_name": "Python 3 (ipykernel)",
   "language": "python",
   "name": "python3"
  },
  "language_info": {
   "codemirror_mode": {
    "name": "ipython",
    "version": 3
   },
   "file_extension": ".py",
   "mimetype": "text/x-python",
   "name": "python",
   "nbconvert_exporter": "python",
   "pygments_lexer": "ipython3",
   "version": "3.10.10"
  }
 },
 "nbformat": 4,
 "nbformat_minor": 5
}
