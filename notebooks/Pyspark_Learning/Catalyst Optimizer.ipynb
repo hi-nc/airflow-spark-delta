{
 "cells": [
  {
   "cell_type": "code",
   "execution_count": null,
   "metadata": {
    "application/vnd.databricks.v1+cell": {
     "cellMetadata": {},
     "inputWidgets": {},
     "nuid": "958f0ee7-58ab-4d6c-ae9b-9f3074e1011b",
     "showTitle": false,
     "tableResultSettingsMap": {},
     "title": ""
    }
   },
   "outputs": [],
   "source": [
    "Scala Program that automatically finds the most efficient plan to execute data operations in the user code\n",
    "\n",
    "Scope of Optimization\n",
    "\n",
    "1.Predicate or Projection Pushdown - In multiple joins, reduce the number of records to small count \n",
    "2.Rearrange filter - pushes filter that has most conditions on top to eliminate most data\n",
    "3.If else statement\n",
    "4.Replace Regular expression \n",
    "\n",
    "Available in Dataframe and Dataset only\n",
    "\n",
    "RDD vs Dataframe:\n",
    "    both are same in immutability,resilient,distributed\n",
    "    DF contains schema but rdd doesnt.In DF, Cost based or rule based optiomers can be applied."
   ]
  }
 ],
 "metadata": {
  "application/vnd.databricks.v1+notebook": {
   "computePreferences": null,
   "dashboards": [],
   "environmentMetadata": null,
   "language": "python",
   "notebookMetadata": {
    "pythonIndentUnit": 4
   },
   "notebookName": "Catalyst Optimizer",
   "widgets": {}
  },
  "kernelspec": {
   "display_name": "Python 3 (ipykernel)",
   "language": "python",
   "name": "python3"
  },
  "language_info": {
   "codemirror_mode": {
    "name": "ipython",
    "version": 3
   },
   "file_extension": ".py",
   "mimetype": "text/x-python",
   "name": "python",
   "nbconvert_exporter": "python",
   "pygments_lexer": "ipython3",
   "version": "3.10.10"
  }
 },
 "nbformat": 4,
 "nbformat_minor": 4
}
