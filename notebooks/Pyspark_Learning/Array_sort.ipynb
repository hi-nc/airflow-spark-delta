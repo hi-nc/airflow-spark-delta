{
 "cells": [
  {
   "cell_type": "code",
   "execution_count": null,
   "id": "85f8c6d5-9a99-46fb-b0d0-8ae52c49be13",
   "metadata": {},
   "outputs": [],
   "source": [
    "The array_sort() function in PySpark is used to sort an array in ascending order."
   ]
  },
  {
   "cell_type": "code",
   "execution_count": 2,
   "id": "60510d5c-1cf5-4637-815e-e158a522d7f5",
   "metadata": {
    "tags": []
   },
   "outputs": [
    {
     "name": "stdout",
     "output_type": "stream",
     "text": [
      "+----------+----------------------------+----------------------------+\n",
      "|department|salaries                    |sorted_salaries             |\n",
      "+----------+----------------------------+----------------------------+\n",
      "|Sales     |[70000, 80000, 65000, 75000]|[65000, 70000, 75000, 80000]|\n",
      "|HR        |[60000, 75000, 70000, 72000]|[60000, 70000, 72000, 75000]|\n",
      "|IT        |[90000, 85000, 95000, 80000]|[80000, 85000, 90000, 95000]|\n",
      "+----------+----------------------------+----------------------------+\n",
      "\n"
     ]
    }
   ],
   "source": [
    "from pyspark.sql import SparkSession\n",
    "from pyspark.sql.functions import array_sort\n",
    "\n",
    "# Initialize Spark session\n",
    "spark = SparkSession.builder.master(\"local[1]\") \\\n",
    "                    .appName('SparkByExamples.com') \\\n",
    "                    .getOrCreate()\n",
    "\n",
    "\n",
    "# Sample Data: Employee Salaries in Different Departments\n",
    "data = [\n",
    "    (\"Sales\", [70000, 80000, 65000, 75000]),\n",
    "    (\"HR\", [60000, 75000, 70000, 72000]),\n",
    "    (\"IT\", [90000, 85000, 95000, 80000])\n",
    "]\n",
    "\n",
    "# Create DataFrame\n",
    "df = spark.createDataFrame(data, [\"department\", \"salaries\"])\n",
    "\n",
    "# Sort the salaries using array_sort()\n",
    "df = df.withColumn(\"sorted_salaries\", array_sort(\"salaries\"))\n",
    "\n",
    "# Show results\n",
    "df.show(truncate=False)\n"
   ]
  },
  {
   "cell_type": "code",
   "execution_count": null,
   "id": "3aea3a3d-e600-416d-9456-5b75def23559",
   "metadata": {},
   "outputs": [],
   "source": []
  }
 ],
 "metadata": {
  "kernelspec": {
   "display_name": "Python 3 (ipykernel)",
   "language": "python",
   "name": "python3"
  },
  "language_info": {
   "codemirror_mode": {
    "name": "ipython",
    "version": 3
   },
   "file_extension": ".py",
   "mimetype": "text/x-python",
   "name": "python",
   "nbconvert_exporter": "python",
   "pygments_lexer": "ipython3",
   "version": "3.10.10"
  }
 },
 "nbformat": 4,
 "nbformat_minor": 5
}
