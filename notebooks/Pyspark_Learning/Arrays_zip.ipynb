{
 "cells": [
  {
   "cell_type": "code",
   "execution_count": null,
   "id": "e1264f1f-23c3-4c69-bc43-2d34b63a70a9",
   "metadata": {},
   "outputs": [],
   "source": [
    "The arrays_zip() function in PySpark is used to merge multiple arrays into an array of structs, pairing corresponding elements together."
   ]
  },
  {
   "cell_type": "code",
   "execution_count": 1,
   "id": "0fd39ee0-b965-43f7-a660-11b610de207f",
   "metadata": {
    "tags": []
   },
   "outputs": [
    {
     "name": "stdout",
     "output_type": "stream",
     "text": [
      "+------------------+------------+------------------------------------+\n",
      "|names             |ages        |zipped_array                        |\n",
      "+------------------+------------+------------------------------------+\n",
      "|[John, Alice, Bob]|[25, 30, 22]|[{John, 25}, {Alice, 30}, {Bob, 22}]|\n",
      "|[Mike, Emma]      |[40, 35]    |[{Mike, 40}, {Emma, 35}]            |\n",
      "+------------------+------------+------------------------------------+\n",
      "\n"
     ]
    }
   ],
   "source": [
    "from pyspark.sql import SparkSession\n",
    "from pyspark.sql.functions import arrays_zip\n",
    "\n",
    "# Initialize Spark session\n",
    "spark = SparkSession.builder.master(\"local[1]\") \\\n",
    "                    .appName('SparkByExamples.com') \\\n",
    "                    .getOrCreate()\n",
    "\n",
    "# Sample Data\n",
    "data = [\n",
    "    ([\"John\", \"Alice\", \"Bob\"], [25, 30, 22]),  # Names & corresponding ages\n",
    "    ([\"Mike\", \"Emma\"], [40, 35])              # Another set\n",
    "]\n",
    "df = spark.createDataFrame(data, [\"names\", \"ages\"])\n",
    "\n",
    "# Use arrays_zip() to combine names and ages into a single array of structs\n",
    "df = df.withColumn(\"zipped_array\", arrays_zip(\"names\", \"ages\"))\n",
    "\n",
    "# Show results\n",
    "df.show(truncate=False)\n"
   ]
  },
  {
   "cell_type": "code",
   "execution_count": 2,
   "id": "94189451-7f59-49d1-8aa0-0f2421de400f",
   "metadata": {
    "tags": []
   },
   "outputs": [
    {
     "name": "stdout",
     "output_type": "stream",
     "text": [
      "+------------------+------------+------------------------------------+-----------+\n",
      "|names             |ages        |zipped_array                        |person     |\n",
      "+------------------+------------+------------------------------------+-----------+\n",
      "|[John, Alice, Bob]|[25, 30, 22]|[{John, 25}, {Alice, 30}, {Bob, 22}]|{John, 25} |\n",
      "|[John, Alice, Bob]|[25, 30, 22]|[{John, 25}, {Alice, 30}, {Bob, 22}]|{Alice, 30}|\n",
      "|[John, Alice, Bob]|[25, 30, 22]|[{John, 25}, {Alice, 30}, {Bob, 22}]|{Bob, 22}  |\n",
      "|[Mike, Emma]      |[40, 35]    |[{Mike, 40}, {Emma, 35}]            |{Mike, 40} |\n",
      "|[Mike, Emma]      |[40, 35]    |[{Mike, 40}, {Emma, 35}]            |{Emma, 35} |\n",
      "+------------------+------------+------------------------------------+-----------+\n",
      "\n"
     ]
    }
   ],
   "source": [
    "from pyspark.sql.functions import explode\n",
    "\n",
    "df_exploded = df.withColumn(\"person\", explode(\"zipped_array\"))\n",
    "df_exploded.show(truncate=False)\n"
   ]
  },
  {
   "cell_type": "code",
   "execution_count": 4,
   "id": "48e01f38-66b8-4b34-9b12-b504e0cbe1bc",
   "metadata": {
    "tags": []
   },
   "outputs": [
    {
     "name": "stdout",
     "output_type": "stream",
     "text": [
      "root\n",
      " |-- Department: string (nullable = true)\n",
      " |-- Employee: array (nullable = true)\n",
      " |    |-- element: map (containsNull = true)\n",
      " |    |    |-- key: string\n",
      " |    |    |-- value: string (valueContainsNull = true)\n",
      "\n",
      "+----------+------------------------------------------------------------------------------------------------------------------------------------------------------------------------------------------------------------------+\n",
      "|Department|Employee                                                                                                                                                                                                          |\n",
      "+----------+------------------------------------------------------------------------------------------------------------------------------------------------------------------------------------------------------------------+\n",
      "|Sales     |[{employee_name -> John, salary -> 10000, age -> 32}, {employee_name -> Alice, salary -> 7500, age -> 30}, {employee_name -> Bob, salary -> 8500, age -> 31}, {employee_name -> Cathy, salary -> 6800, age -> 28}]|\n",
      "|HR        |[{employee_name -> Emma, salary -> 5000, age -> 24}, {employee_name -> Sofia, salary -> 7000, age -> 31}, {employee_name -> Katy, salary -> 8000, age -> 32}, {employee_name -> Perry, salary -> 6000, age -> 25}]|\n",
      "+----------+------------------------------------------------------------------------------------------------------------------------------------------------------------------------------------------------------------------+\n",
      "\n"
     ]
    }
   ],
   "source": [
    "# Sample Employee Data\n",
    "data = [\n",
    "    ('Sales',\n",
    "     [{'employee_name':'John','salary':'10000','age':'32'},\n",
    "      {'employee_name':'Alice','salary':'7500','age':'30'},\n",
    "      {'employee_name':'Bob','salary':'8500','age':'31'},\n",
    "      {'employee_name':'Cathy','salary':'6800','age':'28'}]\n",
    "     ),\n",
    "    \n",
    "    ('HR', \n",
    "     [{'employee_name':'Emma','salary':'5000','age':'24'},\n",
    "      {'employee_name':'Sofia','salary':'7000','age':'31'},\n",
    "      {'employee_name':'Katy','salary':'8000','age':'32'},\n",
    "      {'employee_name':'Perry','salary':'6000','age':'25'}])\n",
    "]\n",
    "\n",
    "# Create DataFrame\n",
    "df2 = spark.createDataFrame(data, [\"Department\", \"Employee\"])\n",
    "df2.printSchema()\n",
    "# Show initial data\n",
    "df2.show(truncate=False)"
   ]
  },
  {
   "cell_type": "code",
   "execution_count": 10,
   "id": "2494893e-139d-45d9-a5d0-f3b10a1e30d2",
   "metadata": {
    "tags": []
   },
   "outputs": [
    {
     "name": "stdout",
     "output_type": "stream",
     "text": [
      "+----------+------------------------------------------------------------------------------------------------------------------------------------------------------------------------------------------------------------------+--------------------------------------------------------------------------------------------------------------------------------------------------------------------------------------------------------------------------+\n",
      "|Department|Employee                                                                                                                                                                                                          |zipped_Emparray                                                                                                                                                                                                           |\n",
      "+----------+------------------------------------------------------------------------------------------------------------------------------------------------------------------------------------------------------------------+--------------------------------------------------------------------------------------------------------------------------------------------------------------------------------------------------------------------------+\n",
      "|Sales     |[{employee_name -> John, salary -> 10000, age -> 32}, {employee_name -> Alice, salary -> 7500, age -> 30}, {employee_name -> Bob, salary -> 8500, age -> 31}, {employee_name -> Cathy, salary -> 6800, age -> 28}]|[{{employee_name -> John, salary -> 10000, age -> 32}}, {{employee_name -> Alice, salary -> 7500, age -> 30}}, {{employee_name -> Bob, salary -> 8500, age -> 31}}, {{employee_name -> Cathy, salary -> 6800, age -> 28}}]|\n",
      "|HR        |[{employee_name -> Emma, salary -> 5000, age -> 24}, {employee_name -> Sofia, salary -> 7000, age -> 31}, {employee_name -> Katy, salary -> 8000, age -> 32}, {employee_name -> Perry, salary -> 6000, age -> 25}]|[{{employee_name -> Emma, salary -> 5000, age -> 24}}, {{employee_name -> Sofia, salary -> 7000, age -> 31}}, {{employee_name -> Katy, salary -> 8000, age -> 32}}, {{employee_name -> Perry, salary -> 6000, age -> 25}}]|\n",
      "+----------+------------------------------------------------------------------------------------------------------------------------------------------------------------------------------------------------------------------+--------------------------------------------------------------------------------------------------------------------------------------------------------------------------------------------------------------------------+\n",
      "\n"
     ]
    }
   ],
   "source": [
    "df3 = df2.withColumn(\"zipped_Emparray\", arrays_zip(df2[\"Employee\"]))\n",
    "df3.show(truncate=False)"
   ]
  },
  {
   "cell_type": "code",
   "execution_count": 12,
   "id": "e7b16b8c-28bd-4b1d-8dcf-9c66fd02e24e",
   "metadata": {
    "tags": []
   },
   "outputs": [
    {
     "name": "stdout",
     "output_type": "stream",
     "text": [
      "+----------+--------------------+--------------------+--------------------+\n",
      "|Department|            Employee|     zipped_Emparray|             Explode|\n",
      "+----------+--------------------+--------------------+--------------------+\n",
      "|     Sales|[{employee_name -...|[{{employee_name ...|{{employee_name -...|\n",
      "|     Sales|[{employee_name -...|[{{employee_name ...|{{employee_name -...|\n",
      "|     Sales|[{employee_name -...|[{{employee_name ...|{{employee_name -...|\n",
      "|     Sales|[{employee_name -...|[{{employee_name ...|{{employee_name -...|\n",
      "|        HR|[{employee_name -...|[{{employee_name ...|{{employee_name -...|\n",
      "|        HR|[{employee_name -...|[{{employee_name ...|{{employee_name -...|\n",
      "|        HR|[{employee_name -...|[{{employee_name ...|{{employee_name -...|\n",
      "|        HR|[{employee_name -...|[{{employee_name ...|{{employee_name -...|\n",
      "+----------+--------------------+--------------------+--------------------+\n",
      "\n"
     ]
    }
   ],
   "source": [
    "df4 = df3.withColumn(\"Explode\",explode(df3[\"zipped_Emparray\"]))\n",
    "df4.show()"
   ]
  },
  {
   "cell_type": "code",
   "execution_count": 19,
   "id": "9caf13c1-1ba3-4a30-a296-8290c46fa642",
   "metadata": {
    "tags": []
   },
   "outputs": [
    {
     "name": "stdout",
     "output_type": "stream",
     "text": [
      "+----------+-------------+------+---+\n",
      "|Department|employee_name|salary|age|\n",
      "+----------+-------------+------+---+\n",
      "|Sales     |John         |10000 |32 |\n",
      "|Sales     |Alice        |7500  |30 |\n",
      "|Sales     |Bob          |8500  |31 |\n",
      "|Sales     |Cathy        |6800  |28 |\n",
      "|HR        |Emma         |5000  |24 |\n",
      "|HR        |Sofia        |7000  |31 |\n",
      "|HR        |Katy         |8000  |32 |\n",
      "|HR        |Perry        |6000  |25 |\n",
      "+----------+-------------+------+---+\n",
      "\n"
     ]
    }
   ],
   "source": [
    "df5 = df4.withColumn(\"employee_name\",df4[\"Explode.Employee.employee_name\"]).withColumn(\"salary\",df4[\"Explode.Employee.salary\"]).withColumn(\"age\",df4[\"Explode.Employee.age\"]).drop(\"zipped_Emparray\").drop(\"Explode\").drop(\"Employee\")\n",
    "df5.show(truncate=False)        "
   ]
  },
  {
   "cell_type": "code",
   "execution_count": null,
   "id": "c7609019-4952-46a8-af24-6796d3f4c8a9",
   "metadata": {},
   "outputs": [],
   "source": []
  }
 ],
 "metadata": {
  "kernelspec": {
   "display_name": "Python 3 (ipykernel)",
   "language": "python",
   "name": "python3"
  },
  "language_info": {
   "codemirror_mode": {
    "name": "ipython",
    "version": 3
   },
   "file_extension": ".py",
   "mimetype": "text/x-python",
   "name": "python",
   "nbconvert_exporter": "python",
   "pygments_lexer": "ipython3",
   "version": "3.10.10"
  }
 },
 "nbformat": 4,
 "nbformat_minor": 5
}
