{
 "cells": [
  {
   "cell_type": "code",
   "execution_count": null,
   "id": "8a260e3d-8c6b-4a65-b1ef-47f41c55efa9",
   "metadata": {},
   "outputs": [],
   "source": [
    "The arrays_except() function in PySpark returns the elements from the first array that are NOT present in the second array. It works like a set difference operation."
   ]
  },
  {
   "cell_type": "code",
   "execution_count": 2,
   "id": "95517d40-1f69-4809-b600-93b32dc7c448",
   "metadata": {
    "tags": []
   },
   "outputs": [
    {
     "name": "stdout",
     "output_type": "stream",
     "text": [
      "+----------+------------------------+----------------------+--------------+\n",
      "|department|team_A                  |team_B                |only_in_team_A|\n",
      "+----------+------------------------+----------------------+--------------+\n",
      "|Sales     |[John, Alice, Bob, Mike]|[Alice, Mike, David]  |[John, Bob]   |\n",
      "|HR        |[Emma, Sophia, Olivia]  |[Sophia, Liam, Olivia]|[Emma]        |\n",
      "|IT        |[Ryan, Noah, Ava]       |[Mason, Ava, Noah]    |[Ryan]        |\n",
      "+----------+------------------------+----------------------+--------------+\n",
      "\n"
     ]
    }
   ],
   "source": [
    "from pyspark.sql import SparkSession\n",
    "from pyspark.sql.functions import array_except\n",
    "\n",
    "# Initialize Spark session\n",
    "spark = SparkSession.builder.master(\"local[1]\") \\\n",
    "                    .appName('SparkByExamples.com') \\\n",
    "                    .getOrCreate()\n",
    "\n",
    "# Sample Data: Employees in Team A and Team B\n",
    "data = [\n",
    "    (\"Sales\", [\"John\", \"Alice\", \"Bob\", \"Mike\"], [\"Alice\", \"Mike\", \"David\"]),\n",
    "    (\"HR\", [\"Emma\", \"Sophia\", \"Olivia\"], [\"Sophia\", \"Liam\", \"Olivia\"]),\n",
    "    (\"IT\", [\"Ryan\", \"Noah\", \"Ava\"], [\"Mason\", \"Ava\", \"Noah\"])\n",
    "]\n",
    "\n",
    "# Create DataFrame\n",
    "df = spark.createDataFrame(data, [\"department\", \"team_A\", \"team_B\"])\n",
    "\n",
    "# Find employees who are in Team A but NOT in Team B\n",
    "df = df.withColumn(\"only_in_team_A\", array_except(\"team_A\", \"team_B\"))\n",
    "\n",
    "# Show results\n",
    "df.show(truncate=False)\n"
   ]
  },
  {
   "cell_type": "code",
   "execution_count": null,
   "id": "c8e0b70a-42a7-47d0-99d6-045e1fc5aa1d",
   "metadata": {},
   "outputs": [],
   "source": []
  }
 ],
 "metadata": {
  "kernelspec": {
   "display_name": "Python 3 (ipykernel)",
   "language": "python",
   "name": "python3"
  },
  "language_info": {
   "codemirror_mode": {
    "name": "ipython",
    "version": 3
   },
   "file_extension": ".py",
   "mimetype": "text/x-python",
   "name": "python",
   "nbconvert_exporter": "python",
   "pygments_lexer": "ipython3",
   "version": "3.10.10"
  }
 },
 "nbformat": 4,
 "nbformat_minor": 5
}
