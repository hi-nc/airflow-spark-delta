{
 "cells": [
  {
   "cell_type": "code",
   "execution_count": null,
   "metadata": {
    "application/vnd.databricks.v1+cell": {
     "cellMetadata": {},
     "inputWidgets": {},
     "nuid": "e658448c-2e79-410f-9a96-a79c4aca7956",
     "showTitle": false,
     "tableResultSettingsMap": {},
     "title": ""
    }
   },
   "outputs": [],
   "source": [
    "Snappy - low CPU utilization,low compression rate,splittable,Hot layer(acess files multiple times),Compute intensive\n",
    "Gzip - high CPU utilization,High compression rate,non splittable,Cold layer(less frequently accessible),Storage Intensive"
   ]
  },
  {
   "cell_type": "code",
   "execution_count": null,
   "metadata": {
    "application/vnd.databricks.v1+cell": {
     "cellMetadata": {
      "byteLimit": 2048000,
      "rowLimit": 10000
     },
     "inputWidgets": {},
     "nuid": "aeeab2a1-74eb-445c-a54a-ad298f108d35",
     "showTitle": false,
     "tableResultSettingsMap": {},
     "title": ""
    }
   },
   "outputs": [
    {
     "data": {
      "text/html": [
       "<style scoped>\n",
       "  .table-result-container {\n",
       "    max-height: 300px;\n",
       "    overflow: auto;\n",
       "  }\n",
       "  table, th, td {\n",
       "    border: 1px solid black;\n",
       "    border-collapse: collapse;\n",
       "  }\n",
       "  th, td {\n",
       "    padding: 5px;\n",
       "  }\n",
       "  th {\n",
       "    text-align: left;\n",
       "  }\n",
       "</style><div class='table-result-container'><table class='table-result'><thead style='background-color: white'><tr><th>user</th><th>department</th><th>designation</th></tr></thead><tbody><tr><td>1</td><td>it</td><td>software </td></tr><tr><td>2</td><td>sales</td><td>data analyst</td></tr><tr><td>3</td><td>other</td><td>trainer</td></tr><tr><td>4</td><td>it</td><td>data analyst</td></tr><tr><td>5</td><td>sales</td><td>marketing</td></tr><tr><td>6</td><td>it</td><td>data analyst</td></tr></tbody></table></div>"
      ]
     },
     "metadata": {
      "application/vnd.databricks.v1+output": {
       "addedWidgets": {},
       "aggData": [],
       "aggError": "",
       "aggOverflow": false,
       "aggSchema": [],
       "aggSeriesLimitReached": false,
       "aggType": "",
       "arguments": {},
       "columnCustomDisplayInfos": {},
       "data": [
        [
         1,
         "it",
         "software "
        ],
        [
         2,
         "sales",
         "data analyst"
        ],
        [
         3,
         "other",
         "trainer"
        ],
        [
         4,
         "it",
         "data analyst"
        ],
        [
         5,
         "sales",
         "marketing"
        ],
        [
         6,
         "it",
         "data analyst"
        ]
       ],
       "datasetInfos": [],
       "dbfsResultPath": null,
       "isJsonSchema": true,
       "metadata": {},
       "overflow": false,
       "plotOptions": {
        "customPlotOptions": {},
        "displayType": "table",
        "pivotAggregation": null,
        "pivotColumns": null,
        "xColumns": null,
        "yColumns": null
       },
       "removedWidgets": [],
       "schema": [
        {
         "metadata": "{}",
         "name": "user",
         "type": "\"integer\""
        },
        {
         "metadata": "{}",
         "name": "department",
         "type": "\"string\""
        },
        {
         "metadata": "{}",
         "name": "designation",
         "type": "\"string\""
        }
       ],
       "type": "table"
      }
     },
     "output_type": "display_data"
    }
   ],
   "source": [
    "df = spark.read.option(\"inferSchema\",True).option('sep',\",\").option(\"header\",True).csv(\"/FileStore/tables/department.csv\")\n",
    "display(df)"
   ]
  },
  {
   "cell_type": "code",
   "execution_count": null,
   "metadata": {
    "application/vnd.databricks.v1+cell": {
     "cellMetadata": {
      "byteLimit": 2048000,
      "rowLimit": 10000
     },
     "inputWidgets": {},
     "nuid": "f7e86e94-1972-41b6-b192-fdef68cf9011",
     "showTitle": false,
     "tableResultSettingsMap": {},
     "title": ""
    }
   },
   "outputs": [],
   "source": [
    "df.write.format(\"parquet\").option(\"compression\",\"snappy\").save(\"/FileStore/tables/snappy_write\")"
   ]
  },
  {
   "cell_type": "code",
   "execution_count": null,
   "metadata": {
    "application/vnd.databricks.v1+cell": {
     "cellMetadata": {
      "byteLimit": 2048000,
      "rowLimit": 10000
     },
     "inputWidgets": {},
     "nuid": "bb723a3b-b935-442a-9f45-08eb825159d6",
     "showTitle": false,
     "tableResultSettingsMap": {},
     "title": ""
    }
   },
   "outputs": [
    {
     "data": {
      "text/html": [
       "<style scoped>\n",
       "  .table-result-container {\n",
       "    max-height: 300px;\n",
       "    overflow: auto;\n",
       "  }\n",
       "  table, th, td {\n",
       "    border: 1px solid black;\n",
       "    border-collapse: collapse;\n",
       "  }\n",
       "  th, td {\n",
       "    padding: 5px;\n",
       "  }\n",
       "  th {\n",
       "    text-align: left;\n",
       "  }\n",
       "</style><div class='table-result-container'><table class='table-result'><thead style='background-color: white'><tr><th>path</th><th>name</th><th>size</th><th>modificationTime</th></tr></thead><tbody><tr><td>dbfs:/FileStore/tables/snappy_write/_SUCCESS</td><td>_SUCCESS</td><td>0</td><td>1729805270000</td></tr><tr><td>dbfs:/FileStore/tables/snappy_write/_committed_6112553179287212165</td><td>_committed_6112553179287212165</td><td>122</td><td>1729805270000</td></tr><tr><td>dbfs:/FileStore/tables/snappy_write/_started_6112553179287212165</td><td>_started_6112553179287212165</td><td>0</td><td>1729805268000</td></tr><tr><td>dbfs:/FileStore/tables/snappy_write/part-00000-tid-6112553179287212165-7a7db1ed-7825-476c-9eb9-5e8898ed26da-3-1-c000.snappy.parquet</td><td>part-00000-tid-6112553179287212165-7a7db1ed-7825-476c-9eb9-5e8898ed26da-3-1-c000.snappy.parquet</td><td>1237</td><td>1729805270000</td></tr></tbody></table></div>"
      ]
     },
     "metadata": {
      "application/vnd.databricks.v1+output": {
       "addedWidgets": {},
       "aggData": [],
       "aggError": "",
       "aggOverflow": false,
       "aggSchema": [],
       "aggSeriesLimitReached": false,
       "aggType": "",
       "arguments": {},
       "columnCustomDisplayInfos": {},
       "data": [
        [
         "dbfs:/FileStore/tables/snappy_write/_SUCCESS",
         "_SUCCESS",
         0,
         1729805270000
        ],
        [
         "dbfs:/FileStore/tables/snappy_write/_committed_6112553179287212165",
         "_committed_6112553179287212165",
         122,
         1729805270000
        ],
        [
         "dbfs:/FileStore/tables/snappy_write/_started_6112553179287212165",
         "_started_6112553179287212165",
         0,
         1729805268000
        ],
        [
         "dbfs:/FileStore/tables/snappy_write/part-00000-tid-6112553179287212165-7a7db1ed-7825-476c-9eb9-5e8898ed26da-3-1-c000.snappy.parquet",
         "part-00000-tid-6112553179287212165-7a7db1ed-7825-476c-9eb9-5e8898ed26da-3-1-c000.snappy.parquet",
         1237,
         1729805270000
        ]
       ],
       "datasetInfos": [],
       "dbfsResultPath": null,
       "isJsonSchema": true,
       "metadata": {
        "isDbfsCommandResult": false
       },
       "overflow": false,
       "plotOptions": {
        "customPlotOptions": {},
        "displayType": "table",
        "pivotAggregation": null,
        "pivotColumns": null,
        "xColumns": null,
        "yColumns": null
       },
       "removedWidgets": [],
       "schema": [
        {
         "metadata": "{}",
         "name": "path",
         "type": "\"string\""
        },
        {
         "metadata": "{}",
         "name": "name",
         "type": "\"string\""
        },
        {
         "metadata": "{}",
         "name": "size",
         "type": "\"long\""
        },
        {
         "metadata": "{}",
         "name": "modificationTime",
         "type": "\"long\""
        }
       ],
       "type": "table"
      }
     },
     "output_type": "display_data"
    }
   ],
   "source": [
    "%fs\n",
    "ls /FileStore/tables/snappy_write"
   ]
  },
  {
   "cell_type": "code",
   "execution_count": null,
   "metadata": {
    "application/vnd.databricks.v1+cell": {
     "cellMetadata": {
      "byteLimit": 2048000,
      "rowLimit": 10000
     },
     "inputWidgets": {},
     "nuid": "839a274b-0be6-46d5-88ee-dc8b22aebf7d",
     "showTitle": false,
     "tableResultSettingsMap": {},
     "title": ""
    }
   },
   "outputs": [],
   "source": [
    "df.write.format(\"parquet\").option(\"compression\",\"gzip\").save(\"/FileStore/tables/gzip_write\")"
   ]
  },
  {
   "cell_type": "code",
   "execution_count": null,
   "metadata": {
    "application/vnd.databricks.v1+cell": {
     "cellMetadata": {
      "byteLimit": 2048000,
      "rowLimit": 10000
     },
     "inputWidgets": {},
     "nuid": "9dac0a5b-d4cf-4e03-b993-5e6fd7c40abd",
     "showTitle": false,
     "tableResultSettingsMap": {},
     "title": ""
    }
   },
   "outputs": [
    {
     "data": {
      "text/html": [
       "<style scoped>\n",
       "  .table-result-container {\n",
       "    max-height: 300px;\n",
       "    overflow: auto;\n",
       "  }\n",
       "  table, th, td {\n",
       "    border: 1px solid black;\n",
       "    border-collapse: collapse;\n",
       "  }\n",
       "  th, td {\n",
       "    padding: 5px;\n",
       "  }\n",
       "  th {\n",
       "    text-align: left;\n",
       "  }\n",
       "</style><div class='table-result-container'><table class='table-result'><thead style='background-color: white'><tr><th>path</th><th>name</th><th>size</th><th>modificationTime</th></tr></thead><tbody><tr><td>dbfs:/FileStore/tables/gzip_write/_SUCCESS</td><td>_SUCCESS</td><td>0</td><td>1729805334000</td></tr><tr><td>dbfs:/FileStore/tables/gzip_write/_committed_2181510541176156097</td><td>_committed_2181510541176156097</td><td>118</td><td>1729805334000</td></tr><tr><td>dbfs:/FileStore/tables/gzip_write/_started_2181510541176156097</td><td>_started_2181510541176156097</td><td>0</td><td>1729805333000</td></tr><tr><td>dbfs:/FileStore/tables/gzip_write/part-00000-tid-2181510541176156097-e350a2c7-a9c7-4bd9-8b72-d66879687b8a-4-1-c000.gz.parquet</td><td>part-00000-tid-2181510541176156097-e350a2c7-a9c7-4bd9-8b72-d66879687b8a-4-1-c000.gz.parquet</td><td>1314</td><td>1729805333000</td></tr></tbody></table></div>"
      ]
     },
     "metadata": {
      "application/vnd.databricks.v1+output": {
       "addedWidgets": {},
       "aggData": [],
       "aggError": "",
       "aggOverflow": false,
       "aggSchema": [],
       "aggSeriesLimitReached": false,
       "aggType": "",
       "arguments": {},
       "columnCustomDisplayInfos": {},
       "data": [
        [
         "dbfs:/FileStore/tables/gzip_write/_SUCCESS",
         "_SUCCESS",
         0,
         1729805334000
        ],
        [
         "dbfs:/FileStore/tables/gzip_write/_committed_2181510541176156097",
         "_committed_2181510541176156097",
         118,
         1729805334000
        ],
        [
         "dbfs:/FileStore/tables/gzip_write/_started_2181510541176156097",
         "_started_2181510541176156097",
         0,
         1729805333000
        ],
        [
         "dbfs:/FileStore/tables/gzip_write/part-00000-tid-2181510541176156097-e350a2c7-a9c7-4bd9-8b72-d66879687b8a-4-1-c000.gz.parquet",
         "part-00000-tid-2181510541176156097-e350a2c7-a9c7-4bd9-8b72-d66879687b8a-4-1-c000.gz.parquet",
         1314,
         1729805333000
        ]
       ],
       "datasetInfos": [],
       "dbfsResultPath": null,
       "isJsonSchema": true,
       "metadata": {
        "isDbfsCommandResult": false
       },
       "overflow": false,
       "plotOptions": {
        "customPlotOptions": {},
        "displayType": "table",
        "pivotAggregation": null,
        "pivotColumns": null,
        "xColumns": null,
        "yColumns": null
       },
       "removedWidgets": [],
       "schema": [
        {
         "metadata": "{}",
         "name": "path",
         "type": "\"string\""
        },
        {
         "metadata": "{}",
         "name": "name",
         "type": "\"string\""
        },
        {
         "metadata": "{}",
         "name": "size",
         "type": "\"long\""
        },
        {
         "metadata": "{}",
         "name": "modificationTime",
         "type": "\"long\""
        }
       ],
       "type": "table"
      }
     },
     "output_type": "display_data"
    }
   ],
   "source": [
    "%fs\n",
    "ls /FileStore/tables/gzip_write"
   ]
  }
 ],
 "metadata": {
  "application/vnd.databricks.v1+notebook": {
   "computePreferences": null,
   "dashboards": [],
   "environmentMetadata": null,
   "language": "python",
   "notebookMetadata": {
    "mostRecentlyExecutedCommandWithImplicitDF": {
     "commandId": 292361957385351,
     "dataframes": [
      "_sqldf"
     ]
    },
    "pythonIndentUnit": 4
   },
   "notebookName": "Compression methods Snappy vs Gzip",
   "widgets": {}
  },
  "kernelspec": {
   "display_name": "Python 3 (ipykernel)",
   "language": "python",
   "name": "python3"
  },
  "language_info": {
   "codemirror_mode": {
    "name": "ipython",
    "version": 3
   },
   "file_extension": ".py",
   "mimetype": "text/x-python",
   "name": "python",
   "nbconvert_exporter": "python",
   "pygments_lexer": "ipython3",
   "version": "3.10.10"
  }
 },
 "nbformat": 4,
 "nbformat_minor": 4
}
