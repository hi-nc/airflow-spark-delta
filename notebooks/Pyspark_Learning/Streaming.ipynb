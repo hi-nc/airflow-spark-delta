{
 "cells": [
  {
   "cell_type": "code",
   "execution_count": null,
   "metadata": {
    "application/vnd.databricks.v1+cell": {
     "cellMetadata": {
      "byteLimit": 2048000,
      "rowLimit": 10000
     },
     "inputWidgets": {},
     "nuid": "ccc1576a-d395-42ee-9cde-cb20b0c13abb",
     "showTitle": false,
     "tableResultSettingsMap": {},
     "title": ""
    }
   },
   "outputs": [],
   "source": [
    "from pyspark.sql.types import *\n",
    "\n",
    "schema = StructType([\n",
    "    StructField(\"File\",StringType(),True),\n",
    "    StructField(\"Shop\",StringType(),True),\n",
    "    StructField(\"Sales_count\",IntegerType(),True)\n",
    "])"
   ]
  },
  {
   "cell_type": "code",
   "execution_count": null,
   "metadata": {
    "application/vnd.databricks.v1+cell": {
     "cellMetadata": {
      "byteLimit": 2048000,
      "rowLimit": 10000
     },
     "inputWidgets": {},
     "nuid": "8ede03ad-2613-49cd-af6f-e936f6622ee4",
     "showTitle": false,
     "tableResultSettingsMap": {},
     "title": ""
    }
   },
   "outputs": [
    {
     "name": "stdout",
     "output_type": "stream",
     "text": [
      "Out[10]: True"
     ]
    }
   ],
   "source": [
    "dbutils.fs.mkdirs(\"/FileStore/tables/stream_checkpoint/\")\n",
    "dbutils.fs.mkdirs(\"/FileStore/tables/stream_read/\")\n",
    "dbutils.fs.mkdirs(\"/FileStore/tables/stream_write/\")\n",
    "\n",
    "#dbutils.fs.rm(\"/FileStore/tables/stream_checkpoint/\",True)\n",
    "#dbutils.fs.rm(\"/FileStore/tables/stream_read/\",True)\n",
    "#dbutils.fs.rm(\"/FileStore/tables/stream_write/\",True)"
   ]
  },
  {
   "cell_type": "code",
   "execution_count": null,
   "metadata": {
    "application/vnd.databricks.v1+cell": {
     "cellMetadata": {
      "byteLimit": 2048000,
      "rowLimit": 10000
     },
     "inputWidgets": {},
     "nuid": "8250a216-4c68-4d9b-a2e0-a7bbac155e92",
     "showTitle": true,
     "tableResultSettingsMap": {},
     "title": "Reading Streaming data"
    }
   },
   "outputs": [
    {
     "data": {
      "text/html": [
       "<style scoped>\n",
       "  .table-result-container {\n",
       "    max-height: 300px;\n",
       "    overflow: auto;\n",
       "  }\n",
       "  table, th, td {\n",
       "    border: 1px solid black;\n",
       "    border-collapse: collapse;\n",
       "  }\n",
       "  th, td {\n",
       "    padding: 5px;\n",
       "  }\n",
       "  th {\n",
       "    text-align: left;\n",
       "  }\n",
       "</style><div class='table-result-container'><table class='table-result'><thead style='background-color: white'><tr><th>File</th><th>Shop</th><th>Sales_count</th></tr></thead><tbody><tr><td>File1</td><td>Amazon</td><td>100</td></tr><tr><td>File1</td><td>Flipkart</td><td>20</td></tr><tr><td>File1</td><td>Myntra</td><td>20</td></tr><tr><td>File1</td><td>Snapdeal</td><td>30</td></tr><tr><td>File1</td><td>Alibaba</td><td>null</td></tr><tr><td>File2</td><td>Amazon</td><td>100</td></tr><tr><td>File2</td><td>Flipkart</td><td>20</td></tr><tr><td>File2</td><td>Myntra</td><td>20</td></tr><tr><td>File2</td><td>Snapdeal</td><td>30</td></tr><tr><td>File2</td><td>Alibaba</td><td>null</td></tr><tr><td>File3</td><td>Amazon</td><td>100</td></tr><tr><td>File3</td><td>Flipkart</td><td>20</td></tr><tr><td>File3</td><td>Myntra</td><td>20</td></tr><tr><td>File3</td><td>Snapdeal</td><td>30</td></tr><tr><td>File3</td><td>Alibaba</td><td>null</td></tr><tr><td>File4</td><td>Amazon</td><td>100</td></tr><tr><td>File4</td><td>Flipkart</td><td>20</td></tr><tr><td>File4</td><td>Myntra</td><td>20</td></tr><tr><td>File4</td><td>Snapdeal</td><td>30</td></tr><tr><td>File4</td><td>Alibaba</td><td>null</td></tr><tr><td>File5</td><td>Amazon</td><td>100</td></tr><tr><td>File5</td><td>Flipkart</td><td>20</td></tr><tr><td>File5</td><td>Myntra</td><td>20</td></tr><tr><td>File5</td><td>Snapdeal</td><td>30</td></tr><tr><td>File5</td><td>Alibaba</td><td>null</td></tr></tbody></table></div>"
      ]
     },
     "metadata": {
      "application/vnd.databricks.v1+output": {
       "addedWidgets": {},
       "aggData": [],
       "aggError": "",
       "aggOverflow": false,
       "aggSchema": [],
       "aggSeriesLimitReached": false,
       "aggType": "",
       "arguments": {},
       "columnCustomDisplayInfos": {},
       "data": [
        [
         "File1",
         "Amazon",
         100
        ],
        [
         "File1",
         "Flipkart",
         20
        ],
        [
         "File1",
         "Myntra",
         20
        ],
        [
         "File1",
         "Snapdeal",
         30
        ],
        [
         "File1",
         "Alibaba",
         null
        ],
        [
         "File2",
         "Amazon",
         100
        ],
        [
         "File2",
         "Flipkart",
         20
        ],
        [
         "File2",
         "Myntra",
         20
        ],
        [
         "File2",
         "Snapdeal",
         30
        ],
        [
         "File2",
         "Alibaba",
         null
        ],
        [
         "File3",
         "Amazon",
         100
        ],
        [
         "File3",
         "Flipkart",
         20
        ],
        [
         "File3",
         "Myntra",
         20
        ],
        [
         "File3",
         "Snapdeal",
         30
        ],
        [
         "File3",
         "Alibaba",
         null
        ],
        [
         "File4",
         "Amazon",
         100
        ],
        [
         "File4",
         "Flipkart",
         20
        ],
        [
         "File4",
         "Myntra",
         20
        ],
        [
         "File4",
         "Snapdeal",
         30
        ],
        [
         "File4",
         "Alibaba",
         null
        ],
        [
         "File5",
         "Amazon",
         100
        ],
        [
         "File5",
         "Flipkart",
         20
        ],
        [
         "File5",
         "Myntra",
         20
        ],
        [
         "File5",
         "Snapdeal",
         30
        ],
        [
         "File5",
         "Alibaba",
         null
        ]
       ],
       "datasetInfos": [],
       "dbfsResultPath": null,
       "isJsonSchema": true,
       "metadata": {
        "isDbfsCommandResult": false
       },
       "overflow": false,
       "plotOptions": {
        "customPlotOptions": {},
        "displayType": "table",
        "pivotAggregation": null,
        "pivotColumns": null,
        "xColumns": null,
        "yColumns": null
       },
       "removedWidgets": [],
       "schema": [
        {
         "metadata": "{}",
         "name": "File",
         "type": "\"string\""
        },
        {
         "metadata": "{}",
         "name": "Shop",
         "type": "\"string\""
        },
        {
         "metadata": "{}",
         "name": "Sales_count",
         "type": "\"integer\""
        }
       ],
       "type": "table"
      }
     },
     "output_type": "display_data"
    }
   ],
   "source": [
    "df = spark.readStream.format(\"csv\").option(\"sep\",\";\").option(\"header\",True).schema(schema).load(\"/FileStore/tables/stream_read\")\n",
    "\n",
    "df1 = df.groupby(\"Shop\").sum(\"Sales_count\")\n",
    "display(df)\n",
    "display(df1)"
   ]
  },
  {
   "cell_type": "code",
   "execution_count": null,
   "metadata": {
    "application/vnd.databricks.v1+cell": {
     "cellMetadata": {
      "byteLimit": 2048000,
      "rowLimit": 10000
     },
     "inputWidgets": {},
     "nuid": "f91bf021-42b7-43bf-bb24-78f23f8101ff",
     "showTitle": true,
     "tableResultSettingsMap": {},
     "title": "Writing Streaming data"
    }
   },
   "outputs": [
    {
     "data": {
      "text/html": [
       "<style scoped>\n",
       "  .ansiout {\n",
       "    display: block;\n",
       "    unicode-bidi: embed;\n",
       "    white-space: pre-wrap;\n",
       "    word-wrap: break-word;\n",
       "    word-break: break-all;\n",
       "    font-family: \"Menlo\", \"Monaco\", \"Consolas\", \"Ubuntu Mono\", \"Source Code Pro\", monospace;\n",
       "    font-size: 13px;\n",
       "    color: #555;\n",
       "    margin-left: 4px;\n",
       "    line-height: 19px;\n",
       "  }\n",
       "</style>"
      ]
     },
     "metadata": {
      "application/vnd.databricks.v1+output": {
       "arguments": {},
       "data": "",
       "errorSummary": "Cancelled",
       "errorTraceType": "html",
       "metadata": {},
       "type": "ipynbError"
      }
     },
     "output_type": "display_data"
    }
   ],
   "source": [
    "df4 = df.writeStream.format(\"parquet\").outputMode(\"append\").option(\"path\",\"/FileStore/tables/stream_write/\").option(\"checkpointLocation\",\"/FileStore/tables/stream_checkpoint/\").start().awaitTermination()\n",
    "\n",
    "\n"
   ]
  },
  {
   "cell_type": "code",
   "execution_count": null,
   "metadata": {
    "application/vnd.databricks.v1+cell": {
     "cellMetadata": {
      "byteLimit": 2048000,
      "rowLimit": 10000
     },
     "inputWidgets": {},
     "nuid": "a25dce06-f2f7-4729-8bbe-11c79518fb6e",
     "showTitle": false,
     "tableResultSettingsMap": {},
     "title": ""
    }
   },
   "outputs": [
    {
     "data": {
      "text/html": [
       "<style scoped>\n",
       "  .table-result-container {\n",
       "    max-height: 300px;\n",
       "    overflow: auto;\n",
       "  }\n",
       "  table, th, td {\n",
       "    border: 1px solid black;\n",
       "    border-collapse: collapse;\n",
       "  }\n",
       "  th, td {\n",
       "    padding: 5px;\n",
       "  }\n",
       "  th {\n",
       "    text-align: left;\n",
       "  }\n",
       "</style><div class='table-result-container'><table class='table-result'><thead style='background-color: white'><tr><th>File</th><th>Shop</th><th>Sales_count</th></tr></thead><tbody><tr><td>File5</td><td>Amazon</td><td>100</td></tr><tr><td>File5</td><td>Flipkart</td><td>20</td></tr><tr><td>File5</td><td>Myntra</td><td>20</td></tr><tr><td>File5</td><td>Snapdeal</td><td>30</td></tr><tr><td>File5</td><td>Alibaba</td><td>null</td></tr><tr><td>File2</td><td>Amazon</td><td>100</td></tr><tr><td>File2</td><td>Flipkart</td><td>20</td></tr><tr><td>File2</td><td>Myntra</td><td>20</td></tr><tr><td>File2</td><td>Snapdeal</td><td>30</td></tr><tr><td>File2</td><td>Alibaba</td><td>null</td></tr><tr><td>File1</td><td>Amazon</td><td>100</td></tr><tr><td>File1</td><td>Flipkart</td><td>20</td></tr><tr><td>File1</td><td>Myntra</td><td>20</td></tr><tr><td>File1</td><td>Snapdeal</td><td>30</td></tr><tr><td>File1</td><td>Alibaba</td><td>null</td></tr><tr><td>File3</td><td>Amazon</td><td>100</td></tr><tr><td>File3</td><td>Flipkart</td><td>20</td></tr><tr><td>File3</td><td>Myntra</td><td>20</td></tr><tr><td>File3</td><td>Snapdeal</td><td>30</td></tr><tr><td>File3</td><td>Alibaba</td><td>null</td></tr><tr><td>File4</td><td>Amazon</td><td>100</td></tr><tr><td>File4</td><td>Flipkart</td><td>20</td></tr><tr><td>File4</td><td>Myntra</td><td>20</td></tr><tr><td>File4</td><td>Snapdeal</td><td>30</td></tr><tr><td>File4</td><td>Alibaba</td><td>null</td></tr></tbody></table></div>"
      ]
     },
     "metadata": {
      "application/vnd.databricks.v1+output": {
       "addedWidgets": {},
       "aggData": [],
       "aggError": "",
       "aggOverflow": false,
       "aggSchema": [],
       "aggSeriesLimitReached": false,
       "aggType": "",
       "arguments": {},
       "columnCustomDisplayInfos": {},
       "data": [
        [
         "File5",
         "Amazon",
         100
        ],
        [
         "File5",
         "Flipkart",
         20
        ],
        [
         "File5",
         "Myntra",
         20
        ],
        [
         "File5",
         "Snapdeal",
         30
        ],
        [
         "File5",
         "Alibaba",
         null
        ],
        [
         "File2",
         "Amazon",
         100
        ],
        [
         "File2",
         "Flipkart",
         20
        ],
        [
         "File2",
         "Myntra",
         20
        ],
        [
         "File2",
         "Snapdeal",
         30
        ],
        [
         "File2",
         "Alibaba",
         null
        ],
        [
         "File1",
         "Amazon",
         100
        ],
        [
         "File1",
         "Flipkart",
         20
        ],
        [
         "File1",
         "Myntra",
         20
        ],
        [
         "File1",
         "Snapdeal",
         30
        ],
        [
         "File1",
         "Alibaba",
         null
        ],
        [
         "File3",
         "Amazon",
         100
        ],
        [
         "File3",
         "Flipkart",
         20
        ],
        [
         "File3",
         "Myntra",
         20
        ],
        [
         "File3",
         "Snapdeal",
         30
        ],
        [
         "File3",
         "Alibaba",
         null
        ],
        [
         "File4",
         "Amazon",
         100
        ],
        [
         "File4",
         "Flipkart",
         20
        ],
        [
         "File4",
         "Myntra",
         20
        ],
        [
         "File4",
         "Snapdeal",
         30
        ],
        [
         "File4",
         "Alibaba",
         null
        ]
       ],
       "datasetInfos": [],
       "dbfsResultPath": null,
       "isJsonSchema": true,
       "metadata": {},
       "overflow": false,
       "plotOptions": {
        "customPlotOptions": {},
        "displayType": "table",
        "pivotAggregation": null,
        "pivotColumns": null,
        "xColumns": null,
        "yColumns": null
       },
       "removedWidgets": [],
       "schema": [
        {
         "metadata": "{}",
         "name": "File",
         "type": "\"string\""
        },
        {
         "metadata": "{}",
         "name": "Shop",
         "type": "\"string\""
        },
        {
         "metadata": "{}",
         "name": "Sales_count",
         "type": "\"integer\""
        }
       ],
       "type": "table"
      }
     },
     "output_type": "display_data"
    }
   ],
   "source": [
    "display(spark.read.format(\"parquet\").load(\"/FileStore/tables/stream_write/*.parquet\"))"
   ]
  }
 ],
 "metadata": {
  "application/vnd.databricks.v1+notebook": {
   "computePreferences": null,
   "dashboards": [],
   "environmentMetadata": null,
   "language": "python",
   "notebookMetadata": {
    "pythonIndentUnit": 4
   },
   "notebookName": "Streaming",
   "widgets": {}
  },
  "kernelspec": {
   "display_name": "Python 3 (ipykernel)",
   "language": "python",
   "name": "python3"
  },
  "language_info": {
   "codemirror_mode": {
    "name": "ipython",
    "version": 3
   },
   "file_extension": ".py",
   "mimetype": "text/x-python",
   "name": "python",
   "nbconvert_exporter": "python",
   "pygments_lexer": "ipython3",
   "version": "3.10.10"
  }
 },
 "nbformat": 4,
 "nbformat_minor": 4
}
