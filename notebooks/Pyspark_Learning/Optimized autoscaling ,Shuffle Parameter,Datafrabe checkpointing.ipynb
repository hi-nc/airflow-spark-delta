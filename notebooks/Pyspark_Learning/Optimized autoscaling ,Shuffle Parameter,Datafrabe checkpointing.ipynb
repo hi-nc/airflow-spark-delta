{
 "cells": [
  {
   "cell_type": "code",
   "execution_count": null,
   "metadata": {
    "application/vnd.databricks.v1+cell": {
     "cellMetadata": {},
     "inputWidgets": {},
     "nuid": "5e8ef04f-281e-4300-9140-9f50fc8ac8c2",
     "showTitle": false,
     "tableResultSettingsMap": {},
     "title": ""
    }
   },
   "outputs": [],
   "source": [
    "Autoscaling - Databricks chooses dynamically the appropriate number of workers required to run the job based on range of number of wrokers.One of performance optimization technique and cost saving technique\n",
    "\n",
    "types of autoscaling\n",
    "Optimized - Job,Automated cluster\n",
    "Standard - interactive,all purpose , exponentially scales down or scales up"
   ]
  },
  {
   "cell_type": "code",
   "execution_count": null,
   "metadata": {
    "application/vnd.databricks.v1+cell": {
     "cellMetadata": {},
     "inputWidgets": {},
     "nuid": "d6d7fb74-96ca-4d26-9b42-01f947be236b",
     "showTitle": false,
     "tableResultSettingsMap": {},
     "title": ""
    }
   },
   "outputs": [],
   "source": [
    "Shuffle parameter - while shuffling how many partitions to be created.\n",
    "Default is 200"
   ]
  },
  {
   "cell_type": "code",
   "execution_count": null,
   "metadata": {
    "application/vnd.databricks.v1+cell": {
     "cellMetadata": {},
     "inputWidgets": {},
     "nuid": "b4a0ac3e-997c-4f0d-8087-21242f252223",
     "showTitle": false,
     "tableResultSettingsMap": {},
     "title": ""
    }
   },
   "outputs": [],
   "source": [
    "DF checkpointing\n",
    "Process of materializing the DF resultant data into storage directory.Performance optimization technique.\n",
    "Looks similar to cache but intermitant data is written in memory,retains DAG . In checkpointing , it is written to disk,truncates DAG"
   ]
  }
 ],
 "metadata": {
  "application/vnd.databricks.v1+notebook": {
   "computePreferences": null,
   "dashboards": [],
   "environmentMetadata": null,
   "language": "python",
   "notebookMetadata": {
    "pythonIndentUnit": 4
   },
   "notebookName": "Optimized autoscaling ,Shuffle Parameter,Datafrabe checkpointing",
   "widgets": {}
  },
  "kernelspec": {
   "display_name": "Python 3 (ipykernel)",
   "language": "python",
   "name": "python3"
  },
  "language_info": {
   "codemirror_mode": {
    "name": "ipython",
    "version": 3
   },
   "file_extension": ".py",
   "mimetype": "text/x-python",
   "name": "python",
   "nbconvert_exporter": "python",
   "pygments_lexer": "ipython3",
   "version": "3.10.10"
  }
 },
 "nbformat": 4,
 "nbformat_minor": 4
}
