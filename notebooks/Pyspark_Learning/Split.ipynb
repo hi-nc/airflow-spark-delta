{
 "cells": [
  {
   "cell_type": "code",
   "execution_count": null,
   "id": "9c3a5f55-9724-43b3-aaa4-28c8148f13b5",
   "metadata": {},
   "outputs": [],
   "source": [
    "The split() function in PySpark is used to split a column of strings into an array of substrings based on a delimiter."
   ]
  },
  {
   "cell_type": "code",
   "execution_count": 1,
   "id": "6bdb38c6-3adb-459a-b5be-2a4167d4771d",
   "metadata": {
    "tags": []
   },
   "outputs": [
    {
     "name": "stdout",
     "output_type": "stream",
     "text": [
      "+-------------+----------+---------+\n",
      "|    full_name|first_name|last_name|\n",
      "+-------------+----------+---------+\n",
      "|     John Doe|      John|      Doe|\n",
      "|Alice Johnson|     Alice|  Johnson|\n",
      "|    Bob Smith|       Bob|    Smith|\n",
      "+-------------+----------+---------+\n",
      "\n"
     ]
    }
   ],
   "source": [
    "from pyspark.sql import SparkSession\n",
    "from pyspark.sql.functions import split\n",
    "\n",
    "# Initialize Spark session\n",
    "spark = SparkSession.builder.master(\"local[1]\") \\\n",
    "                    .appName('SparkByExamples.com') \\\n",
    "                    .getOrCreate()\n",
    "\n",
    "# Sample Data\n",
    "data = [(\"John Doe\",), (\"Alice Johnson\",), (\"Bob Smith\",)]\n",
    "df = spark.createDataFrame(data, [\"full_name\"])\n",
    "\n",
    "# Split the full_name column into first_name and last_name\n",
    "df = df.withColumn(\"first_name\", split(df[\"full_name\"], \" \")[0])\n",
    "df = df.withColumn(\"last_name\", split(df[\"full_name\"], \" \")[1])\n",
    "\n",
    "# Show results\n",
    "df.show()"
   ]
  },
  {
   "cell_type": "code",
   "execution_count": 2,
   "id": "e795d1b2-399a-4849-82b2-1cc2d7d49bc8",
   "metadata": {
    "tags": []
   },
   "outputs": [
    {
     "name": "stdout",
     "output_type": "stream",
     "text": [
      "+------------------+----------------------+\n",
      "|items             |items_array           |\n",
      "+------------------+----------------------+\n",
      "|apple,banana,grape|[apple, banana, grape]|\n",
      "|car,bike,truck    |[car, bike, truck]    |\n",
      "+------------------+----------------------+\n",
      "\n"
     ]
    }
   ],
   "source": [
    "#Splitting column with multiple delimiters\n",
    "from pyspark.sql.functions import explode\n",
    "\n",
    "# Sample Data\n",
    "data = [(\"apple,banana,grape\",), (\"car,bike,truck\",)]\n",
    "df = spark.createDataFrame(data, [\"items\"])\n",
    "\n",
    "# Split into an array\n",
    "df = df.withColumn(\"items_array\", split(df[\"items\"], \",\"))\n",
    "\n",
    "# Show results\n",
    "df.show(truncate=False)"
   ]
  },
  {
   "cell_type": "code",
   "execution_count": 3,
   "id": "a28dd14e-74ec-4e8d-9de9-d6aa68c32a5d",
   "metadata": {
    "tags": []
   },
   "outputs": [
    {
     "name": "stdout",
     "output_type": "stream",
     "text": [
      "+------------------+--------------------+------+\n",
      "|             items|         items_array|  item|\n",
      "+------------------+--------------------+------+\n",
      "|apple,banana,grape|[apple, banana, g...| apple|\n",
      "|apple,banana,grape|[apple, banana, g...|banana|\n",
      "|apple,banana,grape|[apple, banana, g...| grape|\n",
      "|    car,bike,truck|  [car, bike, truck]|   car|\n",
      "|    car,bike,truck|  [car, bike, truck]|  bike|\n",
      "|    car,bike,truck|  [car, bike, truck]| truck|\n",
      "+------------------+--------------------+------+\n",
      "\n"
     ]
    }
   ],
   "source": [
    "df_exploded = df.withColumn(\"item\", explode(df[\"items_array\"]))\n",
    "df_exploded.show()"
   ]
  },
  {
   "cell_type": "code",
   "execution_count": null,
   "id": "d98619f4-8480-4b8d-8325-f6f87d9e76e1",
   "metadata": {},
   "outputs": [],
   "source": []
  }
 ],
 "metadata": {
  "kernelspec": {
   "display_name": "Python 3 (ipykernel)",
   "language": "python",
   "name": "python3"
  },
  "language_info": {
   "codemirror_mode": {
    "name": "ipython",
    "version": 3
   },
   "file_extension": ".py",
   "mimetype": "text/x-python",
   "name": "python",
   "nbconvert_exporter": "python",
   "pygments_lexer": "ipython3",
   "version": "3.10.10"
  }
 },
 "nbformat": 4,
 "nbformat_minor": 5
}
