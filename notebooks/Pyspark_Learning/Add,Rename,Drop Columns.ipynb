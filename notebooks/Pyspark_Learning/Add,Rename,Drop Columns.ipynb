{
 "cells": [
  {
   "cell_type": "code",
   "execution_count": null,
   "metadata": {
    "application/vnd.databricks.v1+cell": {
     "cellMetadata": {
      "byteLimit": 2048000,
      "rowLimit": 10000
     },
     "inputWidgets": {},
     "nuid": "4726b595-af4a-4988-96f8-f76c16b0863a",
     "showTitle": true,
     "tableResultSettingsMap": {},
     "title": "Add column - withcolumn(\"newcolumn\",\"old name\")"
    }
   },
   "outputs": [
    {
     "data": {
      "text/html": [
       "<style scoped>\n",
       "  .table-result-container {\n",
       "    max-height: 300px;\n",
       "    overflow: auto;\n",
       "  }\n",
       "  table, th, td {\n",
       "    border: 1px solid black;\n",
       "    border-collapse: collapse;\n",
       "  }\n",
       "  th, td {\n",
       "    padding: 5px;\n",
       "  }\n",
       "  th {\n",
       "    text-align: left;\n",
       "  }\n",
       "</style><div class='table-result-container'><table class='table-result'><thead style='background-color: white'><tr><th>emplyee_id</th><th>firstname</th><th>lastname</th><th>doj</th><th>employee_dept_id</th><th>gender</th><th>salary</th></tr></thead><tbody><tr><td>10</td><td>raj</td><td>kumar</td><td>1900</td><td>100</td><td>M</td><td>2000</td></tr><tr><td>20</td><td>kumar</td><td>sani</td><td>2000</td><td>500</td><td>M</td><td>5000</td></tr><tr><td>30</td><td>Ajay</td><td>kumar</td><td>1980</td><td>400</td><td>null</td><td>3000</td></tr><tr><td>40</td><td>kumar</td><td>harris</td><td>1990</td><td>500</td><td>null</td><td>4000</td></tr><tr><td>50</td><td>Sonu</td><td>kumar</td><td>2000</td><td>600</td><td>F</td><td>6000</td></tr></tbody></table></div>"
      ]
     },
     "metadata": {
      "application/vnd.databricks.v1+output": {
       "addedWidgets": {},
       "aggData": [],
       "aggError": "",
       "aggOverflow": false,
       "aggSchema": [],
       "aggSeriesLimitReached": false,
       "aggType": "",
       "arguments": {},
       "columnCustomDisplayInfos": {},
       "data": [
        [
         10,
         "raj",
         "kumar",
         "1900",
         "100",
         "M",
         2000
        ],
        [
         20,
         "kumar",
         "sani",
         "2000",
         "500",
         "M",
         5000
        ],
        [
         30,
         "Ajay",
         "kumar",
         "1980",
         "400",
         null,
         3000
        ],
        [
         40,
         "kumar",
         "harris",
         "1990",
         "500",
         null,
         4000
        ],
        [
         50,
         "Sonu",
         "kumar",
         "2000",
         "600",
         "F",
         6000
        ]
       ],
       "datasetInfos": [],
       "dbfsResultPath": null,
       "isJsonSchema": true,
       "metadata": {},
       "overflow": false,
       "plotOptions": {
        "customPlotOptions": {},
        "displayType": "table",
        "pivotAggregation": null,
        "pivotColumns": null,
        "xColumns": null,
        "yColumns": null
       },
       "removedWidgets": [],
       "schema": [
        {
         "metadata": "{}",
         "name": "emplyee_id",
         "type": "\"long\""
        },
        {
         "metadata": "{}",
         "name": "firstname",
         "type": "\"string\""
        },
        {
         "metadata": "{}",
         "name": "lastname",
         "type": "\"string\""
        },
        {
         "metadata": "{}",
         "name": "doj",
         "type": "\"string\""
        },
        {
         "metadata": "{}",
         "name": "employee_dept_id",
         "type": "\"string\""
        },
        {
         "metadata": "{}",
         "name": "gender",
         "type": "\"string\""
        },
        {
         "metadata": "{}",
         "name": "salary",
         "type": "\"long\""
        }
       ],
       "type": "table"
      }
     },
     "output_type": "display_data"
    }
   ],
   "source": [
    "employee_data = [(10,\"raj\",\"kumar\",\"1900\",\"100\",\"M\",2000),(20,\"kumar\",\"sani\",\"2000\",\"500\",\"M\",5000),(30,\"Ajay\",\"kumar\",\"1980\",\"400\",None,3000),(40,\"kumar\",\"harris\",\"1990\",\"500\",None,4000),(50,\"Sonu\",\"kumar\",\"2000\",\"600\",\"F\",6000)]\n",
    "\n",
    "empolyee_schema = [\"emplyee_id\",\"firstname\",\"lastname\",\"doj\",\"employee_dept_id\",\"gender\",\"salary\"]\n",
    "\n",
    "employee_DF = spark.createDataFrame(data=employee_data,schema=empolyee_schema)\n",
    "display(employee_DF)"
   ]
  },
  {
   "cell_type": "code",
   "execution_count": null,
   "metadata": {
    "application/vnd.databricks.v1+cell": {
     "cellMetadata": {
      "byteLimit": 2048000,
      "rowLimit": 10000
     },
     "inputWidgets": {},
     "nuid": "3405ade9-2c51-49a0-9b3e-6fa52f86b727",
     "showTitle": false,
     "tableResultSettingsMap": {},
     "title": ""
    }
   },
   "outputs": [
    {
     "name": "stdout",
     "output_type": "stream",
     "text": [
      "+----------+---------+--------+----+----------------+------+------+---------+\n",
      "|emplyee_id|firstname|lastname| doj|employee_dept_id|gender|salary| location|\n",
      "+----------+---------+--------+----+----------------+------+------+---------+\n",
      "|        10|      raj|   kumar|1900|             100|     M|  2000|Hyderabad|\n",
      "|        20|    kumar|    sani|2000|             500|     M|  5000|Hyderabad|\n",
      "|        30|     Ajay|   kumar|1980|             400|  null|  3000|Hyderabad|\n",
      "|        40|    kumar|  harris|1990|             500|  null|  4000|Hyderabad|\n",
      "|        50|     Sonu|   kumar|2000|             600|     F|  6000|Hyderabad|\n",
      "+----------+---------+--------+----+----------------+------+------+---------+\n",
      "\n"
     ]
    }
   ],
   "source": [
    "from pyspark.sql.functions import lit\n",
    "\n",
    "employee_Addcolumn=employee_DF.withColumn(\"location\",lit(\"Hyderabad\")).show() #withcolumn(\"new column name\",value)"
   ]
  },
  {
   "cell_type": "code",
   "execution_count": null,
   "metadata": {
    "application/vnd.databricks.v1+cell": {
     "cellMetadata": {
      "byteLimit": 2048000,
      "rowLimit": 10000
     },
     "inputWidgets": {},
     "nuid": "1eae0f8c-bab7-4d8a-a9b6-fa4e2f4c9ca4",
     "showTitle": false,
     "tableResultSettingsMap": {},
     "title": ""
    }
   },
   "outputs": [
    {
     "data": {
      "text/html": [
       "<style scoped>\n",
       "  .table-result-container {\n",
       "    max-height: 300px;\n",
       "    overflow: auto;\n",
       "  }\n",
       "  table, th, td {\n",
       "    border: 1px solid black;\n",
       "    border-collapse: collapse;\n",
       "  }\n",
       "  th, td {\n",
       "    padding: 5px;\n",
       "  }\n",
       "  th {\n",
       "    text-align: left;\n",
       "  }\n",
       "</style><div class='table-result-container'><table class='table-result'><thead style='background-color: white'><tr><th>emplyee_id</th><th>firstname</th><th>lastname</th><th>doj</th><th>employee_dept_id</th><th>gender</th><th>salary</th><th>Bonus</th><th>Name</th></tr></thead><tbody><tr><td>10</td><td>raj</td><td>kumar</td><td>1900</td><td>100</td><td>M</td><td>2000</td><td>200.0</td><td>kumar raj</td></tr><tr><td>20</td><td>kumar</td><td>sani</td><td>2000</td><td>500</td><td>M</td><td>5000</td><td>500.0</td><td>sani kumar</td></tr><tr><td>30</td><td>Ajay</td><td>kumar</td><td>1980</td><td>400</td><td>null</td><td>3000</td><td>300.0</td><td>kumar Ajay</td></tr><tr><td>40</td><td>kumar</td><td>harris</td><td>1990</td><td>500</td><td>null</td><td>4000</td><td>400.0</td><td>harris kumar</td></tr><tr><td>50</td><td>Sonu</td><td>kumar</td><td>2000</td><td>600</td><td>F</td><td>6000</td><td>600.0</td><td>kumar Sonu</td></tr></tbody></table></div>"
      ]
     },
     "metadata": {
      "application/vnd.databricks.v1+output": {
       "addedWidgets": {},
       "aggData": [],
       "aggError": "",
       "aggOverflow": false,
       "aggSchema": [],
       "aggSeriesLimitReached": false,
       "aggType": "",
       "arguments": {},
       "columnCustomDisplayInfos": {},
       "data": [
        [
         10,
         "raj",
         "kumar",
         "1900",
         "100",
         "M",
         2000,
         200,
         "kumar raj"
        ],
        [
         20,
         "kumar",
         "sani",
         "2000",
         "500",
         "M",
         5000,
         500,
         "sani kumar"
        ],
        [
         30,
         "Ajay",
         "kumar",
         "1980",
         "400",
         null,
         3000,
         300,
         "kumar Ajay"
        ],
        [
         40,
         "kumar",
         "harris",
         "1990",
         "500",
         null,
         4000,
         400,
         "harris kumar"
        ],
        [
         50,
         "Sonu",
         "kumar",
         "2000",
         "600",
         "F",
         6000,
         600,
         "kumar Sonu"
        ]
       ],
       "datasetInfos": [],
       "dbfsResultPath": null,
       "isJsonSchema": true,
       "metadata": {},
       "overflow": false,
       "plotOptions": {
        "customPlotOptions": {},
        "displayType": "table",
        "pivotAggregation": null,
        "pivotColumns": null,
        "xColumns": null,
        "yColumns": null
       },
       "removedWidgets": [],
       "schema": [
        {
         "metadata": "{}",
         "name": "emplyee_id",
         "type": "\"long\""
        },
        {
         "metadata": "{}",
         "name": "firstname",
         "type": "\"string\""
        },
        {
         "metadata": "{}",
         "name": "lastname",
         "type": "\"string\""
        },
        {
         "metadata": "{}",
         "name": "doj",
         "type": "\"string\""
        },
        {
         "metadata": "{}",
         "name": "employee_dept_id",
         "type": "\"string\""
        },
        {
         "metadata": "{}",
         "name": "gender",
         "type": "\"string\""
        },
        {
         "metadata": "{}",
         "name": "salary",
         "type": "\"long\""
        },
        {
         "metadata": "{}",
         "name": "Bonus",
         "type": "\"double\""
        },
        {
         "metadata": "{}",
         "name": "Name",
         "type": "\"string\""
        }
       ],
       "type": "table"
      }
     },
     "output_type": "display_data"
    }
   ],
   "source": [
    "from pyspark.sql.functions import concat,lit\n",
    "\n",
    "employee_Addcolumn=employee_DF.withColumn(\"Bonus\",employee_DF.salary*0.10).withColumn(\"Name\",concat(\"lastname\",lit(\" \"),\"firstname\"))\n",
    "\n",
    "display(employee_Addcolumn)"
   ]
  },
  {
   "cell_type": "code",
   "execution_count": null,
   "metadata": {
    "application/vnd.databricks.v1+cell": {
     "cellMetadata": {
      "byteLimit": 2048000,
      "rowLimit": 10000
     },
     "inputWidgets": {},
     "nuid": "0010bb3c-adf1-409a-8401-bc98d5d58f98",
     "showTitle": false,
     "tableResultSettingsMap": {},
     "title": ""
    }
   },
   "outputs": [
    {
     "data": {
      "text/html": [
       "<style scoped>\n",
       "  .table-result-container {\n",
       "    max-height: 300px;\n",
       "    overflow: auto;\n",
       "  }\n",
       "  table, th, td {\n",
       "    border: 1px solid black;\n",
       "    border-collapse: collapse;\n",
       "  }\n",
       "  th, td {\n",
       "    padding: 5px;\n",
       "  }\n",
       "  th {\n",
       "    text-align: left;\n",
       "  }\n",
       "</style><div class='table-result-container'><table class='table-result'><thead style='background-color: white'><tr><th>emplyee_id</th><th>firstname</th><th>lastname</th><th>Date of joining</th><th>employee_dept_id</th><th>gender</th><th>salary</th><th>Bonus</th><th>Full name</th></tr></thead><tbody><tr><td>10</td><td>raj</td><td>kumar</td><td>1900</td><td>100</td><td>M</td><td>2000</td><td>200.0</td><td>kumar raj</td></tr><tr><td>20</td><td>kumar</td><td>sani</td><td>2000</td><td>500</td><td>M</td><td>5000</td><td>500.0</td><td>sani kumar</td></tr><tr><td>30</td><td>Ajay</td><td>kumar</td><td>1980</td><td>400</td><td>null</td><td>3000</td><td>300.0</td><td>kumar Ajay</td></tr><tr><td>40</td><td>kumar</td><td>harris</td><td>1990</td><td>500</td><td>null</td><td>4000</td><td>400.0</td><td>harris kumar</td></tr><tr><td>50</td><td>Sonu</td><td>kumar</td><td>2000</td><td>600</td><td>F</td><td>6000</td><td>600.0</td><td>kumar Sonu</td></tr></tbody></table></div>"
      ]
     },
     "metadata": {
      "application/vnd.databricks.v1+output": {
       "addedWidgets": {},
       "aggData": [],
       "aggError": "",
       "aggOverflow": false,
       "aggSchema": [],
       "aggSeriesLimitReached": false,
       "aggType": "",
       "arguments": {},
       "columnCustomDisplayInfos": {},
       "data": [
        [
         10,
         "raj",
         "kumar",
         "1900",
         "100",
         "M",
         2000,
         200,
         "kumar raj"
        ],
        [
         20,
         "kumar",
         "sani",
         "2000",
         "500",
         "M",
         5000,
         500,
         "sani kumar"
        ],
        [
         30,
         "Ajay",
         "kumar",
         "1980",
         "400",
         null,
         3000,
         300,
         "kumar Ajay"
        ],
        [
         40,
         "kumar",
         "harris",
         "1990",
         "500",
         null,
         4000,
         400,
         "harris kumar"
        ],
        [
         50,
         "Sonu",
         "kumar",
         "2000",
         "600",
         "F",
         6000,
         600,
         "kumar Sonu"
        ]
       ],
       "datasetInfos": [],
       "dbfsResultPath": null,
       "isJsonSchema": true,
       "metadata": {},
       "overflow": false,
       "plotOptions": {
        "customPlotOptions": {},
        "displayType": "table",
        "pivotAggregation": null,
        "pivotColumns": null,
        "xColumns": null,
        "yColumns": null
       },
       "removedWidgets": [],
       "schema": [
        {
         "metadata": "{}",
         "name": "emplyee_id",
         "type": "\"long\""
        },
        {
         "metadata": "{}",
         "name": "firstname",
         "type": "\"string\""
        },
        {
         "metadata": "{}",
         "name": "lastname",
         "type": "\"string\""
        },
        {
         "metadata": "{}",
         "name": "Date of joining",
         "type": "\"string\""
        },
        {
         "metadata": "{}",
         "name": "employee_dept_id",
         "type": "\"string\""
        },
        {
         "metadata": "{}",
         "name": "gender",
         "type": "\"string\""
        },
        {
         "metadata": "{}",
         "name": "salary",
         "type": "\"long\""
        },
        {
         "metadata": "{}",
         "name": "Bonus",
         "type": "\"double\""
        },
        {
         "metadata": "{}",
         "name": "Full name",
         "type": "\"string\""
        }
       ],
       "type": "table"
      }
     },
     "output_type": "display_data"
    }
   ],
   "source": [
    "from pyspark.sql.functions import concat,lit\n",
    "\n",
    "employee_Renamecolumn=employee_Addcolumn.withColumnRenamed(\"doj\",\"Date of joining\").withColumnRenamed(\"Name\",\"Full name\")\n",
    "\n",
    "display(employee_Renamecolumn)"
   ]
  },
  {
   "cell_type": "code",
   "execution_count": null,
   "metadata": {
    "application/vnd.databricks.v1+cell": {
     "cellMetadata": {
      "byteLimit": 2048000,
      "rowLimit": 10000
     },
     "inputWidgets": {},
     "nuid": "0db77d80-2618-4a61-b376-a8c379ab3036",
     "showTitle": false,
     "tableResultSettingsMap": {},
     "title": ""
    }
   },
   "outputs": [
    {
     "name": "stdout",
     "output_type": "stream",
     "text": [
      "+----------+---------+--------+---------------+----------------+------+------+-----+\n",
      "|emplyee_id|firstname|lastname|Date of joining|employee_dept_id|gender|salary|Bonus|\n",
      "+----------+---------+--------+---------------+----------------+------+------+-----+\n",
      "|        10|      raj|   kumar|           1900|             100|     M|  2000|200.0|\n",
      "|        20|    kumar|    sani|           2000|             500|     M|  5000|500.0|\n",
      "|        30|     Ajay|   kumar|           1980|             400|  null|  3000|300.0|\n",
      "|        40|    kumar|  harris|           1990|             500|  null|  4000|400.0|\n",
      "|        50|     Sonu|   kumar|           2000|             600|     F|  6000|600.0|\n",
      "+----------+---------+--------+---------------+----------------+------+------+-----+\n",
      "\n"
     ]
    }
   ],
   "source": [
    "employee_Dropcolumn = employee_Renamecolumn.drop(\"Full name\").show()"
   ]
  }
 ],
 "metadata": {
  "application/vnd.databricks.v1+notebook": {
   "computePreferences": null,
   "dashboards": [],
   "environmentMetadata": null,
   "language": "python",
   "notebookMetadata": {
    "pythonIndentUnit": 4
   },
   "notebookName": "Add,Rename,Drop Columns",
   "widgets": {}
  },
  "kernelspec": {
   "display_name": "Python 3 (ipykernel)",
   "language": "python",
   "name": "python3"
  },
  "language_info": {
   "codemirror_mode": {
    "name": "ipython",
    "version": 3
   },
   "file_extension": ".py",
   "mimetype": "text/x-python",
   "name": "python",
   "nbconvert_exporter": "python",
   "pygments_lexer": "ipython3",
   "version": "3.10.10"
  }
 },
 "nbformat": 4,
 "nbformat_minor": 4
}
