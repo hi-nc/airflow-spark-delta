{
 "cells": [
  {
   "cell_type": "code",
   "execution_count": null,
   "metadata": {
    "application/vnd.databricks.v1+cell": {
     "cellMetadata": {},
     "inputWidgets": {},
     "nuid": "41ecde47-3a14-499f-807d-677b72c69272",
     "showTitle": false,
     "tableResultSettingsMap": {},
     "title": ""
    }
   },
   "outputs": [],
   "source": [
    "Explode \n",
    "Explode_outer - consider for null array or map\n",
    "Posexplode\n",
    "posexplode_outer - consider for null array or map"
   ]
  },
  {
   "cell_type": "code",
   "execution_count": null,
   "metadata": {
    "application/vnd.databricks.v1+cell": {
     "cellMetadata": {
      "byteLimit": 2048000,
      "rowLimit": 10000
     },
     "inputWidgets": {},
     "nuid": "bbdcc5a1-cc2b-4d73-ba75-8fcc853b3e82",
     "showTitle": true,
     "tableResultSettingsMap": {},
     "title": "Create data frame with array column"
    }
   },
   "outputs": [
    {
     "name": "stdout",
     "output_type": "stream",
     "text": [
      "root\n",
      " |-- name: string (nullable = true)\n",
      " |-- applicance: array (nullable = true)\n",
      " |    |-- element: string (containsNull = true)\n",
      "\n"
     ]
    },
    {
     "data": {
      "text/html": [
       "<style scoped>\n",
       "  .table-result-container {\n",
       "    max-height: 300px;\n",
       "    overflow: auto;\n",
       "  }\n",
       "  table, th, td {\n",
       "    border: 1px solid black;\n",
       "    border-collapse: collapse;\n",
       "  }\n",
       "  th, td {\n",
       "    padding: 5px;\n",
       "  }\n",
       "  th {\n",
       "    text-align: left;\n",
       "  }\n",
       "</style><div class='table-result-container'><table class='table-result'><thead style='background-color: white'><tr><th>name</th><th>applicance</th></tr></thead><tbody><tr><td>raja</td><td>List(TV, Refrigerator, Washing Machine, Oven)</td></tr><tr><td>raghav</td><td>List(AC, Washing Machine, null)</td></tr><tr><td>ramya</td><td>List(Grinder, TV)</td></tr><tr><td>raghu</td><td>List(Regrigerator, TV, null)</td></tr><tr><td>rosy</td><td>null</td></tr></tbody></table></div>"
      ]
     },
     "metadata": {
      "application/vnd.databricks.v1+output": {
       "addedWidgets": {},
       "aggData": [],
       "aggError": "",
       "aggOverflow": false,
       "aggSchema": [],
       "aggSeriesLimitReached": false,
       "aggType": "",
       "arguments": {},
       "columnCustomDisplayInfos": {},
       "data": [
        [
         "raja",
         [
          "TV",
          "Refrigerator",
          "Washing Machine",
          "Oven"
         ]
        ],
        [
         "raghav",
         [
          "AC",
          "Washing Machine",
          null
         ]
        ],
        [
         "ramya",
         [
          "Grinder",
          "TV"
         ]
        ],
        [
         "raghu",
         [
          "Regrigerator",
          "TV",
          null
         ]
        ],
        [
         "rosy",
         null
        ]
       ],
       "datasetInfos": [],
       "dbfsResultPath": null,
       "isJsonSchema": true,
       "metadata": {},
       "overflow": false,
       "plotOptions": {
        "customPlotOptions": {},
        "displayType": "table",
        "pivotAggregation": null,
        "pivotColumns": null,
        "xColumns": null,
        "yColumns": null
       },
       "removedWidgets": [],
       "schema": [
        {
         "metadata": "{}",
         "name": "name",
         "type": "\"string\""
        },
        {
         "metadata": "{}",
         "name": "applicance",
         "type": "{\"type\":\"array\",\"elementType\":\"string\",\"containsNull\":true}"
        }
       ],
       "type": "table"
      }
     },
     "output_type": "display_data"
    }
   ],
   "source": [
    "array_appliance = [\n",
    "    (\"raja\",[\"TV\",\"Refrigerator\",\"Washing Machine\",\"Oven\"]),\n",
    "    (\"raghav\",[\"AC\",\"Washing Machine\",None]),\n",
    "    (\"ramya\",[\"Grinder\",\"TV\"]),\n",
    "    (\"raghu\",[\"Regrigerator\",\"TV\",None]),\n",
    "    (\"rosy\",None)\n",
    "]\n",
    "\n",
    "df_app = spark.createDataFrame(data=array_appliance,schema=[\"name\",\"applicance\"])\n",
    "df_app.printSchema()\n",
    "display(df_app)"
   ]
  },
  {
   "cell_type": "code",
   "execution_count": null,
   "metadata": {
    "application/vnd.databricks.v1+cell": {
     "cellMetadata": {
      "byteLimit": 2048000,
      "rowLimit": 10000
     },
     "inputWidgets": {},
     "nuid": "17fc68e8-beab-47aa-96a1-5277aca28917",
     "showTitle": true,
     "tableResultSettingsMap": {},
     "title": "Create data frame with map"
    }
   },
   "outputs": [
    {
     "name": "stdout",
     "output_type": "stream",
     "text": [
      "root\n",
      " |-- name: string (nullable = true)\n",
      " |-- brand: map (nullable = true)\n",
      " |    |-- key: string\n",
      " |    |-- value: string (valueContainsNull = true)\n",
      "\n"
     ]
    },
    {
     "data": {
      "text/html": [
       "<style scoped>\n",
       "  .table-result-container {\n",
       "    max-height: 300px;\n",
       "    overflow: auto;\n",
       "  }\n",
       "  table, th, td {\n",
       "    border: 1px solid black;\n",
       "    border-collapse: collapse;\n",
       "  }\n",
       "  th, td {\n",
       "    padding: 5px;\n",
       "  }\n",
       "  th {\n",
       "    text-align: left;\n",
       "  }\n",
       "</style><div class='table-result-container'><table class='table-result'><thead style='background-color: white'><tr><th>name</th><th>brand</th></tr></thead><tbody><tr><td>raja</td><td>Map(Refrigerator -> Whirlpool, TV -> LG, Oven -> Voltas, Washing Machine -> GE)</td></tr><tr><td>raghav</td><td>Map(AC -> Samsung, Washing Machine -> LG)</td></tr><tr><td>ramya</td><td>Map(TV -> , Grinder -> Preethi)</td></tr><tr><td>raghu</td><td>Map(Regrigerator -> LG, TV -> Chroma)</td></tr><tr><td>rosy</td><td>null</td></tr></tbody></table></div>"
      ]
     },
     "metadata": {
      "application/vnd.databricks.v1+output": {
       "addedWidgets": {},
       "aggData": [],
       "aggError": "",
       "aggOverflow": false,
       "aggSchema": [],
       "aggSeriesLimitReached": false,
       "aggType": "",
       "arguments": {},
       "columnCustomDisplayInfos": {},
       "data": [
        [
         "raja",
         {
          "Oven": "Voltas",
          "Refrigerator": "Whirlpool",
          "TV": "LG",
          "Washing Machine": "GE"
         }
        ],
        [
         "raghav",
         {
          "AC": "Samsung",
          "Washing Machine": "LG"
         }
        ],
        [
         "ramya",
         {
          "Grinder": "Preethi",
          "TV": ""
         }
        ],
        [
         "raghu",
         {
          "Regrigerator": "LG",
          "TV": "Chroma"
         }
        ],
        [
         "rosy",
         null
        ]
       ],
       "datasetInfos": [],
       "dbfsResultPath": null,
       "isJsonSchema": true,
       "metadata": {},
       "overflow": false,
       "plotOptions": {
        "customPlotOptions": {},
        "displayType": "table",
        "pivotAggregation": null,
        "pivotColumns": null,
        "xColumns": null,
        "yColumns": null
       },
       "removedWidgets": [],
       "schema": [
        {
         "metadata": "{}",
         "name": "name",
         "type": "\"string\""
        },
        {
         "metadata": "{}",
         "name": "brand",
         "type": "{\"type\":\"map\",\"keyType\":\"string\",\"valueType\":\"string\",\"valueContainsNull\":true}"
        }
       ],
       "type": "table"
      }
     },
     "output_type": "display_data"
    }
   ],
   "source": [
    "map_brand= [\n",
    "    (\"raja\",{\"TV\":\"LG\",\"Refrigerator\":\"Whirlpool\",\"Washing Machine\":\"GE\",\"Oven\":\"Voltas\"}),\n",
    "    (\"raghav\",{\"AC\":\"Samsung\",\"Washing Machine\":\"LG\"}),\n",
    "    (\"ramya\",{\"Grinder\":\"Preethi\",\"TV\":\"\"}),\n",
    "    (\"raghu\",{\"Regrigerator\":\"LG\",\"TV\":\"Chroma\"}),\n",
    "    (\"rosy\",None)\n",
    "]\n",
    "\n",
    "df_brand = spark.createDataFrame(data=map_brand,schema=[\"name\",\"brand\"])\n",
    "df_brand.printSchema()\n",
    "display(df_brand)"
   ]
  },
  {
   "cell_type": "code",
   "execution_count": null,
   "metadata": {
    "application/vnd.databricks.v1+cell": {
     "cellMetadata": {
      "byteLimit": 2048000,
      "rowLimit": 10000
     },
     "inputWidgets": {},
     "nuid": "2cdbca43-64a3-440d-965b-dd9bc3ec6f58",
     "showTitle": true,
     "tableResultSettingsMap": {},
     "title": "Explode array field"
    }
   },
   "outputs": [
    {
     "name": "stdout",
     "output_type": "stream",
     "text": [
      "root\n",
      " |-- name: string (nullable = true)\n",
      " |-- applicance: array (nullable = true)\n",
      " |    |-- element: string (containsNull = true)\n",
      "\n"
     ]
    },
    {
     "data": {
      "text/html": [
       "<style scoped>\n",
       "  .table-result-container {\n",
       "    max-height: 300px;\n",
       "    overflow: auto;\n",
       "  }\n",
       "  table, th, td {\n",
       "    border: 1px solid black;\n",
       "    border-collapse: collapse;\n",
       "  }\n",
       "  th, td {\n",
       "    padding: 5px;\n",
       "  }\n",
       "  th {\n",
       "    text-align: left;\n",
       "  }\n",
       "</style><div class='table-result-container'><table class='table-result'><thead style='background-color: white'><tr><th>name</th><th>applicance</th></tr></thead><tbody><tr><td>raja</td><td>List(TV, Refrigerator, Washing Machine, Oven)</td></tr><tr><td>raghav</td><td>List(AC, Washing Machine, null)</td></tr><tr><td>ramya</td><td>List(Grinder, TV)</td></tr><tr><td>raghu</td><td>List(Regrigerator, TV, null)</td></tr><tr><td>rosy</td><td>null</td></tr></tbody></table></div>"
      ]
     },
     "metadata": {
      "application/vnd.databricks.v1+output": {
       "addedWidgets": {},
       "aggData": [],
       "aggError": "",
       "aggOverflow": false,
       "aggSchema": [],
       "aggSeriesLimitReached": false,
       "aggType": "",
       "arguments": {},
       "columnCustomDisplayInfos": {},
       "data": [
        [
         "raja",
         [
          "TV",
          "Refrigerator",
          "Washing Machine",
          "Oven"
         ]
        ],
        [
         "raghav",
         [
          "AC",
          "Washing Machine",
          null
         ]
        ],
        [
         "ramya",
         [
          "Grinder",
          "TV"
         ]
        ],
        [
         "raghu",
         [
          "Regrigerator",
          "TV",
          null
         ]
        ],
        [
         "rosy",
         null
        ]
       ],
       "datasetInfos": [],
       "dbfsResultPath": null,
       "isJsonSchema": true,
       "metadata": {},
       "overflow": false,
       "plotOptions": {
        "customPlotOptions": {},
        "displayType": "table",
        "pivotAggregation": null,
        "pivotColumns": null,
        "xColumns": null,
        "yColumns": null
       },
       "removedWidgets": [],
       "schema": [
        {
         "metadata": "{}",
         "name": "name",
         "type": "\"string\""
        },
        {
         "metadata": "{}",
         "name": "applicance",
         "type": "{\"type\":\"array\",\"elementType\":\"string\",\"containsNull\":true}"
        }
       ],
       "type": "table"
      }
     },
     "output_type": "display_data"
    },
    {
     "name": "stdout",
     "output_type": "stream",
     "text": [
      "root\n",
      " |-- name: string (nullable = true)\n",
      " |-- col: string (nullable = true)\n",
      "\n"
     ]
    },
    {
     "data": {
      "text/html": [
       "<style scoped>\n",
       "  .table-result-container {\n",
       "    max-height: 300px;\n",
       "    overflow: auto;\n",
       "  }\n",
       "  table, th, td {\n",
       "    border: 1px solid black;\n",
       "    border-collapse: collapse;\n",
       "  }\n",
       "  th, td {\n",
       "    padding: 5px;\n",
       "  }\n",
       "  th {\n",
       "    text-align: left;\n",
       "  }\n",
       "</style><div class='table-result-container'><table class='table-result'><thead style='background-color: white'><tr><th>name</th><th>col</th></tr></thead><tbody><tr><td>raja</td><td>TV</td></tr><tr><td>raja</td><td>Refrigerator</td></tr><tr><td>raja</td><td>Washing Machine</td></tr><tr><td>raja</td><td>Oven</td></tr><tr><td>raghav</td><td>AC</td></tr><tr><td>raghav</td><td>Washing Machine</td></tr><tr><td>raghav</td><td>null</td></tr><tr><td>ramya</td><td>Grinder</td></tr><tr><td>ramya</td><td>TV</td></tr><tr><td>raghu</td><td>Regrigerator</td></tr><tr><td>raghu</td><td>TV</td></tr><tr><td>raghu</td><td>null</td></tr></tbody></table></div>"
      ]
     },
     "metadata": {
      "application/vnd.databricks.v1+output": {
       "addedWidgets": {},
       "aggData": [],
       "aggError": "",
       "aggOverflow": false,
       "aggSchema": [],
       "aggSeriesLimitReached": false,
       "aggType": "",
       "arguments": {},
       "columnCustomDisplayInfos": {},
       "data": [
        [
         "raja",
         "TV"
        ],
        [
         "raja",
         "Refrigerator"
        ],
        [
         "raja",
         "Washing Machine"
        ],
        [
         "raja",
         "Oven"
        ],
        [
         "raghav",
         "AC"
        ],
        [
         "raghav",
         "Washing Machine"
        ],
        [
         "raghav",
         null
        ],
        [
         "ramya",
         "Grinder"
        ],
        [
         "ramya",
         "TV"
        ],
        [
         "raghu",
         "Regrigerator"
        ],
        [
         "raghu",
         "TV"
        ],
        [
         "raghu",
         null
        ]
       ],
       "datasetInfos": [],
       "dbfsResultPath": null,
       "isJsonSchema": true,
       "metadata": {},
       "overflow": false,
       "plotOptions": {
        "customPlotOptions": {},
        "displayType": "table",
        "pivotAggregation": null,
        "pivotColumns": null,
        "xColumns": null,
        "yColumns": null
       },
       "removedWidgets": [],
       "schema": [
        {
         "metadata": "{}",
         "name": "name",
         "type": "\"string\""
        },
        {
         "metadata": "{}",
         "name": "col",
         "type": "\"string\""
        }
       ],
       "type": "table"
      }
     },
     "output_type": "display_data"
    }
   ],
   "source": [
    "from pyspark.sql.functions import explode\n",
    "\n",
    "df2 = df_app.select(df_app.name,explode(df_app.applicance))\n",
    "\n",
    "df_app.printSchema()\n",
    "display(df_app)\n",
    "\n",
    "df2.printSchema()\n",
    "display(df2)"
   ]
  },
  {
   "cell_type": "code",
   "execution_count": null,
   "metadata": {
    "application/vnd.databricks.v1+cell": {
     "cellMetadata": {
      "byteLimit": 2048000,
      "rowLimit": 10000
     },
     "inputWidgets": {},
     "nuid": "4e5c2ba5-449e-405f-ad7a-866e916d488d",
     "showTitle": true,
     "tableResultSettingsMap": {},
     "title": "Explode map"
    }
   },
   "outputs": [
    {
     "name": "stdout",
     "output_type": "stream",
     "text": [
      "root\n",
      " |-- name: string (nullable = true)\n",
      " |-- brand: map (nullable = true)\n",
      " |    |-- key: string\n",
      " |    |-- value: string (valueContainsNull = true)\n",
      "\n"
     ]
    },
    {
     "data": {
      "text/html": [
       "<style scoped>\n",
       "  .table-result-container {\n",
       "    max-height: 300px;\n",
       "    overflow: auto;\n",
       "  }\n",
       "  table, th, td {\n",
       "    border: 1px solid black;\n",
       "    border-collapse: collapse;\n",
       "  }\n",
       "  th, td {\n",
       "    padding: 5px;\n",
       "  }\n",
       "  th {\n",
       "    text-align: left;\n",
       "  }\n",
       "</style><div class='table-result-container'><table class='table-result'><thead style='background-color: white'><tr><th>name</th><th>brand</th></tr></thead><tbody><tr><td>raja</td><td>Map(Refrigerator -> Whirlpool, TV -> LG, Oven -> Voltas, Washing Machine -> GE)</td></tr><tr><td>raghav</td><td>Map(AC -> Samsung, Washing Machine -> LG)</td></tr><tr><td>ramya</td><td>Map(TV -> , Grinder -> Preethi)</td></tr><tr><td>raghu</td><td>Map(Regrigerator -> LG, TV -> Chroma)</td></tr><tr><td>rosy</td><td>null</td></tr></tbody></table></div>"
      ]
     },
     "metadata": {
      "application/vnd.databricks.v1+output": {
       "addedWidgets": {},
       "aggData": [],
       "aggError": "",
       "aggOverflow": false,
       "aggSchema": [],
       "aggSeriesLimitReached": false,
       "aggType": "",
       "arguments": {},
       "columnCustomDisplayInfos": {},
       "data": [
        [
         "raja",
         {
          "Oven": "Voltas",
          "Refrigerator": "Whirlpool",
          "TV": "LG",
          "Washing Machine": "GE"
         }
        ],
        [
         "raghav",
         {
          "AC": "Samsung",
          "Washing Machine": "LG"
         }
        ],
        [
         "ramya",
         {
          "Grinder": "Preethi",
          "TV": ""
         }
        ],
        [
         "raghu",
         {
          "Regrigerator": "LG",
          "TV": "Chroma"
         }
        ],
        [
         "rosy",
         null
        ]
       ],
       "datasetInfos": [],
       "dbfsResultPath": null,
       "isJsonSchema": true,
       "metadata": {},
       "overflow": false,
       "plotOptions": {
        "customPlotOptions": {},
        "displayType": "table",
        "pivotAggregation": null,
        "pivotColumns": null,
        "xColumns": null,
        "yColumns": null
       },
       "removedWidgets": [],
       "schema": [
        {
         "metadata": "{}",
         "name": "name",
         "type": "\"string\""
        },
        {
         "metadata": "{}",
         "name": "brand",
         "type": "{\"type\":\"map\",\"keyType\":\"string\",\"valueType\":\"string\",\"valueContainsNull\":true}"
        }
       ],
       "type": "table"
      }
     },
     "output_type": "display_data"
    },
    {
     "name": "stdout",
     "output_type": "stream",
     "text": [
      "root\n",
      " |-- name: string (nullable = true)\n",
      " |-- key: string (nullable = false)\n",
      " |-- value: string (nullable = true)\n",
      "\n"
     ]
    },
    {
     "data": {
      "text/html": [
       "<style scoped>\n",
       "  .table-result-container {\n",
       "    max-height: 300px;\n",
       "    overflow: auto;\n",
       "  }\n",
       "  table, th, td {\n",
       "    border: 1px solid black;\n",
       "    border-collapse: collapse;\n",
       "  }\n",
       "  th, td {\n",
       "    padding: 5px;\n",
       "  }\n",
       "  th {\n",
       "    text-align: left;\n",
       "  }\n",
       "</style><div class='table-result-container'><table class='table-result'><thead style='background-color: white'><tr><th>name</th><th>key</th><th>value</th></tr></thead><tbody><tr><td>raja</td><td>Refrigerator</td><td>Whirlpool</td></tr><tr><td>raja</td><td>TV</td><td>LG</td></tr><tr><td>raja</td><td>Oven</td><td>Voltas</td></tr><tr><td>raja</td><td>Washing Machine</td><td>GE</td></tr><tr><td>raghav</td><td>AC</td><td>Samsung</td></tr><tr><td>raghav</td><td>Washing Machine</td><td>LG</td></tr><tr><td>ramya</td><td>TV</td><td></td></tr><tr><td>ramya</td><td>Grinder</td><td>Preethi</td></tr><tr><td>raghu</td><td>Regrigerator</td><td>LG</td></tr><tr><td>raghu</td><td>TV</td><td>Chroma</td></tr></tbody></table></div>"
      ]
     },
     "metadata": {
      "application/vnd.databricks.v1+output": {
       "addedWidgets": {},
       "aggData": [],
       "aggError": "",
       "aggOverflow": false,
       "aggSchema": [],
       "aggSeriesLimitReached": false,
       "aggType": "",
       "arguments": {},
       "columnCustomDisplayInfos": {},
       "data": [
        [
         "raja",
         "Refrigerator",
         "Whirlpool"
        ],
        [
         "raja",
         "TV",
         "LG"
        ],
        [
         "raja",
         "Oven",
         "Voltas"
        ],
        [
         "raja",
         "Washing Machine",
         "GE"
        ],
        [
         "raghav",
         "AC",
         "Samsung"
        ],
        [
         "raghav",
         "Washing Machine",
         "LG"
        ],
        [
         "ramya",
         "TV",
         ""
        ],
        [
         "ramya",
         "Grinder",
         "Preethi"
        ],
        [
         "raghu",
         "Regrigerator",
         "LG"
        ],
        [
         "raghu",
         "TV",
         "Chroma"
        ]
       ],
       "datasetInfos": [],
       "dbfsResultPath": null,
       "isJsonSchema": true,
       "metadata": {},
       "overflow": false,
       "plotOptions": {
        "customPlotOptions": {},
        "displayType": "table",
        "pivotAggregation": null,
        "pivotColumns": null,
        "xColumns": null,
        "yColumns": null
       },
       "removedWidgets": [],
       "schema": [
        {
         "metadata": "{}",
         "name": "name",
         "type": "\"string\""
        },
        {
         "metadata": "{}",
         "name": "key",
         "type": "\"string\""
        },
        {
         "metadata": "{}",
         "name": "value",
         "type": "\"string\""
        }
       ],
       "type": "table"
      }
     },
     "output_type": "display_data"
    }
   ],
   "source": [
    "from pyspark.sql.functions import explode\n",
    "\n",
    "df3 = df_brand.select(df_brand.name,explode(df_brand.brand))\n",
    "\n",
    "df_brand.printSchema()\n",
    "display(df_brand)\n",
    "\n",
    "df3.printSchema()\n",
    "display(df3)"
   ]
  },
  {
   "cell_type": "code",
   "execution_count": null,
   "metadata": {
    "application/vnd.databricks.v1+cell": {
     "cellMetadata": {
      "byteLimit": 2048000,
      "rowLimit": 10000
     },
     "inputWidgets": {},
     "nuid": "c9f891c1-5bd0-4ec3-a36a-9e3c434c780d",
     "showTitle": true,
     "tableResultSettingsMap": {},
     "title": "Explode Outer to consider null values"
    }
   },
   "outputs": [
    {
     "data": {
      "text/html": [
       "<style scoped>\n",
       "  .table-result-container {\n",
       "    max-height: 300px;\n",
       "    overflow: auto;\n",
       "  }\n",
       "  table, th, td {\n",
       "    border: 1px solid black;\n",
       "    border-collapse: collapse;\n",
       "  }\n",
       "  th, td {\n",
       "    padding: 5px;\n",
       "  }\n",
       "  th {\n",
       "    text-align: left;\n",
       "  }\n",
       "</style><div class='table-result-container'><table class='table-result'><thead style='background-color: white'><tr><th>name</th><th>col</th></tr></thead><tbody><tr><td>raja</td><td>TV</td></tr><tr><td>raja</td><td>Refrigerator</td></tr><tr><td>raja</td><td>Washing Machine</td></tr><tr><td>raja</td><td>Oven</td></tr><tr><td>raghav</td><td>AC</td></tr><tr><td>raghav</td><td>Washing Machine</td></tr><tr><td>raghav</td><td>null</td></tr><tr><td>ramya</td><td>Grinder</td></tr><tr><td>ramya</td><td>TV</td></tr><tr><td>raghu</td><td>Regrigerator</td></tr><tr><td>raghu</td><td>TV</td></tr><tr><td>raghu</td><td>null</td></tr><tr><td>rosy</td><td>null</td></tr></tbody></table></div>"
      ]
     },
     "metadata": {
      "application/vnd.databricks.v1+output": {
       "addedWidgets": {},
       "aggData": [],
       "aggError": "",
       "aggOverflow": false,
       "aggSchema": [],
       "aggSeriesLimitReached": false,
       "aggType": "",
       "arguments": {},
       "columnCustomDisplayInfos": {},
       "data": [
        [
         "raja",
         "TV"
        ],
        [
         "raja",
         "Refrigerator"
        ],
        [
         "raja",
         "Washing Machine"
        ],
        [
         "raja",
         "Oven"
        ],
        [
         "raghav",
         "AC"
        ],
        [
         "raghav",
         "Washing Machine"
        ],
        [
         "raghav",
         null
        ],
        [
         "ramya",
         "Grinder"
        ],
        [
         "ramya",
         "TV"
        ],
        [
         "raghu",
         "Regrigerator"
        ],
        [
         "raghu",
         "TV"
        ],
        [
         "raghu",
         null
        ],
        [
         "rosy",
         null
        ]
       ],
       "datasetInfos": [],
       "dbfsResultPath": null,
       "isJsonSchema": true,
       "metadata": {},
       "overflow": false,
       "plotOptions": {
        "customPlotOptions": {},
        "displayType": "table",
        "pivotAggregation": null,
        "pivotColumns": null,
        "xColumns": null,
        "yColumns": null
       },
       "removedWidgets": [],
       "schema": [
        {
         "metadata": "{}",
         "name": "name",
         "type": "\"string\""
        },
        {
         "metadata": "{}",
         "name": "col",
         "type": "\"string\""
        }
       ],
       "type": "table"
      }
     },
     "output_type": "display_data"
    },
    {
     "data": {
      "text/html": [
       "<style scoped>\n",
       "  .table-result-container {\n",
       "    max-height: 300px;\n",
       "    overflow: auto;\n",
       "  }\n",
       "  table, th, td {\n",
       "    border: 1px solid black;\n",
       "    border-collapse: collapse;\n",
       "  }\n",
       "  th, td {\n",
       "    padding: 5px;\n",
       "  }\n",
       "  th {\n",
       "    text-align: left;\n",
       "  }\n",
       "</style><div class='table-result-container'><table class='table-result'><thead style='background-color: white'><tr><th>name</th><th>key</th><th>value</th></tr></thead><tbody><tr><td>raja</td><td>Refrigerator</td><td>Whirlpool</td></tr><tr><td>raja</td><td>TV</td><td>LG</td></tr><tr><td>raja</td><td>Oven</td><td>Voltas</td></tr><tr><td>raja</td><td>Washing Machine</td><td>GE</td></tr><tr><td>raghav</td><td>AC</td><td>Samsung</td></tr><tr><td>raghav</td><td>Washing Machine</td><td>LG</td></tr><tr><td>ramya</td><td>TV</td><td></td></tr><tr><td>ramya</td><td>Grinder</td><td>Preethi</td></tr><tr><td>raghu</td><td>Regrigerator</td><td>LG</td></tr><tr><td>raghu</td><td>TV</td><td>Chroma</td></tr><tr><td>rosy</td><td>null</td><td>null</td></tr></tbody></table></div>"
      ]
     },
     "metadata": {
      "application/vnd.databricks.v1+output": {
       "addedWidgets": {},
       "aggData": [],
       "aggError": "",
       "aggOverflow": false,
       "aggSchema": [],
       "aggSeriesLimitReached": false,
       "aggType": "",
       "arguments": {},
       "columnCustomDisplayInfos": {},
       "data": [
        [
         "raja",
         "Refrigerator",
         "Whirlpool"
        ],
        [
         "raja",
         "TV",
         "LG"
        ],
        [
         "raja",
         "Oven",
         "Voltas"
        ],
        [
         "raja",
         "Washing Machine",
         "GE"
        ],
        [
         "raghav",
         "AC",
         "Samsung"
        ],
        [
         "raghav",
         "Washing Machine",
         "LG"
        ],
        [
         "ramya",
         "TV",
         ""
        ],
        [
         "ramya",
         "Grinder",
         "Preethi"
        ],
        [
         "raghu",
         "Regrigerator",
         "LG"
        ],
        [
         "raghu",
         "TV",
         "Chroma"
        ],
        [
         "rosy",
         null,
         null
        ]
       ],
       "datasetInfos": [],
       "dbfsResultPath": null,
       "isJsonSchema": true,
       "metadata": {},
       "overflow": false,
       "plotOptions": {
        "customPlotOptions": {},
        "displayType": "table",
        "pivotAggregation": null,
        "pivotColumns": null,
        "xColumns": null,
        "yColumns": null
       },
       "removedWidgets": [],
       "schema": [
        {
         "metadata": "{}",
         "name": "name",
         "type": "\"string\""
        },
        {
         "metadata": "{}",
         "name": "key",
         "type": "\"string\""
        },
        {
         "metadata": "{}",
         "name": "value",
         "type": "\"string\""
        }
       ],
       "type": "table"
      }
     },
     "output_type": "display_data"
    }
   ],
   "source": [
    "from pyspark.sql.functions import explode_outer\n",
    "\n",
    "display(df_app.select(df_app.name,explode_outer(df_app.applicance)))\n",
    "\n",
    "display(df_brand.select(df_brand.name,explode_outer(df_brand.brand)))\n",
    "\n"
   ]
  },
  {
   "cell_type": "code",
   "execution_count": null,
   "metadata": {
    "application/vnd.databricks.v1+cell": {
     "cellMetadata": {
      "byteLimit": 2048000,
      "rowLimit": 10000
     },
     "inputWidgets": {},
     "nuid": "cbc8db33-6f36-4e4e-b917-43798014d157",
     "showTitle": false,
     "tableResultSettingsMap": {},
     "title": ""
    }
   },
   "outputs": [
    {
     "data": {
      "text/html": [
       "<style scoped>\n",
       "  .table-result-container {\n",
       "    max-height: 300px;\n",
       "    overflow: auto;\n",
       "  }\n",
       "  table, th, td {\n",
       "    border: 1px solid black;\n",
       "    border-collapse: collapse;\n",
       "  }\n",
       "  th, td {\n",
       "    padding: 5px;\n",
       "  }\n",
       "  th {\n",
       "    text-align: left;\n",
       "  }\n",
       "</style><div class='table-result-container'><table class='table-result'><thead style='background-color: white'><tr><th>name</th><th>pos</th><th>col</th></tr></thead><tbody><tr><td>raja</td><td>0</td><td>TV</td></tr><tr><td>raja</td><td>1</td><td>Refrigerator</td></tr><tr><td>raja</td><td>2</td><td>Washing Machine</td></tr><tr><td>raja</td><td>3</td><td>Oven</td></tr><tr><td>raghav</td><td>0</td><td>AC</td></tr><tr><td>raghav</td><td>1</td><td>Washing Machine</td></tr><tr><td>raghav</td><td>2</td><td>null</td></tr><tr><td>ramya</td><td>0</td><td>Grinder</td></tr><tr><td>ramya</td><td>1</td><td>TV</td></tr><tr><td>raghu</td><td>0</td><td>Regrigerator</td></tr><tr><td>raghu</td><td>1</td><td>TV</td></tr><tr><td>raghu</td><td>2</td><td>null</td></tr></tbody></table></div>"
      ]
     },
     "metadata": {
      "application/vnd.databricks.v1+output": {
       "addedWidgets": {},
       "aggData": [],
       "aggError": "",
       "aggOverflow": false,
       "aggSchema": [],
       "aggSeriesLimitReached": false,
       "aggType": "",
       "arguments": {},
       "columnCustomDisplayInfos": {},
       "data": [
        [
         "raja",
         0,
         "TV"
        ],
        [
         "raja",
         1,
         "Refrigerator"
        ],
        [
         "raja",
         2,
         "Washing Machine"
        ],
        [
         "raja",
         3,
         "Oven"
        ],
        [
         "raghav",
         0,
         "AC"
        ],
        [
         "raghav",
         1,
         "Washing Machine"
        ],
        [
         "raghav",
         2,
         null
        ],
        [
         "ramya",
         0,
         "Grinder"
        ],
        [
         "ramya",
         1,
         "TV"
        ],
        [
         "raghu",
         0,
         "Regrigerator"
        ],
        [
         "raghu",
         1,
         "TV"
        ],
        [
         "raghu",
         2,
         null
        ]
       ],
       "datasetInfos": [],
       "dbfsResultPath": null,
       "isJsonSchema": true,
       "metadata": {},
       "overflow": false,
       "plotOptions": {
        "customPlotOptions": {},
        "displayType": "table",
        "pivotAggregation": null,
        "pivotColumns": null,
        "xColumns": null,
        "yColumns": null
       },
       "removedWidgets": [],
       "schema": [
        {
         "metadata": "{}",
         "name": "name",
         "type": "\"string\""
        },
        {
         "metadata": "{}",
         "name": "pos",
         "type": "\"integer\""
        },
        {
         "metadata": "{}",
         "name": "col",
         "type": "\"string\""
        }
       ],
       "type": "table"
      }
     },
     "output_type": "display_data"
    },
    {
     "data": {
      "text/html": [
       "<style scoped>\n",
       "  .table-result-container {\n",
       "    max-height: 300px;\n",
       "    overflow: auto;\n",
       "  }\n",
       "  table, th, td {\n",
       "    border: 1px solid black;\n",
       "    border-collapse: collapse;\n",
       "  }\n",
       "  th, td {\n",
       "    padding: 5px;\n",
       "  }\n",
       "  th {\n",
       "    text-align: left;\n",
       "  }\n",
       "</style><div class='table-result-container'><table class='table-result'><thead style='background-color: white'><tr><th>name</th><th>pos</th><th>key</th><th>value</th></tr></thead><tbody><tr><td>raja</td><td>0</td><td>Refrigerator</td><td>Whirlpool</td></tr><tr><td>raja</td><td>1</td><td>TV</td><td>LG</td></tr><tr><td>raja</td><td>2</td><td>Oven</td><td>Voltas</td></tr><tr><td>raja</td><td>3</td><td>Washing Machine</td><td>GE</td></tr><tr><td>raghav</td><td>0</td><td>AC</td><td>Samsung</td></tr><tr><td>raghav</td><td>1</td><td>Washing Machine</td><td>LG</td></tr><tr><td>ramya</td><td>0</td><td>TV</td><td></td></tr><tr><td>ramya</td><td>1</td><td>Grinder</td><td>Preethi</td></tr><tr><td>raghu</td><td>0</td><td>Regrigerator</td><td>LG</td></tr><tr><td>raghu</td><td>1</td><td>TV</td><td>Chroma</td></tr></tbody></table></div>"
      ]
     },
     "metadata": {
      "application/vnd.databricks.v1+output": {
       "addedWidgets": {},
       "aggData": [],
       "aggError": "",
       "aggOverflow": false,
       "aggSchema": [],
       "aggSeriesLimitReached": false,
       "aggType": "",
       "arguments": {},
       "columnCustomDisplayInfos": {},
       "data": [
        [
         "raja",
         0,
         "Refrigerator",
         "Whirlpool"
        ],
        [
         "raja",
         1,
         "TV",
         "LG"
        ],
        [
         "raja",
         2,
         "Oven",
         "Voltas"
        ],
        [
         "raja",
         3,
         "Washing Machine",
         "GE"
        ],
        [
         "raghav",
         0,
         "AC",
         "Samsung"
        ],
        [
         "raghav",
         1,
         "Washing Machine",
         "LG"
        ],
        [
         "ramya",
         0,
         "TV",
         ""
        ],
        [
         "ramya",
         1,
         "Grinder",
         "Preethi"
        ],
        [
         "raghu",
         0,
         "Regrigerator",
         "LG"
        ],
        [
         "raghu",
         1,
         "TV",
         "Chroma"
        ]
       ],
       "datasetInfos": [],
       "dbfsResultPath": null,
       "isJsonSchema": true,
       "metadata": {},
       "overflow": false,
       "plotOptions": {
        "customPlotOptions": {},
        "displayType": "table",
        "pivotAggregation": null,
        "pivotColumns": null,
        "xColumns": null,
        "yColumns": null
       },
       "removedWidgets": [],
       "schema": [
        {
         "metadata": "{}",
         "name": "name",
         "type": "\"string\""
        },
        {
         "metadata": "{}",
         "name": "pos",
         "type": "\"integer\""
        },
        {
         "metadata": "{}",
         "name": "key",
         "type": "\"string\""
        },
        {
         "metadata": "{}",
         "name": "value",
         "type": "\"string\""
        }
       ],
       "type": "table"
      }
     },
     "output_type": "display_data"
    }
   ],
   "source": [
    "from pyspark.sql.functions import posexplode\n",
    "\n",
    "display(df_app.select(df_app.name,posexplode(df_app.applicance)))\n",
    "\n",
    "display(df_brand.select(df_brand.name,posexplode(df_brand.brand)))"
   ]
  },
  {
   "cell_type": "code",
   "execution_count": null,
   "metadata": {
    "application/vnd.databricks.v1+cell": {
     "cellMetadata": {
      "byteLimit": 2048000,
      "rowLimit": 10000
     },
     "inputWidgets": {},
     "nuid": "bb673994-7392-420e-923c-93ec87357e5f",
     "showTitle": false,
     "tableResultSettingsMap": {},
     "title": ""
    }
   },
   "outputs": [
    {
     "data": {
      "text/html": [
       "<style scoped>\n",
       "  .table-result-container {\n",
       "    max-height: 300px;\n",
       "    overflow: auto;\n",
       "  }\n",
       "  table, th, td {\n",
       "    border: 1px solid black;\n",
       "    border-collapse: collapse;\n",
       "  }\n",
       "  th, td {\n",
       "    padding: 5px;\n",
       "  }\n",
       "  th {\n",
       "    text-align: left;\n",
       "  }\n",
       "</style><div class='table-result-container'><table class='table-result'><thead style='background-color: white'><tr><th>name</th><th>pos</th><th>col</th></tr></thead><tbody><tr><td>raja</td><td>0</td><td>TV</td></tr><tr><td>raja</td><td>1</td><td>Refrigerator</td></tr><tr><td>raja</td><td>2</td><td>Washing Machine</td></tr><tr><td>raja</td><td>3</td><td>Oven</td></tr><tr><td>raghav</td><td>0</td><td>AC</td></tr><tr><td>raghav</td><td>1</td><td>Washing Machine</td></tr><tr><td>raghav</td><td>2</td><td>null</td></tr><tr><td>ramya</td><td>0</td><td>Grinder</td></tr><tr><td>ramya</td><td>1</td><td>TV</td></tr><tr><td>raghu</td><td>0</td><td>Regrigerator</td></tr><tr><td>raghu</td><td>1</td><td>TV</td></tr><tr><td>raghu</td><td>2</td><td>null</td></tr><tr><td>rosy</td><td>null</td><td>null</td></tr></tbody></table></div>"
      ]
     },
     "metadata": {
      "application/vnd.databricks.v1+output": {
       "addedWidgets": {},
       "aggData": [],
       "aggError": "",
       "aggOverflow": false,
       "aggSchema": [],
       "aggSeriesLimitReached": false,
       "aggType": "",
       "arguments": {},
       "columnCustomDisplayInfos": {},
       "data": [
        [
         "raja",
         0,
         "TV"
        ],
        [
         "raja",
         1,
         "Refrigerator"
        ],
        [
         "raja",
         2,
         "Washing Machine"
        ],
        [
         "raja",
         3,
         "Oven"
        ],
        [
         "raghav",
         0,
         "AC"
        ],
        [
         "raghav",
         1,
         "Washing Machine"
        ],
        [
         "raghav",
         2,
         null
        ],
        [
         "ramya",
         0,
         "Grinder"
        ],
        [
         "ramya",
         1,
         "TV"
        ],
        [
         "raghu",
         0,
         "Regrigerator"
        ],
        [
         "raghu",
         1,
         "TV"
        ],
        [
         "raghu",
         2,
         null
        ],
        [
         "rosy",
         null,
         null
        ]
       ],
       "datasetInfos": [],
       "dbfsResultPath": null,
       "isJsonSchema": true,
       "metadata": {},
       "overflow": false,
       "plotOptions": {
        "customPlotOptions": {},
        "displayType": "table",
        "pivotAggregation": null,
        "pivotColumns": null,
        "xColumns": null,
        "yColumns": null
       },
       "removedWidgets": [],
       "schema": [
        {
         "metadata": "{}",
         "name": "name",
         "type": "\"string\""
        },
        {
         "metadata": "{}",
         "name": "pos",
         "type": "\"integer\""
        },
        {
         "metadata": "{}",
         "name": "col",
         "type": "\"string\""
        }
       ],
       "type": "table"
      }
     },
     "output_type": "display_data"
    },
    {
     "data": {
      "text/html": [
       "<style scoped>\n",
       "  .table-result-container {\n",
       "    max-height: 300px;\n",
       "    overflow: auto;\n",
       "  }\n",
       "  table, th, td {\n",
       "    border: 1px solid black;\n",
       "    border-collapse: collapse;\n",
       "  }\n",
       "  th, td {\n",
       "    padding: 5px;\n",
       "  }\n",
       "  th {\n",
       "    text-align: left;\n",
       "  }\n",
       "</style><div class='table-result-container'><table class='table-result'><thead style='background-color: white'><tr><th>name</th><th>pos</th><th>key</th><th>value</th></tr></thead><tbody><tr><td>raja</td><td>0</td><td>Refrigerator</td><td>Whirlpool</td></tr><tr><td>raja</td><td>1</td><td>TV</td><td>LG</td></tr><tr><td>raja</td><td>2</td><td>Oven</td><td>Voltas</td></tr><tr><td>raja</td><td>3</td><td>Washing Machine</td><td>GE</td></tr><tr><td>raghav</td><td>0</td><td>AC</td><td>Samsung</td></tr><tr><td>raghav</td><td>1</td><td>Washing Machine</td><td>LG</td></tr><tr><td>ramya</td><td>0</td><td>TV</td><td></td></tr><tr><td>ramya</td><td>1</td><td>Grinder</td><td>Preethi</td></tr><tr><td>raghu</td><td>0</td><td>Regrigerator</td><td>LG</td></tr><tr><td>raghu</td><td>1</td><td>TV</td><td>Chroma</td></tr><tr><td>rosy</td><td>null</td><td>null</td><td>null</td></tr></tbody></table></div>"
      ]
     },
     "metadata": {
      "application/vnd.databricks.v1+output": {
       "addedWidgets": {},
       "aggData": [],
       "aggError": "",
       "aggOverflow": false,
       "aggSchema": [],
       "aggSeriesLimitReached": false,
       "aggType": "",
       "arguments": {},
       "columnCustomDisplayInfos": {},
       "data": [
        [
         "raja",
         0,
         "Refrigerator",
         "Whirlpool"
        ],
        [
         "raja",
         1,
         "TV",
         "LG"
        ],
        [
         "raja",
         2,
         "Oven",
         "Voltas"
        ],
        [
         "raja",
         3,
         "Washing Machine",
         "GE"
        ],
        [
         "raghav",
         0,
         "AC",
         "Samsung"
        ],
        [
         "raghav",
         1,
         "Washing Machine",
         "LG"
        ],
        [
         "ramya",
         0,
         "TV",
         ""
        ],
        [
         "ramya",
         1,
         "Grinder",
         "Preethi"
        ],
        [
         "raghu",
         0,
         "Regrigerator",
         "LG"
        ],
        [
         "raghu",
         1,
         "TV",
         "Chroma"
        ],
        [
         "rosy",
         null,
         null,
         null
        ]
       ],
       "datasetInfos": [],
       "dbfsResultPath": null,
       "isJsonSchema": true,
       "metadata": {},
       "overflow": false,
       "plotOptions": {
        "customPlotOptions": {},
        "displayType": "table",
        "pivotAggregation": null,
        "pivotColumns": null,
        "xColumns": null,
        "yColumns": null
       },
       "removedWidgets": [],
       "schema": [
        {
         "metadata": "{}",
         "name": "name",
         "type": "\"string\""
        },
        {
         "metadata": "{}",
         "name": "pos",
         "type": "\"integer\""
        },
        {
         "metadata": "{}",
         "name": "key",
         "type": "\"string\""
        },
        {
         "metadata": "{}",
         "name": "value",
         "type": "\"string\""
        }
       ],
       "type": "table"
      }
     },
     "output_type": "display_data"
    }
   ],
   "source": [
    "from pyspark.sql.functions import posexplode_outer\n",
    "\n",
    "display(df_app.select(df_app.name,posexplode_outer(df_app.applicance)))\n",
    "\n",
    "display(df_brand.select(df_brand.name,posexplode_outer(df_brand.brand)))"
   ]
  }
 ],
 "metadata": {
  "application/vnd.databricks.v1+notebook": {
   "computePreferences": null,
   "dashboards": [],
   "environmentMetadata": null,
   "language": "python",
   "notebookMetadata": {
    "pythonIndentUnit": 4
   },
   "notebookName": "Explode",
   "widgets": {}
  },
  "kernelspec": {
   "display_name": "Python 3 (ipykernel)",
   "language": "python",
   "name": "python3"
  },
  "language_info": {
   "codemirror_mode": {
    "name": "ipython",
    "version": 3
   },
   "file_extension": ".py",
   "mimetype": "text/x-python",
   "name": "python",
   "nbconvert_exporter": "python",
   "pygments_lexer": "ipython3",
   "version": "3.10.10"
  }
 },
 "nbformat": 4,
 "nbformat_minor": 4
}
