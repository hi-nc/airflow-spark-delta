{
 "cells": [
  {
   "cell_type": "code",
   "execution_count": null,
   "metadata": {
    "application/vnd.databricks.v1+cell": {
     "cellMetadata": {
      "byteLimit": 2048000,
      "rowLimit": 10000
     },
     "inputWidgets": {},
     "nuid": "b70118c8-147b-4273-aab6-a17c5b49b367",
     "showTitle": false,
     "tableResultSettingsMap": {},
     "title": ""
    }
   },
   "outputs": [
    {
     "name": "stdout",
     "output_type": "stream",
     "text": [
      "root\n",
      " |-- data: array (nullable = true)\n",
      " |    |-- element: array (containsNull = true)\n",
      " |    |    |-- element: string (containsNull = true)\n",
      " |-- meta: struct (nullable = true)\n",
      " |    |-- view: struct (nullable = true)\n",
      " |    |    |-- approvals: array (nullable = true)\n",
      " |    |    |    |-- element: struct (containsNull = true)\n",
      " |    |    |    |    |-- reviewedAt: long (nullable = true)\n",
      " |    |    |    |    |-- reviewedAutomatically: boolean (nullable = true)\n",
      " |    |    |    |    |-- state: string (nullable = true)\n",
      " |    |    |    |    |-- submissionDetails: struct (nullable = true)\n",
      " |    |    |    |    |    |-- permissionType: string (nullable = true)\n",
      " |    |    |    |    |-- submissionId: long (nullable = true)\n",
      " |    |    |    |    |-- submissionObject: string (nullable = true)\n",
      " |    |    |    |    |-- submissionOutcome: string (nullable = true)\n",
      " |    |    |    |    |-- submissionOutcomeApplication: struct (nullable = true)\n",
      " |    |    |    |    |    |-- failureCount: long (nullable = true)\n",
      " |    |    |    |    |    |-- status: string (nullable = true)\n",
      " |    |    |    |    |-- submittedAt: long (nullable = true)\n",
      " |    |    |    |    |-- submitter: struct (nullable = true)\n",
      " |    |    |    |    |    |-- displayName: string (nullable = true)\n",
      " |    |    |    |    |    |-- id: string (nullable = true)\n",
      " |    |    |    |    |-- workflowId: long (nullable = true)\n",
      " |    |    |-- assetType: string (nullable = true)\n",
      " |    |    |-- attribution: string (nullable = true)\n",
      " |    |    |-- averageRating: long (nullable = true)\n",
      " |    |    |-- category: string (nullable = true)\n",
      " |    |    |-- clientContext: struct (nullable = true)\n",
      " |    |    |    |-- clientContextVariables: array (nullable = true)\n",
      " |    |    |    |    |-- element: string (containsNull = true)\n",
      " |    |    |-- columns: array (nullable = true)\n",
      " |    |    |    |-- element: struct (containsNull = true)\n",
      " |    |    |    |    |-- computationStrategy: struct (nullable = true)\n",
      " |    |    |    |    |    |-- parameters: struct (nullable = true)\n",
      " |    |    |    |    |    |    |-- primary_key: string (nullable = true)\n",
      " |    |    |    |    |    |    |-- region: string (nullable = true)\n",
      " |    |    |    |    |    |-- source_columns: array (nullable = true)\n",
      " |    |    |    |    |    |    |-- element: string (containsNull = true)\n",
      " |    |    |    |    |    |-- type: string (nullable = true)\n",
      " |    |    |    |    |-- dataTypeName: string (nullable = true)\n",
      " |    |    |    |    |-- description: string (nullable = true)\n",
      " |    |    |    |    |-- fieldName: string (nullable = true)\n",
      " |    |    |    |    |-- flags: array (nullable = true)\n",
      " |    |    |    |    |    |-- element: string (containsNull = true)\n",
      " |    |    |    |    |-- format: struct (nullable = true)\n",
      " |    |    |    |    |    |-- align: string (nullable = true)\n",
      " |    |    |    |    |-- id: long (nullable = true)\n",
      " |    |    |    |    |-- name: string (nullable = true)\n",
      " |    |    |    |    |-- position: long (nullable = true)\n",
      " |    |    |    |    |-- renderTypeName: string (nullable = true)\n",
      " |    |    |    |    |-- tableColumnId: long (nullable = true)\n",
      " |    |    |-- createdAt: long (nullable = true)\n",
      " |    |    |-- description: string (nullable = true)\n",
      " |    |    |-- displayType: string (nullable = true)\n",
      " |    |    |-- downloadCount: long (nullable = true)\n",
      " |    |    |-- flags: array (nullable = true)\n",
      " |    |    |    |-- element: string (containsNull = true)\n",
      " |    |    |-- grants: array (nullable = true)\n",
      " |    |    |    |-- element: struct (containsNull = true)\n",
      " |    |    |    |    |-- flags: array (nullable = true)\n",
      " |    |    |    |    |    |-- element: string (containsNull = true)\n",
      " |    |    |    |    |-- inherited: boolean (nullable = true)\n",
      " |    |    |    |    |-- type: string (nullable = true)\n",
      " |    |    |-- hideFromCatalog: boolean (nullable = true)\n",
      " |    |    |-- hideFromDataJson: boolean (nullable = true)\n",
      " |    |    |-- id: string (nullable = true)\n",
      " |    |    |-- metadata: struct (nullable = true)\n",
      " |    |    |    |-- availableDisplayTypes: array (nullable = true)\n",
      " |    |    |    |    |-- element: string (containsNull = true)\n",
      " |    |    |    |-- custom_fields: struct (nullable = true)\n",
      " |    |    |    |    |-- Identification: struct (nullable = true)\n",
      " |    |    |    |    |    |-- Metadata Language: string (nullable = true)\n",
      " |    |    |    |    |    |-- Originator: string (nullable = true)\n",
      " |    |    |    |    |-- Notes: struct (nullable = true)\n",
      " |    |    |    |    |    |-- 1. : string (nullable = true)\n",
      " |    |    |    |    |    |-- 2. : string (nullable = true)\n",
      " |    |    |    |    |    |-- 3. : string (nullable = true)\n",
      " |    |    |    |    |    |-- 4. : string (nullable = true)\n",
      " |    |    |    |    |    |-- 5. : string (nullable = true)\n",
      " |    |    |    |    |    |-- 6. : string (nullable = true)\n",
      " |    |    |    |    |-- Temporal: struct (nullable = true)\n",
      " |    |    |    |    |    |-- Period of Time: string (nullable = true)\n",
      " |    |    |    |    |    |-- Posting Frequency: string (nullable = true)\n",
      " |    |    |    |-- rowLabel: string (nullable = true)\n",
      " |    |    |-- name: string (nullable = true)\n",
      " |    |    |-- newBackend: boolean (nullable = true)\n",
      " |    |    |-- numberOfComments: long (nullable = true)\n",
      " |    |    |-- oid: long (nullable = true)\n",
      " |    |    |-- owner: struct (nullable = true)\n",
      " |    |    |    |-- displayName: string (nullable = true)\n",
      " |    |    |    |-- flags: array (nullable = true)\n",
      " |    |    |    |    |-- element: string (containsNull = true)\n",
      " |    |    |    |-- id: string (nullable = true)\n",
      " |    |    |    |-- profileImageUrlLarge: string (nullable = true)\n",
      " |    |    |    |-- profileImageUrlMedium: string (nullable = true)\n",
      " |    |    |    |-- profileImageUrlSmall: string (nullable = true)\n",
      " |    |    |    |-- screenName: string (nullable = true)\n",
      " |    |    |    |-- type: string (nullable = true)\n",
      " |    |    |-- provenance: string (nullable = true)\n",
      " |    |    |-- publicationAppendEnabled: boolean (nullable = true)\n",
      " |    |    |-- publicationDate: long (nullable = true)\n",
      " |    |    |-- publicationGroup: long (nullable = true)\n",
      " |    |    |-- publicationStage: string (nullable = true)\n",
      " |    |    |-- rights: array (nullable = true)\n",
      " |    |    |    |-- element: string (containsNull = true)\n",
      " |    |    |-- rowsUpdatedAt: long (nullable = true)\n",
      " |    |    |-- rowsUpdatedBy: string (nullable = true)\n",
      " |    |    |-- tableAuthor: struct (nullable = true)\n",
      " |    |    |    |-- displayName: string (nullable = true)\n",
      " |    |    |    |-- flags: array (nullable = true)\n",
      " |    |    |    |    |-- element: string (containsNull = true)\n",
      " |    |    |    |-- id: string (nullable = true)\n",
      " |    |    |    |-- profileImageUrlLarge: string (nullable = true)\n",
      " |    |    |    |-- profileImageUrlMedium: string (nullable = true)\n",
      " |    |    |    |-- profileImageUrlSmall: string (nullable = true)\n",
      " |    |    |    |-- screenName: string (nullable = true)\n",
      " |    |    |    |-- type: string (nullable = true)\n",
      " |    |    |-- tableId: long (nullable = true)\n",
      " |    |    |-- tags: array (nullable = true)\n",
      " |    |    |    |-- element: string (containsNull = true)\n",
      " |    |    |-- totalTimesRated: long (nullable = true)\n",
      " |    |    |-- viewCount: long (nullable = true)\n",
      " |    |    |-- viewLastModified: long (nullable = true)\n",
      " |    |    |-- viewType: string (nullable = true)\n",
      "\n"
     ]
    }
   ],
   "source": [
    "\n",
    "df = spark.read.option(\"multiline\",True).option(\"inferSchema\",True).option(\"header\",True).json(\"/FileStore/tables/ElectricVehiclePopulationData.json\")\n",
    "df.printSchema()\n",
    "#display(df.limit(1))\n"
   ]
  },
  {
   "cell_type": "code",
   "execution_count": null,
   "metadata": {
    "application/vnd.databricks.v1+cell": {
     "cellMetadata": {
      "byteLimit": 2048000,
      "rowLimit": 10000
     },
     "inputWidgets": {},
     "nuid": "1cf5f459-dc88-4f47-862b-99acebe38a1c",
     "showTitle": false,
     "tableResultSettingsMap": {},
     "title": ""
    }
   },
   "outputs": [],
   "source": [
    "from pyspark.sql.types import *\n",
    "from pyspark.sql.functions import *\n",
    "\n",
    "#Flatten array of structs and structs\n",
    "def flatten(df):\n",
    "   #compute Complex Fields (Lists and Structs) in Schema   \n",
    "   complex_fields = dict([(field.name, field.dataType)\n",
    "                             for field in df.schema.fields\n",
    "                             if type(field.dataType) == ArrayType or  type(field.dataType) == StructType])\n",
    "   while len(complex_fields)!=0:\n",
    "      col_name=list(complex_fields.keys())[0]\n",
    "      print (\"Processing :\"+col_name+\" Type : \"+str(type(complex_fields[col_name])))\n",
    "    \n",
    "      #if StructType then convert all sub element to columns.\n",
    "      #i.e. flatten structs\n",
    "      if (type(complex_fields[col_name]) == StructType):\n",
    "         expanded = [col(col_name+'.'+k).alias(col_name+'_'+k) for k in [ n.name for n in  complex_fields[col_name]]]\n",
    "         df=df.select(\"*\", *expanded).drop(col_name)\n",
    "    \n",
    "      #if ArrayType then add the Array Elements as Rows using the explode function\n",
    "      #i.e. explode Arrays\n",
    "      elif (type(complex_fields[col_name]) == ArrayType):    \n",
    "         df=df.withColumn(col_name,explode_outer(col_name))\n",
    "    \n",
    "      #recompute remaining Complex Fields in Schema       \n",
    "      complex_fields = dict([(field.name, field.dataType)\n",
    "                             for field in df.schema.fields\n",
    "                             if type(field.dataType) == ArrayType or  type(field.dataType) == StructType])\n",
    "   return df"
   ]
  },
  {
   "cell_type": "code",
   "execution_count": null,
   "metadata": {
    "application/vnd.databricks.v1+cell": {
     "cellMetadata": {
      "byteLimit": 2048000,
      "rowLimit": 10000
     },
     "inputWidgets": {},
     "nuid": "722a9ed8-1ce7-44a8-b56f-1ac76461e047",
     "showTitle": false,
     "tableResultSettingsMap": {},
     "title": ""
    }
   },
   "outputs": [
    {
     "name": "stdout",
     "output_type": "stream",
     "text": [
      "Processing :courses Type : <class 'pyspark.sql.types.ArrayType'>\n",
      "Processing :details Type : <class 'pyspark.sql.types.StructType'>\n"
     ]
    },
    {
     "data": {
      "text/html": [
       "<style scoped>\n",
       "  .table-result-container {\n",
       "    max-height: 300px;\n",
       "    overflow: auto;\n",
       "  }\n",
       "  table, th, td {\n",
       "    border: 1px solid black;\n",
       "    border-collapse: collapse;\n",
       "  }\n",
       "  th, td {\n",
       "    padding: 5px;\n",
       "  }\n",
       "  th {\n",
       "    text-align: left;\n",
       "  }\n",
       "</style><div class='table-result-container'><table class='table-result'><thead style='background-color: white'><tr><th>courses</th><th>customerid</th><th>customername</th><th>registered</th><th>details_city</th><th>details_mobile</th></tr></thead><tbody><tr><td>AZ-900</td><td>1</td><td>UserA</td><td>true</td><td>CityA</td><td>111-1112</td></tr><tr><td>AZ-500</td><td>1</td><td>UserA</td><td>true</td><td>CityA</td><td>111-1112</td></tr><tr><td>AZ-303</td><td>1</td><td>UserA</td><td>true</td><td>CityA</td><td>111-1112</td></tr></tbody></table></div>"
      ]
     },
     "metadata": {
      "application/vnd.databricks.v1+output": {
       "addedWidgets": {},
       "aggData": [],
       "aggError": "",
       "aggOverflow": false,
       "aggSchema": [],
       "aggSeriesLimitReached": false,
       "aggType": "",
       "arguments": {},
       "columnCustomDisplayInfos": {},
       "data": [
        [
         "AZ-900",
         1,
         "UserA",
         true,
         "CityA",
         "111-1112"
        ],
        [
         "AZ-500",
         1,
         "UserA",
         true,
         "CityA",
         "111-1112"
        ],
        [
         "AZ-303",
         1,
         "UserA",
         true,
         "CityA",
         "111-1112"
        ]
       ],
       "datasetInfos": [],
       "dbfsResultPath": null,
       "isJsonSchema": true,
       "metadata": {},
       "overflow": false,
       "plotOptions": {
        "customPlotOptions": {},
        "displayType": "table",
        "pivotAggregation": null,
        "pivotColumns": null,
        "xColumns": null,
        "yColumns": null
       },
       "removedWidgets": [],
       "schema": [
        {
         "metadata": "{}",
         "name": "courses",
         "type": "\"string\""
        },
        {
         "metadata": "{}",
         "name": "customerid",
         "type": "\"long\""
        },
        {
         "metadata": "{}",
         "name": "customername",
         "type": "\"string\""
        },
        {
         "metadata": "{}",
         "name": "registered",
         "type": "\"boolean\""
        },
        {
         "metadata": "{}",
         "name": "details_city",
         "type": "\"string\""
        },
        {
         "metadata": "{}",
         "name": "details_mobile",
         "type": "\"string\""
        }
       ],
       "type": "table"
      }
     },
     "output_type": "display_data"
    }
   ],
   "source": [
    "flatten_df=flatten(df)\n",
    "display(flatten_df)"
   ]
  }
 ],
 "metadata": {
  "application/vnd.databricks.v1+notebook": {
   "computePreferences": null,
   "dashboards": [],
   "environmentMetadata": null,
   "language": "python",
   "notebookMetadata": {
    "pythonIndentUnit": 4
   },
   "notebookName": "Read Json - flatten",
   "widgets": {}
  },
  "kernelspec": {
   "display_name": "Python 3 (ipykernel)",
   "language": "python",
   "name": "python3"
  },
  "language_info": {
   "codemirror_mode": {
    "name": "ipython",
    "version": 3
   },
   "file_extension": ".py",
   "mimetype": "text/x-python",
   "name": "python",
   "nbconvert_exporter": "python",
   "pygments_lexer": "ipython3",
   "version": "3.10.10"
  }
 },
 "nbformat": 4,
 "nbformat_minor": 4
}
