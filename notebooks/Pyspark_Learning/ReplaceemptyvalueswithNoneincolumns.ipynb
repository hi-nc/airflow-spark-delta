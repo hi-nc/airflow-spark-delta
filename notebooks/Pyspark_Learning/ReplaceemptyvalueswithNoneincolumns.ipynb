{
 "cells": [
  {
   "cell_type": "code",
   "execution_count": 1,
   "id": "2ce16a8f-171a-43a7-9bc2-a4d0d401aab3",
   "metadata": {
    "tags": []
   },
   "outputs": [
    {
     "name": "stdout",
     "output_type": "stream",
     "text": [
      "+------+-----+\n",
      "|  name|state|\n",
      "+------+-----+\n",
      "|      |   CA|\n",
      "| Julia|     |\n",
      "|Robert|     |\n",
      "|      |   NJ|\n",
      "+------+-----+\n",
      "\n",
      "+------+-----+\n",
      "|  name|state|\n",
      "+------+-----+\n",
      "|  null|   CA|\n",
      "| Julia|     |\n",
      "|Robert|     |\n",
      "|  null|   NJ|\n",
      "+------+-----+\n",
      "\n",
      "+------+-----+\n",
      "|  name|state|\n",
      "+------+-----+\n",
      "|  null|   CA|\n",
      "| Julia| null|\n",
      "|Robert| null|\n",
      "|  null|   NJ|\n",
      "+------+-----+\n",
      "\n",
      "+------+-----+\n",
      "|  name|state|\n",
      "+------+-----+\n",
      "|  null|   CA|\n",
      "| Julia| null|\n",
      "|Robert| null|\n",
      "|  null|   NJ|\n",
      "+------+-----+\n",
      "\n"
     ]
    }
   ],
   "source": [
    "from pyspark.sql import SparkSession\n",
    "spark = SparkSession.builder.master(\"local[1]\") \\\n",
    "                    .appName('SparkByExamples.com') \\\n",
    "                    .getOrCreate()\n",
    "\n",
    "data = [(\"\",\"CA\"), (\"Julia\",\"\"),(\"Robert\",\"\"),(\"\",\"NJ\")]\n",
    "df =spark.createDataFrame(data,[\"name\",\"state\"])\n",
    "df.show()\n",
    "\n",
    "#Replace empty string with None\n",
    "from pyspark.sql.functions import col,when\n",
    "df.withColumn(\"name\", \\\n",
    "       when(col(\"name\")==\"\" ,None) \\\n",
    "          .otherwise(col(\"name\"))) \\\n",
    "  .show()\n",
    "  \n",
    "#Replace empty string with None for all columns\n",
    "df2=df.select([when(col(c)==\"\",None).otherwise(col(c)).alias(c) for c in df.columns])\n",
    "df2.show()\n",
    "\n",
    "#Replace empty string with None on selected columns\n",
    "replaceCols=[\"name\",\"state\"]\n",
    "df2=df.select([when(col(c)==\"\",None).otherwise(col(c)).alias(c) for c in replaceCols])\n",
    "df2.show()"
   ]
  },
  {
   "cell_type": "code",
   "execution_count": null,
   "id": "14569834-4060-47e8-8638-5769368bcb15",
   "metadata": {},
   "outputs": [],
   "source": []
  }
 ],
 "metadata": {
  "kernelspec": {
   "display_name": "Python 3 (ipykernel)",
   "language": "python",
   "name": "python3"
  },
  "language_info": {
   "codemirror_mode": {
    "name": "ipython",
    "version": 3
   },
   "file_extension": ".py",
   "mimetype": "text/x-python",
   "name": "python",
   "nbconvert_exporter": "python",
   "pygments_lexer": "ipython3",
   "version": "3.10.10"
  }
 },
 "nbformat": 4,
 "nbformat_minor": 5
}
