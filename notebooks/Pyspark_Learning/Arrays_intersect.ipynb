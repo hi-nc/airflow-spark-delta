{
 "cells": [
  {
   "cell_type": "code",
   "execution_count": null,
   "id": "e2c39d2f-2f47-44bb-bdc8-541caade5b78",
   "metadata": {},
   "outputs": [],
   "source": [
    "It returns common elements across two arrays without any duplication"
   ]
  },
  {
   "cell_type": "code",
   "execution_count": 2,
   "id": "76600edb-c2e9-4c7b-be60-50629527626f",
   "metadata": {
    "tags": []
   },
   "outputs": [
    {
     "name": "stdout",
     "output_type": "stream",
     "text": [
      "+----------+------------------------+----------------------+----------------+\n",
      "|department|team_A                  |team_B                |common_employees|\n",
      "+----------+------------------------+----------------------+----------------+\n",
      "|Sales     |[John, Alice, Bob, Mike]|[Alice, Mike, David]  |[Alice, Mike]   |\n",
      "|HR        |[Emma, Sophia, Olivia]  |[Sophia, Liam, Olivia]|[Sophia, Olivia]|\n",
      "|IT        |[Ryan, Noah, Ava]       |[Mason, Ava, Noah]    |[Noah, Ava]     |\n",
      "+----------+------------------------+----------------------+----------------+\n",
      "\n"
     ]
    }
   ],
   "source": [
    "from pyspark.sql import SparkSession\n",
    "from pyspark.sql.functions import array_intersect\n",
    "\n",
    "# Initialize Spark session\n",
    "spark = SparkSession.builder.master(\"local[1]\") \\\n",
    "                    .appName('SparkByExamples.com') \\\n",
    "                    .getOrCreate()\n",
    "\n",
    "# Sample Data: Employees in Team A and Team B\n",
    "data = [\n",
    "    (\"Sales\", [\"John\", \"Alice\", \"Bob\", \"Mike\"], [\"Alice\", \"Mike\", \"David\"]),\n",
    "    (\"HR\", [\"Emma\", \"Sophia\", \"Olivia\"], [\"Sophia\", \"Liam\", \"Olivia\"]),\n",
    "    (\"IT\", [\"Ryan\", \"Noah\", \"Ava\"], [\"Mason\", \"Ava\", \"Noah\"])\n",
    "]\n",
    "\n",
    "# Create DataFrame\n",
    "df = spark.createDataFrame(data, [\"department\", \"team_A\", \"team_B\"])\n",
    "\n",
    "# Find common employees in both teams\n",
    "df = df.withColumn(\"common_employees\", array_intersect(\"team_A\", \"team_B\"))\n",
    "\n",
    "# Show results\n",
    "df.show(truncate=False)"
   ]
  },
  {
   "cell_type": "code",
   "execution_count": null,
   "id": "d38f3b9e-60e3-42f6-8462-d887fe6050af",
   "metadata": {},
   "outputs": [],
   "source": []
  }
 ],
 "metadata": {
  "kernelspec": {
   "display_name": "Python 3 (ipykernel)",
   "language": "python",
   "name": "python3"
  },
  "language_info": {
   "codemirror_mode": {
    "name": "ipython",
    "version": 3
   },
   "file_extension": ".py",
   "mimetype": "text/x-python",
   "name": "python",
   "nbconvert_exporter": "python",
   "pygments_lexer": "ipython3",
   "version": "3.10.10"
  }
 },
 "nbformat": 4,
 "nbformat_minor": 5
}
