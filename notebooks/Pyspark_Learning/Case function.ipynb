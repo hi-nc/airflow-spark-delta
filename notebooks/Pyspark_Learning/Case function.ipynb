{
 "cells": [
  {
   "cell_type": "code",
   "execution_count": null,
   "metadata": {
    "application/vnd.databricks.v1+cell": {
     "cellMetadata": {
      "byteLimit": 2048000,
      "rowLimit": 10000
     },
     "inputWidgets": {},
     "nuid": "b65bc15a-50fa-444f-866c-331f7c952cdd",
     "showTitle": false,
     "tableResultSettingsMap": {},
     "title": ""
    }
   },
   "outputs": [
    {
     "name": "stdout",
     "output_type": "stream",
     "text": [
      "root\n",
      " |-- Name: string (nullable = true)\n",
      " |-- Subject: string (nullable = true)\n",
      " |-- Marks: long (nullable = true)\n",
      " |-- PassorFail: string (nullable = true)\n",
      " |-- Attendance: long (nullable = true)\n",
      "\n"
     ]
    },
    {
     "data": {
      "text/html": [
       "<style scoped>\n",
       "  .table-result-container {\n",
       "    max-height: 300px;\n",
       "    overflow: auto;\n",
       "  }\n",
       "  table, th, td {\n",
       "    border: 1px solid black;\n",
       "    border-collapse: collapse;\n",
       "  }\n",
       "  th, td {\n",
       "    padding: 5px;\n",
       "  }\n",
       "  th {\n",
       "    text-align: left;\n",
       "  }\n",
       "</style><div class='table-result-container'><table class='table-result'><thead style='background-color: white'><tr><th>Name</th><th>Subject</th><th>Marks</th><th>PassorFail</th><th>Attendance</th></tr></thead><tbody><tr><td>raja</td><td>Math</td><td>80</td><td>P</td><td>90</td></tr><tr><td>raghav</td><td>English</td><td>60</td><td>P</td><td>87</td></tr><tr><td>ramya</td><td>Science</td><td>70</td><td>P</td><td>78</td></tr><tr><td>raghu</td><td>Math</td><td>30</td><td>F</td><td>50</td></tr><tr><td>rosy</td><td>Math</td><td>40</td><td>F</td><td>75</td></tr><tr><td>rose</td><td>Math</td><td>null</td><td>NA</td><td>70</td></tr></tbody></table></div>"
      ]
     },
     "metadata": {
      "application/vnd.databricks.v1+output": {
       "addedWidgets": {},
       "aggData": [],
       "aggError": "",
       "aggOverflow": false,
       "aggSchema": [],
       "aggSeriesLimitReached": false,
       "aggType": "",
       "arguments": {},
       "columnCustomDisplayInfos": {},
       "data": [
        [
         "raja",
         "Math",
         80,
         "P",
         90
        ],
        [
         "raghav",
         "English",
         60,
         "P",
         87
        ],
        [
         "ramya",
         "Science",
         70,
         "P",
         78
        ],
        [
         "raghu",
         "Math",
         30,
         "F",
         50
        ],
        [
         "rosy",
         "Math",
         40,
         "F",
         75
        ],
        [
         "rose",
         "Math",
         null,
         "NA",
         70
        ]
       ],
       "datasetInfos": [],
       "dbfsResultPath": null,
       "isJsonSchema": true,
       "metadata": {},
       "overflow": false,
       "plotOptions": {
        "customPlotOptions": {},
        "displayType": "table",
        "pivotAggregation": null,
        "pivotColumns": null,
        "xColumns": null,
        "yColumns": null
       },
       "removedWidgets": [],
       "schema": [
        {
         "metadata": "{}",
         "name": "Name",
         "type": "\"string\""
        },
        {
         "metadata": "{}",
         "name": "Subject",
         "type": "\"string\""
        },
        {
         "metadata": "{}",
         "name": "Marks",
         "type": "\"long\""
        },
        {
         "metadata": "{}",
         "name": "PassorFail",
         "type": "\"string\""
        },
        {
         "metadata": "{}",
         "name": "Attendance",
         "type": "\"long\""
        }
       ],
       "type": "table"
      }
     },
     "output_type": "display_data"
    }
   ],
   "source": [
    "data_student = [\n",
    "    (\"raja\",\"Math\",80,\"P\",90),\n",
    "    (\"raghav\",\"English\",60,\"P\",87),\n",
    "    (\"ramya\",\"Science\",70,\"P\",78),\n",
    "    (\"raghu\",\"Math\",30,\"F\",50),\n",
    "    (\"rosy\",\"Math\",40,\"F\",75),\n",
    "    (\"rose\",\"Math\",None,\"NA\",70)\n",
    "]\n",
    "\n",
    "df_student = spark.createDataFrame(data=data_student,schema=[\"Name\",\"Subject\",\"Marks\",\"PassorFail\",\"Attendance\"])\n",
    "df_student.printSchema()\n",
    "display(df_student)"
   ]
  },
  {
   "cell_type": "code",
   "execution_count": null,
   "metadata": {
    "application/vnd.databricks.v1+cell": {
     "cellMetadata": {
      "byteLimit": 2048000,
      "rowLimit": 10000
     },
     "inputWidgets": {},
     "nuid": "38c24258-9194-4d1a-bbd8-f9465f8d5ee5",
     "showTitle": true,
     "tableResultSettingsMap": {},
     "title": "Create New column"
    }
   },
   "outputs": [
    {
     "data": {
      "text/html": [
       "<style scoped>\n",
       "  .table-result-container {\n",
       "    max-height: 300px;\n",
       "    overflow: auto;\n",
       "  }\n",
       "  table, th, td {\n",
       "    border: 1px solid black;\n",
       "    border-collapse: collapse;\n",
       "  }\n",
       "  th, td {\n",
       "    padding: 5px;\n",
       "  }\n",
       "  th {\n",
       "    text-align: left;\n",
       "  }\n",
       "</style><div class='table-result-container'><table class='table-result'><thead style='background-color: white'><tr><th>Name</th><th>Subject</th><th>Marks</th><th>PassorFail</th><th>Attendance</th><th>New Status</th></tr></thead><tbody><tr><td>raja</td><td>Math</td><td>80</td><td>P</td><td>90</td><td>Pass</td></tr><tr><td>raghav</td><td>English</td><td>60</td><td>P</td><td>87</td><td>Pass</td></tr><tr><td>ramya</td><td>Science</td><td>70</td><td>P</td><td>78</td><td>Pass</td></tr><tr><td>raghu</td><td>Math</td><td>30</td><td>F</td><td>50</td><td>Fail</td></tr><tr><td>rosy</td><td>Math</td><td>40</td><td>F</td><td>75</td><td>Fail</td></tr><tr><td>rose</td><td>Math</td><td>null</td><td>NA</td><td>70</td><td>Absentee</td></tr></tbody></table></div>"
      ]
     },
     "metadata": {
      "application/vnd.databricks.v1+output": {
       "addedWidgets": {},
       "aggData": [],
       "aggError": "",
       "aggOverflow": false,
       "aggSchema": [],
       "aggSeriesLimitReached": false,
       "aggType": "",
       "arguments": {},
       "columnCustomDisplayInfos": {},
       "data": [
        [
         "raja",
         "Math",
         80,
         "P",
         90,
         "Pass"
        ],
        [
         "raghav",
         "English",
         60,
         "P",
         87,
         "Pass"
        ],
        [
         "ramya",
         "Science",
         70,
         "P",
         78,
         "Pass"
        ],
        [
         "raghu",
         "Math",
         30,
         "F",
         50,
         "Fail"
        ],
        [
         "rosy",
         "Math",
         40,
         "F",
         75,
         "Fail"
        ],
        [
         "rose",
         "Math",
         null,
         "NA",
         70,
         "Absentee"
        ]
       ],
       "datasetInfos": [],
       "dbfsResultPath": null,
       "isJsonSchema": true,
       "metadata": {},
       "overflow": false,
       "plotOptions": {
        "customPlotOptions": {},
        "displayType": "table",
        "pivotAggregation": null,
        "pivotColumns": null,
        "xColumns": null,
        "yColumns": null
       },
       "removedWidgets": [],
       "schema": [
        {
         "metadata": "{}",
         "name": "Name",
         "type": "\"string\""
        },
        {
         "metadata": "{}",
         "name": "Subject",
         "type": "\"string\""
        },
        {
         "metadata": "{}",
         "name": "Marks",
         "type": "\"long\""
        },
        {
         "metadata": "{}",
         "name": "PassorFail",
         "type": "\"string\""
        },
        {
         "metadata": "{}",
         "name": "Attendance",
         "type": "\"long\""
        },
        {
         "metadata": "{}",
         "name": "New Status",
         "type": "\"string\""
        }
       ],
       "type": "table"
      }
     },
     "output_type": "display_data"
    }
   ],
   "source": [
    "from pyspark.sql.functions import when\n",
    "\n",
    "df2 = df_student.withColumn(\"New Status\",when(df_student.Marks >= 50, \"Pass\")\n",
    "                      .when(df_student.Marks < 50, \"Fail\")\n",
    "                      .otherwise(\"Absentee\"))\n",
    "display(df2)                    "
   ]
  },
  {
   "cell_type": "code",
   "execution_count": null,
   "metadata": {
    "application/vnd.databricks.v1+cell": {
     "cellMetadata": {
      "byteLimit": 2048000,
      "rowLimit": 10000
     },
     "inputWidgets": {},
     "nuid": "f3685722-b0af-4713-a88e-be57b35750fe",
     "showTitle": true,
     "tableResultSettingsMap": {},
     "title": "Update Existing Column"
    }
   },
   "outputs": [
    {
     "data": {
      "text/html": [
       "<style scoped>\n",
       "  .table-result-container {\n",
       "    max-height: 300px;\n",
       "    overflow: auto;\n",
       "  }\n",
       "  table, th, td {\n",
       "    border: 1px solid black;\n",
       "    border-collapse: collapse;\n",
       "  }\n",
       "  th, td {\n",
       "    padding: 5px;\n",
       "  }\n",
       "  th {\n",
       "    text-align: left;\n",
       "  }\n",
       "</style><div class='table-result-container'><table class='table-result'><thead style='background-color: white'><tr><th>Name</th><th>Subject</th><th>Marks</th><th>PassorFail</th><th>Attendance</th></tr></thead><tbody><tr><td>raja</td><td>Math</td><td>80</td><td>Pass</td><td>90</td></tr><tr><td>raghav</td><td>English</td><td>60</td><td>Pass</td><td>87</td></tr><tr><td>ramya</td><td>Science</td><td>70</td><td>Pass</td><td>78</td></tr><tr><td>raghu</td><td>Math</td><td>30</td><td>Fail</td><td>50</td></tr><tr><td>rosy</td><td>Math</td><td>40</td><td>Fail</td><td>75</td></tr><tr><td>rose</td><td>Math</td><td>null</td><td>Absentee</td><td>70</td></tr></tbody></table></div>"
      ]
     },
     "metadata": {
      "application/vnd.databricks.v1+output": {
       "addedWidgets": {},
       "aggData": [],
       "aggError": "",
       "aggOverflow": false,
       "aggSchema": [],
       "aggSeriesLimitReached": false,
       "aggType": "",
       "arguments": {},
       "columnCustomDisplayInfos": {},
       "data": [
        [
         "raja",
         "Math",
         80,
         "Pass",
         90
        ],
        [
         "raghav",
         "English",
         60,
         "Pass",
         87
        ],
        [
         "ramya",
         "Science",
         70,
         "Pass",
         78
        ],
        [
         "raghu",
         "Math",
         30,
         "Fail",
         50
        ],
        [
         "rosy",
         "Math",
         40,
         "Fail",
         75
        ],
        [
         "rose",
         "Math",
         null,
         "Absentee",
         70
        ]
       ],
       "datasetInfos": [],
       "dbfsResultPath": null,
       "isJsonSchema": true,
       "metadata": {},
       "overflow": false,
       "plotOptions": {
        "customPlotOptions": {},
        "displayType": "table",
        "pivotAggregation": null,
        "pivotColumns": null,
        "xColumns": null,
        "yColumns": null
       },
       "removedWidgets": [],
       "schema": [
        {
         "metadata": "{}",
         "name": "Name",
         "type": "\"string\""
        },
        {
         "metadata": "{}",
         "name": "Subject",
         "type": "\"string\""
        },
        {
         "metadata": "{}",
         "name": "Marks",
         "type": "\"long\""
        },
        {
         "metadata": "{}",
         "name": "PassorFail",
         "type": "\"string\""
        },
        {
         "metadata": "{}",
         "name": "Attendance",
         "type": "\"long\""
        }
       ],
       "type": "table"
      }
     },
     "output_type": "display_data"
    }
   ],
   "source": [
    "from pyspark.sql.functions import when\n",
    "\n",
    "df1 = df_student.withColumn(\"PassorFail\",when(df_student.Marks >= 50, \"Pass\")\n",
    "                      .when(df_student.Marks < 50, \"Fail\")\n",
    "                      .otherwise(\"Absentee\"))\n",
    "display(df1)  "
   ]
  },
  {
   "cell_type": "code",
   "execution_count": null,
   "metadata": {
    "application/vnd.databricks.v1+cell": {
     "cellMetadata": {
      "byteLimit": 2048000,
      "rowLimit": 10000
     },
     "inputWidgets": {},
     "nuid": "b260e1d2-2b83-4c6e-b301-83c0c31b8b3f",
     "showTitle": true,
     "tableResultSettingsMap": {},
     "title": "Using Case - another syntax method"
    }
   },
   "outputs": [
    {
     "data": {
      "text/html": [
       "<style scoped>\n",
       "  .table-result-container {\n",
       "    max-height: 300px;\n",
       "    overflow: auto;\n",
       "  }\n",
       "  table, th, td {\n",
       "    border: 1px solid black;\n",
       "    border-collapse: collapse;\n",
       "  }\n",
       "  th, td {\n",
       "    padding: 5px;\n",
       "  }\n",
       "  th {\n",
       "    text-align: left;\n",
       "  }\n",
       "</style><div class='table-result-container'><table class='table-result'><thead style='background-color: white'><tr><th>Name</th><th>Subject</th><th>Marks</th><th>PassorFail</th><th>Attendance</th><th>New Status</th></tr></thead><tbody><tr><td>raja</td><td>Math</td><td>80</td><td>P</td><td>90</td><td>Pass</td></tr><tr><td>raghav</td><td>English</td><td>60</td><td>P</td><td>87</td><td>Pass</td></tr><tr><td>ramya</td><td>Science</td><td>70</td><td>P</td><td>78</td><td>Pass</td></tr><tr><td>raghu</td><td>Math</td><td>30</td><td>F</td><td>50</td><td>Fail</td></tr><tr><td>rosy</td><td>Math</td><td>40</td><td>F</td><td>75</td><td>Fail</td></tr><tr><td>rose</td><td>Math</td><td>null</td><td>NA</td><td>70</td><td>Absentee</td></tr></tbody></table></div>"
      ]
     },
     "metadata": {
      "application/vnd.databricks.v1+output": {
       "addedWidgets": {},
       "aggData": [],
       "aggError": "",
       "aggOverflow": false,
       "aggSchema": [],
       "aggSeriesLimitReached": false,
       "aggType": "",
       "arguments": {},
       "columnCustomDisplayInfos": {},
       "data": [
        [
         "raja",
         "Math",
         80,
         "P",
         90,
         "Pass"
        ],
        [
         "raghav",
         "English",
         60,
         "P",
         87,
         "Pass"
        ],
        [
         "ramya",
         "Science",
         70,
         "P",
         78,
         "Pass"
        ],
        [
         "raghu",
         "Math",
         30,
         "F",
         50,
         "Fail"
        ],
        [
         "rosy",
         "Math",
         40,
         "F",
         75,
         "Fail"
        ],
        [
         "rose",
         "Math",
         null,
         "NA",
         70,
         "Absentee"
        ]
       ],
       "datasetInfos": [],
       "dbfsResultPath": null,
       "isJsonSchema": true,
       "metadata": {},
       "overflow": false,
       "plotOptions": {
        "customPlotOptions": {},
        "displayType": "table",
        "pivotAggregation": null,
        "pivotColumns": null,
        "xColumns": null,
        "yColumns": null
       },
       "removedWidgets": [],
       "schema": [
        {
         "metadata": "{}",
         "name": "Name",
         "type": "\"string\""
        },
        {
         "metadata": "{}",
         "name": "Subject",
         "type": "\"string\""
        },
        {
         "metadata": "{}",
         "name": "Marks",
         "type": "\"long\""
        },
        {
         "metadata": "{}",
         "name": "PassorFail",
         "type": "\"string\""
        },
        {
         "metadata": "{}",
         "name": "Attendance",
         "type": "\"long\""
        },
        {
         "metadata": "{}",
         "name": "New Status",
         "type": "\"string\""
        }
       ],
       "type": "table"
      }
     },
     "output_type": "display_data"
    }
   ],
   "source": [
    "from pyspark.sql.functions import expr\n",
    "\n",
    "df3 = df_student.withColumn(\"New Status\",expr(\"CASE WHEN Marks >= 50 THEN 'Pass' \" +\n",
    "                      \"WHEN Marks < 50 THEN 'Fail' \" +\n",
    "                      \"ELSE 'Absentee' END \"))\n",
    "display(df3)  "
   ]
  },
  {
   "cell_type": "code",
   "execution_count": null,
   "metadata": {
    "application/vnd.databricks.v1+cell": {
     "cellMetadata": {
      "byteLimit": 2048000,
      "rowLimit": 10000
     },
     "inputWidgets": {},
     "nuid": "8fabe98c-e3c3-4d02-96ff-c5d41b36c83b",
     "showTitle": true,
     "tableResultSettingsMap": {},
     "title": "Multiconditions using AND and OR operators"
    }
   },
   "outputs": [
    {
     "data": {
      "text/html": [
       "<style scoped>\n",
       "  .table-result-container {\n",
       "    max-height: 300px;\n",
       "    overflow: auto;\n",
       "  }\n",
       "  table, th, td {\n",
       "    border: 1px solid black;\n",
       "    border-collapse: collapse;\n",
       "  }\n",
       "  th, td {\n",
       "    padding: 5px;\n",
       "  }\n",
       "  th {\n",
       "    text-align: left;\n",
       "  }\n",
       "</style><div class='table-result-container'><table class='table-result'><thead style='background-color: white'><tr><th>Name</th><th>Subject</th><th>Marks</th><th>PassorFail</th><th>Attendance</th><th>Grade</th></tr></thead><tbody><tr><td>raja</td><td>Math</td><td>80</td><td>P</td><td>90</td><td>Distinction</td></tr><tr><td>raghav</td><td>English</td><td>60</td><td>P</td><td>87</td><td>Distinction</td></tr><tr><td>ramya</td><td>Science</td><td>70</td><td>P</td><td>78</td><td>Distinction</td></tr><tr><td>raghu</td><td>Math</td><td>30</td><td>F</td><td>50</td><td>Average</td></tr><tr><td>rosy</td><td>Math</td><td>40</td><td>F</td><td>75</td><td>Average</td></tr><tr><td>rose</td><td>Math</td><td>null</td><td>NA</td><td>70</td><td>Average</td></tr></tbody></table></div>"
      ]
     },
     "metadata": {
      "application/vnd.databricks.v1+output": {
       "addedWidgets": {},
       "aggData": [],
       "aggError": "",
       "aggOverflow": false,
       "aggSchema": [],
       "aggSeriesLimitReached": false,
       "aggType": "",
       "arguments": {},
       "columnCustomDisplayInfos": {},
       "data": [
        [
         "raja",
         "Math",
         80,
         "P",
         90,
         "Distinction"
        ],
        [
         "raghav",
         "English",
         60,
         "P",
         87,
         "Distinction"
        ],
        [
         "ramya",
         "Science",
         70,
         "P",
         78,
         "Distinction"
        ],
        [
         "raghu",
         "Math",
         30,
         "F",
         50,
         "Average"
        ],
        [
         "rosy",
         "Math",
         40,
         "F",
         75,
         "Average"
        ],
        [
         "rose",
         "Math",
         null,
         "NA",
         70,
         "Average"
        ]
       ],
       "datasetInfos": [],
       "dbfsResultPath": null,
       "isJsonSchema": true,
       "metadata": {},
       "overflow": false,
       "plotOptions": {
        "customPlotOptions": {},
        "displayType": "table",
        "pivotAggregation": null,
        "pivotColumns": null,
        "xColumns": null,
        "yColumns": null
       },
       "removedWidgets": [],
       "schema": [
        {
         "metadata": "{}",
         "name": "Name",
         "type": "\"string\""
        },
        {
         "metadata": "{}",
         "name": "Subject",
         "type": "\"string\""
        },
        {
         "metadata": "{}",
         "name": "Marks",
         "type": "\"long\""
        },
        {
         "metadata": "{}",
         "name": "PassorFail",
         "type": "\"string\""
        },
        {
         "metadata": "{}",
         "name": "Attendance",
         "type": "\"long\""
        },
        {
         "metadata": "{}",
         "name": "Grade",
         "type": "\"string\""
        }
       ],
       "type": "table"
      }
     },
     "output_type": "display_data"
    }
   ],
   "source": [
    "from pyspark.sql.functions import when\n",
    "\n",
    "df5 = df_student.withColumn(\"Grade\",when((df_student.Marks >= 50) | (df_student.Attendance >= 80), \"Distinction\")\n",
    "                      .when((df_student.Marks >= 50) & (df_student.Attendance >= 50), \"Good\")\n",
    "                      .otherwise(\"Average\"))\n",
    "display(df5)  "
   ]
  }
 ],
 "metadata": {
  "application/vnd.databricks.v1+notebook": {
   "computePreferences": null,
   "dashboards": [],
   "environmentMetadata": null,
   "language": "python",
   "notebookMetadata": {
    "pythonIndentUnit": 4
   },
   "notebookName": "Case function",
   "widgets": {}
  },
  "kernelspec": {
   "display_name": "Python 3 (ipykernel)",
   "language": "python",
   "name": "python3"
  },
  "language_info": {
   "codemirror_mode": {
    "name": "ipython",
    "version": 3
   },
   "file_extension": ".py",
   "mimetype": "text/x-python",
   "name": "python",
   "nbconvert_exporter": "python",
   "pygments_lexer": "ipython3",
   "version": "3.10.10"
  }
 },
 "nbformat": 4,
 "nbformat_minor": 4
}
