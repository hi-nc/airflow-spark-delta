{
 "cells": [
  {
   "cell_type": "code",
   "execution_count": 3,
   "id": "6a0b8b9f-27c8-4d1e-b9d0-2b76770e75ed",
   "metadata": {
    "tags": []
   },
   "outputs": [
    {
     "name": "stdout",
     "output_type": "stream",
     "text": [
      "+-------+---------+----+------+----------+\n",
      "|   Name|  Subject|Mark|Status|Attendance|\n",
      "+-------+---------+----+------+----------+\n",
      "|   John|  Physics|  90|     P|        90|\n",
      "|   John|Chemistry|  70|     P|        80|\n",
      "|   John|     Math|  30|     F|        40|\n",
      "|Michael|  Physics|  80|     P|        70|\n",
      "|Michael|Chemistry|  65|     P|        50|\n",
      "|Michael|     Math|  70|     P|        60|\n",
      "| Blessy|  Physics|  40|     F|        30|\n",
      "| Blessy|Chemistry|  55|     P|        50|\n",
      "| Blessy|     Math|  80|     P|        50|\n",
      "|  Nancy|  Physics|  85|     P|        75|\n",
      "|  Nancy|Chemistry|  35|     F|        55|\n",
      "|  Nancy|     Math|  75|     P|        50|\n",
      "|  David|  Physics|  30|     F|        40|\n",
      "|  David|Chemistry|  70|     P|        50|\n",
      "|  David|     Math|  75|     P|        75|\n",
      "+-------+---------+----+------+----------+\n",
      "\n"
     ]
    }
   ],
   "source": [
    "import pyspark\n",
    "from pyspark.sql import SparkSession\n",
    "\n",
    "spark = SparkSession.builder.master(\"local[1]\") \\\n",
    "                    .appName('SparkByExamples.com') \\\n",
    "                    .getOrCreate()\n",
    "\n",
    "# Sample DataFrame\n",
    "data_student = [\n",
    "    (\"John\", \"Physics\",90, \"P\", 90),\n",
    "    (\"John\", \"Chemistry\",70, \"P\", 80),\n",
    "    (\"John\", \"Math\", 30, \"F\", 40),\n",
    "    (\"Michael\", \"Physics\",80, \"P\", 70),\n",
    "    (\"Michael\", \"Chemistry\",65, \"P\", 50),\n",
    "    (\"Michael\", \"Math\", 70, \"P\", 60),\n",
    "    (\"Blessy\", \"Physics\",40, \"F\", 30),\n",
    "    (\"Blessy\", \"Chemistry\",55, \"P\", 50),\n",
    "    (\"Blessy\", \"Math\", 80, \"P\", 50),\n",
    "    (\"Nancy\", \"Physics\",85, \"P\", 75),\n",
    "    (\"Nancy\", \"Chemistry\",35, \"F\", 55),\n",
    "    (\"Nancy\", \"Math\", 75, \"P\", 50),\n",
    "    (\"David\", \"Physics\",30, \"F\", 40),\n",
    "    (\"David\", \"Chemistry\",70, \"P\", 50),\n",
    "    (\"David\", \"Math\", 75, \"P\", 75)   \n",
    "]\n",
    "\n",
    "# Create DataFrame\n",
    "df = spark.createDataFrame(data=data_student, schema = [\"Name\", \"Subject\", \"Mark\", \"Status\", \"Attendance\"])\n",
    "df.show()"
   ]
  },
  {
   "cell_type": "code",
   "execution_count": 7,
   "id": "a7106964-e6e7-4fa5-8d86-14c9861f9213",
   "metadata": {
    "tags": []
   },
   "outputs": [
    {
     "name": "stdout",
     "output_type": "stream",
     "text": [
      "+-------+---------+----+------+----------+---+\n",
      "|   Name|  Subject|Mark|Status|Attendance|row|\n",
      "+-------+---------+----+------+----------+---+\n",
      "| Blessy|     Math|  80|     P|        50|  1|\n",
      "| Blessy|Chemistry|  55|     P|        50|  2|\n",
      "| Blessy|  Physics|  40|     F|        30|  3|\n",
      "|  David|     Math|  75|     P|        75|  1|\n",
      "|  David|Chemistry|  70|     P|        50|  2|\n",
      "|  David|  Physics|  30|     F|        40|  3|\n",
      "|   John|  Physics|  90|     P|        90|  1|\n",
      "|   John|Chemistry|  70|     P|        80|  2|\n",
      "|   John|     Math|  30|     F|        40|  3|\n",
      "|Michael|  Physics|  80|     P|        70|  1|\n",
      "|Michael|     Math|  70|     P|        60|  2|\n",
      "|Michael|Chemistry|  65|     P|        50|  3|\n",
      "|  Nancy|  Physics|  85|     P|        75|  1|\n",
      "|  Nancy|     Math|  75|     P|        50|  2|\n",
      "|  Nancy|Chemistry|  35|     F|        55|  3|\n",
      "+-------+---------+----+------+----------+---+\n",
      "\n"
     ]
    }
   ],
   "source": [
    "#Create rank within each group of Name\n",
    "from pyspark.sql.window import Window\n",
    "from pyspark.sql.functions import col,row_number\n",
    "\n",
    "Window_dept = Window.partitionBy(\"Name\").orderBy(col(\"Mark\").desc())\n",
    "df2 = df.withColumn(\"row\",row_number().over(Window_dept)).orderBy(\"Name\",\"row\")\n",
    "df2.show()                                                                  "
   ]
  },
  {
   "cell_type": "code",
   "execution_count": 8,
   "id": "cc3c83cf-a165-4230-bb3f-21b79e2fc225",
   "metadata": {
    "tags": []
   },
   "outputs": [
    {
     "name": "stdout",
     "output_type": "stream",
     "text": [
      "+-------+-------+----+------+----------+---+\n",
      "|   Name|Subject|Mark|Status|Attendance|row|\n",
      "+-------+-------+----+------+----------+---+\n",
      "| Blessy|   Math|  80|     P|        50|  1|\n",
      "|  David|   Math|  75|     P|        75|  1|\n",
      "|   John|Physics|  90|     P|        90|  1|\n",
      "|Michael|Physics|  80|     P|        70|  1|\n",
      "|  Nancy|Physics|  85|     P|        75|  1|\n",
      "+-------+-------+----+------+----------+---+\n",
      "\n"
     ]
    }
   ],
   "source": [
    "#Top N rows with the above group\n",
    "df3=df2.filter(col(\"row\")<=1)\n",
    "df3.show()"
   ]
  },
  {
   "cell_type": "code",
   "execution_count": 9,
   "id": "647f854f-233e-4ab8-87c6-8fb62c9ee984",
   "metadata": {
    "tags": []
   },
   "outputs": [
    {
     "name": "stdout",
     "output_type": "stream",
     "text": [
      "+-------+---------+----+------+----------+---+\n",
      "|   Name|  Subject|Mark|Status|Attendance|row|\n",
      "+-------+---------+----+------+----------+---+\n",
      "| Blessy|     Math|  80|     P|        50|  1|\n",
      "| Blessy|Chemistry|  55|     P|        50|  4|\n",
      "| Blessy|  Physics|  40|     F|        30|  4|\n",
      "|  David|Chemistry|  70|     P|        50|  2|\n",
      "|  David|     Math|  75|     P|        75|  3|\n",
      "|  David|  Physics|  30|     F|        40|  5|\n",
      "|   John|  Physics|  90|     P|        90|  1|\n",
      "|   John|Chemistry|  70|     P|        80|  1|\n",
      "|   John|     Math|  30|     F|        40|  5|\n",
      "|Michael|  Physics|  80|     P|        70|  3|\n",
      "|Michael|Chemistry|  65|     P|        50|  3|\n",
      "|Michael|     Math|  70|     P|        60|  4|\n",
      "|  Nancy|     Math|  75|     P|        50|  2|\n",
      "|  Nancy|  Physics|  85|     P|        75|  2|\n",
      "|  Nancy|Chemistry|  35|     F|        55|  5|\n",
      "+-------+---------+----+------+----------+---+\n",
      "\n"
     ]
    }
   ],
   "source": [
    "#Create rank within each group of Subject\n",
    "\n",
    "Window_Subject = Window.partitionBy(\"Subject\").orderBy(col(\"Mark\").desc())\n",
    "df4 = df.withColumn(\"row\",row_number().over(Window_Subject)).orderBy(\"Name\",\"row\")\n",
    "df4.show() "
   ]
  },
  {
   "cell_type": "code",
   "execution_count": 10,
   "id": "8879ce0f-c5fb-4c53-8b60-914e8e9f3f94",
   "metadata": {
    "tags": []
   },
   "outputs": [
    {
     "name": "stdout",
     "output_type": "stream",
     "text": [
      "+------+---------+----+------+----------+---+\n",
      "|  Name|  Subject|Mark|Status|Attendance|row|\n",
      "+------+---------+----+------+----------+---+\n",
      "|Blessy|     Math|  80|     P|        50|  1|\n",
      "|  John|Chemistry|  70|     P|        80|  1|\n",
      "|  John|  Physics|  90|     P|        90|  1|\n",
      "+------+---------+----+------+----------+---+\n",
      "\n"
     ]
    }
   ],
   "source": [
    "#Top N rows with the above group\n",
    "df5=df4.filter(col(\"row\")<=1)\n",
    "df5.show()"
   ]
  },
  {
   "cell_type": "code",
   "execution_count": 12,
   "id": "99427bd9-6631-4462-a2ff-638a0346cd33",
   "metadata": {
    "tags": []
   },
   "outputs": [
    {
     "name": "stdout",
     "output_type": "stream",
     "text": [
      "+-------+---------+----+------+----------+---+\n",
      "|   Name|  Subject|Mark|Status|Attendance|row|\n",
      "+-------+---------+----+------+----------+---+\n",
      "| Blessy|  Physics|  40|     F|        30|  1|\n",
      "| Blessy|Chemistry|  55|     P|        50|  2|\n",
      "| Blessy|     Math|  80|     P|        50|  3|\n",
      "|  David|  Physics|  30|     F|        40|  1|\n",
      "|  David|Chemistry|  70|     P|        50|  2|\n",
      "|  David|     Math|  75|     P|        75|  3|\n",
      "|   John|     Math|  30|     F|        40|  1|\n",
      "|   John|Chemistry|  70|     P|        80|  2|\n",
      "|   John|  Physics|  90|     P|        90|  3|\n",
      "|Michael|Chemistry|  65|     P|        50|  1|\n",
      "|Michael|     Math|  70|     P|        60|  2|\n",
      "|Michael|  Physics|  80|     P|        70|  3|\n",
      "|  Nancy|Chemistry|  35|     F|        55|  1|\n",
      "|  Nancy|     Math|  75|     P|        50|  2|\n",
      "|  Nancy|  Physics|  85|     P|        75|  3|\n",
      "+-------+---------+----+------+----------+---+\n",
      "\n",
      "+-------+---------+----+------+----------+---+\n",
      "|   Name|  Subject|Mark|Status|Attendance|row|\n",
      "+-------+---------+----+------+----------+---+\n",
      "| Blessy|  Physics|  40|     F|        30|  1|\n",
      "|  David|  Physics|  30|     F|        40|  1|\n",
      "|   John|     Math|  30|     F|        40|  1|\n",
      "|Michael|Chemistry|  65|     P|        50|  1|\n",
      "|  Nancy|Chemistry|  35|     F|        55|  1|\n",
      "+-------+---------+----+------+----------+---+\n",
      "\n"
     ]
    }
   ],
   "source": [
    "#Bottom N rows per Name group\n",
    "Window_dept_bottom = Window.partitionBy(\"Name\").orderBy(col(\"Mark\"))\n",
    "df6 = df.withColumn(\"row\",row_number().over(Window_dept_bottom)).orderBy(\"Name\",\"row\")\n",
    "df6.show()      \n",
    "df7=df6.filter(col(\"row\")<=1)\n",
    "df7.show()"
   ]
  },
  {
   "cell_type": "code",
   "execution_count": 13,
   "id": "8afba69d-6406-4e28-a5a5-349a315ca512",
   "metadata": {
    "tags": []
   },
   "outputs": [
    {
     "name": "stdout",
     "output_type": "stream",
     "text": [
      "+-------+---------+----+------+----------+---+\n",
      "|   Name|  Subject|Mark|Status|Attendance|row|\n",
      "+-------+---------+----+------+----------+---+\n",
      "| Blessy|  Physics|  40|     F|        30|  2|\n",
      "| Blessy|Chemistry|  55|     P|        50|  2|\n",
      "| Blessy|     Math|  80|     P|        50|  5|\n",
      "|  David|  Physics|  30|     F|        40|  1|\n",
      "|  David|     Math|  75|     P|        75|  4|\n",
      "|  David|Chemistry|  70|     P|        50|  5|\n",
      "|   John|     Math|  30|     F|        40|  1|\n",
      "|   John|Chemistry|  70|     P|        80|  4|\n",
      "|   John|  Physics|  90|     P|        90|  5|\n",
      "|Michael|     Math|  70|     P|        60|  2|\n",
      "|Michael|  Physics|  80|     P|        70|  3|\n",
      "|Michael|Chemistry|  65|     P|        50|  3|\n",
      "|  Nancy|Chemistry|  35|     F|        55|  1|\n",
      "|  Nancy|     Math|  75|     P|        50|  3|\n",
      "|  Nancy|  Physics|  85|     P|        75|  4|\n",
      "+-------+---------+----+------+----------+---+\n",
      "\n",
      "+-----+---------+----+------+----------+---+\n",
      "| Name|  Subject|Mark|Status|Attendance|row|\n",
      "+-----+---------+----+------+----------+---+\n",
      "|David|  Physics|  30|     F|        40|  1|\n",
      "| John|     Math|  30|     F|        40|  1|\n",
      "|Nancy|Chemistry|  35|     F|        55|  1|\n",
      "+-----+---------+----+------+----------+---+\n",
      "\n"
     ]
    }
   ],
   "source": [
    "#Bottom N rows per Subject group\n",
    "Window_Subject_bottom = Window.partitionBy(\"Subject\").orderBy(col(\"Mark\"))\n",
    "df8 = df.withColumn(\"row\",row_number().over(Window_Subject_bottom)).orderBy(\"Name\",\"row\")\n",
    "df8.show()  \n",
    "df9=df8.filter(col(\"row\")<=1)\n",
    "df9.show()"
   ]
  },
  {
   "cell_type": "code",
   "execution_count": 14,
   "id": "a6acb14e-de14-448c-a357-a2a822c9995d",
   "metadata": {
    "tags": []
   },
   "outputs": [
    {
     "name": "stdout",
     "output_type": "stream",
     "text": [
      "+-------+---------+----+------+----------+---+\n",
      "|   Name|  Subject|Mark|Status|Attendance|row|\n",
      "+-------+---------+----+------+----------+---+\n",
      "| Blessy|  Physics|  40|     F|        30|  2|\n",
      "| Blessy|Chemistry|  55|     P|        50|  2|\n",
      "|  David|  Physics|  30|     F|        40|  1|\n",
      "|   John|     Math|  30|     F|        40|  1|\n",
      "|Michael|     Math|  70|     P|        60|  2|\n",
      "|  Nancy|Chemistry|  35|     F|        55|  1|\n",
      "+-------+---------+----+------+----------+---+\n",
      "\n"
     ]
    }
   ],
   "source": [
    "df10=df8.filter(col(\"row\")<=2)\n",
    "df10.show()"
   ]
  },
  {
   "cell_type": "code",
   "execution_count": null,
   "id": "fe6b75ea-52a3-4769-806c-91ee033b5729",
   "metadata": {},
   "outputs": [],
   "source": []
  }
 ],
 "metadata": {
  "kernelspec": {
   "display_name": "Python 3 (ipykernel)",
   "language": "python",
   "name": "python3"
  },
  "language_info": {
   "codemirror_mode": {
    "name": "ipython",
    "version": 3
   },
   "file_extension": ".py",
   "mimetype": "text/x-python",
   "name": "python",
   "nbconvert_exporter": "python",
   "pygments_lexer": "ipython3",
   "version": "3.10.10"
  }
 },
 "nbformat": 4,
 "nbformat_minor": 5
}
