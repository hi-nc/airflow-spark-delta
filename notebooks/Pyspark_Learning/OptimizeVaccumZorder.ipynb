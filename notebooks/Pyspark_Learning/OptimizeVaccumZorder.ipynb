{
 "cells": [
  {
   "cell_type": "code",
   "execution_count": null,
   "id": "e418ac9f-b29e-41c3-8bcd-44da5c7e5ce4",
   "metadata": {},
   "outputs": [],
   "source": [
    "In Databricks (Delta Lake), OPTIMIZE, VACUUM, and ZORDER are used to improve performance and manage storage. \n",
    "\n",
    "OPTIMIZE( (Improves Query Speed)\n",
    "When you write or update data in Delta Lake, files can become small and fragmented.\n",
    "OPTIMIZE combines small files into fewer large files, making queries run faster.Small files are compacted to around 1GB;\n",
    "This value was determined by the Spark optimization team as a good compromise between speed and performace.Works best \n",
    "when used periodically for frequently updated tables.\n",
    "\n",
    "Usage : OPTIMIZE delta.`/mnt/delta/att_sales_data`;\n",
    "\n",
    "VACUUM(Deletes Old Data & Saves Storage) :\n",
    "When you update or delete data in Delta Lake, old versions of files still exist for time travel and rollback.\n",
    "VACUUM deletes these old files that were used in compaction.This removes old files older than 7 hours (default is 7 days).\n",
    "Always be careful with VACUUM—you cannot recover deleted data unless you back it up!So Don't set a retention interval shorter than seven days \n",
    "because old snapshots and uncommitted files can still be in use by concurrent readers or writers to the table.\n",
    "\n",
    "Usage: VACUUM delta.`/mnt/delta/att_sales_data` RETAIN 7 HOURS;\n",
    "\n",
    "Best Practice :\n",
    "Run VACUUM after OPTIMIZE to clean old versions.\n",
    "Increase retention period (e.g., 7 days) if rollback is needed.\n",
    "         \n",
    "Zorder((Faster Filtering with Indexing)\n",
    "When querying large tables, ZORDER helps speed up searches by sorting data based on a column.\n",
    "\n",
    "Usage: OPTIMIZE delta.`/mnt/delta/att_sales_data` ZORDER BY (region);\n",
    "       \n",
    "Best Practice:\n",
    "Use ZORDER on high-cardinality columns (e.g., timestamps, customer IDs, regions).\n",
    "Combine with OPTIMIZE for best results."
   ]
  }
 ],
 "metadata": {
  "kernelspec": {
   "display_name": "Python 3 (ipykernel)",
   "language": "python",
   "name": "python3"
  },
  "language_info": {
   "codemirror_mode": {
    "name": "ipython",
    "version": 3
   },
   "file_extension": ".py",
   "mimetype": "text/x-python",
   "name": "python",
   "nbconvert_exporter": "python",
   "pygments_lexer": "ipython3",
   "version": "3.10.10"
  }
 },
 "nbformat": 4,
 "nbformat_minor": 5
}
