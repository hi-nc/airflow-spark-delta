{
 "cells": [
  {
   "cell_type": "code",
   "execution_count": null,
   "metadata": {
    "application/vnd.databricks.v1+cell": {
     "cellMetadata": {
      "byteLimit": 2048000,
      "rowLimit": 10000
     },
     "inputWidgets": {},
     "nuid": "bc54ee3f-e7ed-439b-a46e-1b27b7d4cf32",
     "showTitle": false,
     "tableResultSettingsMap": {},
     "title": ""
    }
   },
   "outputs": [
    {
     "data": {
      "text/html": [
       "<style scoped>\n",
       "  .table-result-container {\n",
       "    max-height: 300px;\n",
       "    overflow: auto;\n",
       "  }\n",
       "  table, th, td {\n",
       "    border: 1px solid black;\n",
       "    border-collapse: collapse;\n",
       "  }\n",
       "  th, td {\n",
       "    padding: 5px;\n",
       "  }\n",
       "  th {\n",
       "    text-align: left;\n",
       "  }\n",
       "</style><div class='table-result-container'><table class='table-result'><thead style='background-color: white'><tr><th>Company</th><th>Quarter</th><th>Revenue</th></tr></thead><tbody><tr><td>ABC</td><td>Q1</td><td>2000</td></tr><tr><td>XYZ</td><td>Q1</td><td>4000</td></tr><tr><td>ABC</td><td>Q2</td><td>3000</td></tr><tr><td>XYZ</td><td>Q2</td><td>1000</td></tr><tr><td>ABC</td><td>Q3</td><td>2000</td></tr><tr><td>XYZ</td><td>Q3</td><td>6000</td></tr><tr><td>ABC</td><td>Q4</td><td>3000</td></tr><tr><td>XYZ</td><td>Q4</td><td>5000</td></tr></tbody></table></div>"
      ]
     },
     "metadata": {
      "application/vnd.databricks.v1+output": {
       "addedWidgets": {},
       "aggData": [],
       "aggError": "",
       "aggOverflow": false,
       "aggSchema": [],
       "aggSeriesLimitReached": false,
       "aggType": "",
       "arguments": {},
       "columnCustomDisplayInfos": {},
       "data": [
        [
         "ABC",
         "Q1",
         2000
        ],
        [
         "XYZ",
         "Q1",
         4000
        ],
        [
         "ABC",
         "Q2",
         3000
        ],
        [
         "XYZ",
         "Q2",
         1000
        ],
        [
         "ABC",
         "Q3",
         2000
        ],
        [
         "XYZ",
         "Q3",
         6000
        ],
        [
         "ABC",
         "Q4",
         3000
        ],
        [
         "XYZ",
         "Q4",
         5000
        ]
       ],
       "datasetInfos": [],
       "dbfsResultPath": null,
       "isJsonSchema": true,
       "metadata": {},
       "overflow": false,
       "plotOptions": {
        "customPlotOptions": {},
        "displayType": "table",
        "pivotAggregation": null,
        "pivotColumns": null,
        "xColumns": null,
        "yColumns": null
       },
       "removedWidgets": [],
       "schema": [
        {
         "metadata": "{}",
         "name": "Company",
         "type": "\"string\""
        },
        {
         "metadata": "{}",
         "name": "Quarter",
         "type": "\"string\""
        },
        {
         "metadata": "{}",
         "name": "Revenue",
         "type": "\"long\""
        }
       ],
       "type": "table"
      }
     },
     "output_type": "display_data"
    }
   ],
   "source": [
    "data = [(\"ABC\",\"Q1\",2000),\n",
    "        (\"XYZ\",\"Q1\",4000),\n",
    "        (\"ABC\",\"Q2\",3000),\n",
    "        (\"XYZ\",\"Q2\",1000),\n",
    "        (\"ABC\",\"Q3\",2000),\n",
    "        (\"XYZ\",\"Q3\",6000),\n",
    "        (\"ABC\",\"Q4\",3000),\n",
    "        (\"XYZ\",\"Q4\",5000)]\n",
    "schema = [\"Company\",\"Quarter\",\"Revenue\"]\n",
    "\n",
    "df = spark.createDataFrame(data,schema)\n",
    "display(df)"
   ]
  },
  {
   "cell_type": "code",
   "execution_count": null,
   "metadata": {
    "application/vnd.databricks.v1+cell": {
     "cellMetadata": {
      "byteLimit": 2048000,
      "rowLimit": 10000
     },
     "inputWidgets": {},
     "nuid": "8ce8fd8e-de3f-41e7-a28c-944090e2d92c",
     "showTitle": true,
     "tableResultSettingsMap": {},
     "title": "Pivot"
    }
   },
   "outputs": [
    {
     "data": {
      "text/html": [
       "<style scoped>\n",
       "  .table-result-container {\n",
       "    max-height: 300px;\n",
       "    overflow: auto;\n",
       "  }\n",
       "  table, th, td {\n",
       "    border: 1px solid black;\n",
       "    border-collapse: collapse;\n",
       "  }\n",
       "  th, td {\n",
       "    padding: 5px;\n",
       "  }\n",
       "  th {\n",
       "    text-align: left;\n",
       "  }\n",
       "</style><div class='table-result-container'><table class='table-result'><thead style='background-color: white'><tr><th>Company</th><th>Q1</th><th>Q2</th><th>Q3</th><th>Q4</th></tr></thead><tbody><tr><td>XYZ</td><td>4000</td><td>1000</td><td>6000</td><td>5000</td></tr><tr><td>ABC</td><td>2000</td><td>3000</td><td>2000</td><td>3000</td></tr></tbody></table></div>"
      ]
     },
     "metadata": {
      "application/vnd.databricks.v1+output": {
       "addedWidgets": {},
       "aggData": [],
       "aggError": "",
       "aggOverflow": false,
       "aggSchema": [],
       "aggSeriesLimitReached": false,
       "aggType": "",
       "arguments": {},
       "columnCustomDisplayInfos": {},
       "data": [
        [
         "XYZ",
         4000,
         1000,
         6000,
         5000
        ],
        [
         "ABC",
         2000,
         3000,
         2000,
         3000
        ]
       ],
       "datasetInfos": [],
       "dbfsResultPath": null,
       "isJsonSchema": true,
       "metadata": {},
       "overflow": false,
       "plotOptions": {
        "customPlotOptions": {},
        "displayType": "table",
        "pivotAggregation": null,
        "pivotColumns": null,
        "xColumns": null,
        "yColumns": null
       },
       "removedWidgets": [],
       "schema": [
        {
         "metadata": "{}",
         "name": "Company",
         "type": "\"string\""
        },
        {
         "metadata": "{}",
         "name": "Q1",
         "type": "\"long\""
        },
        {
         "metadata": "{}",
         "name": "Q2",
         "type": "\"long\""
        },
        {
         "metadata": "{}",
         "name": "Q3",
         "type": "\"long\""
        },
        {
         "metadata": "{}",
         "name": "Q4",
         "type": "\"long\""
        }
       ],
       "type": "table"
      }
     },
     "output_type": "display_data"
    }
   ],
   "source": [
    "pivot_df = df.groupBy(\"Company\").pivot(\"Quarter\").sum(\"Revenue\")\n",
    "display(pivot_df)"
   ]
  },
  {
   "cell_type": "code",
   "execution_count": null,
   "metadata": {
    "application/vnd.databricks.v1+cell": {
     "cellMetadata": {
      "byteLimit": 2048000,
      "rowLimit": 10000
     },
     "inputWidgets": {},
     "nuid": "28a60144-a306-4d44-983f-49cafa6f24ca",
     "showTitle": true,
     "tableResultSettingsMap": {},
     "title": "Unpivot a df"
    }
   },
   "outputs": [
    {
     "data": {
      "text/html": [
       "<style scoped>\n",
       "  .table-result-container {\n",
       "    max-height: 300px;\n",
       "    overflow: auto;\n",
       "  }\n",
       "  table, th, td {\n",
       "    border: 1px solid black;\n",
       "    border-collapse: collapse;\n",
       "  }\n",
       "  th, td {\n",
       "    padding: 5px;\n",
       "  }\n",
       "  th {\n",
       "    text-align: left;\n",
       "  }\n",
       "</style><div class='table-result-container'><table class='table-result'><thead style='background-color: white'><tr><th>Company</th><th>Quarter</th><th>Revenue</th></tr></thead><tbody><tr><td>XYZ</td><td>Q1</td><td>4000</td></tr><tr><td>XYZ</td><td>Q2</td><td>1000</td></tr><tr><td>XYZ</td><td>Q3</td><td>6000</td></tr><tr><td>XYZ</td><td>Q4</td><td>5000</td></tr><tr><td>ABC</td><td>Q1</td><td>2000</td></tr><tr><td>ABC</td><td>Q2</td><td>3000</td></tr><tr><td>ABC</td><td>Q3</td><td>2000</td></tr><tr><td>ABC</td><td>Q4</td><td>3000</td></tr></tbody></table></div>"
      ]
     },
     "metadata": {
      "application/vnd.databricks.v1+output": {
       "addedWidgets": {},
       "aggData": [],
       "aggError": "",
       "aggOverflow": false,
       "aggSchema": [],
       "aggSeriesLimitReached": false,
       "aggType": "",
       "arguments": {},
       "columnCustomDisplayInfos": {},
       "data": [
        [
         "XYZ",
         "Q1",
         4000
        ],
        [
         "XYZ",
         "Q2",
         1000
        ],
        [
         "XYZ",
         "Q3",
         6000
        ],
        [
         "XYZ",
         "Q4",
         5000
        ],
        [
         "ABC",
         "Q1",
         2000
        ],
        [
         "ABC",
         "Q2",
         3000
        ],
        [
         "ABC",
         "Q3",
         2000
        ],
        [
         "ABC",
         "Q4",
         3000
        ]
       ],
       "datasetInfos": [],
       "dbfsResultPath": null,
       "isJsonSchema": true,
       "metadata": {},
       "overflow": false,
       "plotOptions": {
        "customPlotOptions": {},
        "displayType": "table",
        "pivotAggregation": null,
        "pivotColumns": null,
        "xColumns": null,
        "yColumns": null
       },
       "removedWidgets": [],
       "schema": [
        {
         "metadata": "{}",
         "name": "Company",
         "type": "\"string\""
        },
        {
         "metadata": "{}",
         "name": "Quarter",
         "type": "\"string\""
        },
        {
         "metadata": "{}",
         "name": "Revenue",
         "type": "\"long\""
        }
       ],
       "type": "table"
      }
     },
     "output_type": "display_data"
    }
   ],
   "source": [
    "df2 = pivot_df.selectExpr(\"Company\",\"stack (4,'Q1',Q1,'Q2',Q2,'Q3',Q3,'Q4',Q4) as (Quarter,Revenue)\")\n",
    "display(df2)"
   ]
  }
 ],
 "metadata": {
  "application/vnd.databricks.v1+notebook": {
   "computePreferences": null,
   "dashboards": [],
   "environmentMetadata": null,
   "language": "python",
   "notebookMetadata": {
    "pythonIndentUnit": 4
   },
   "notebookName": "Pivot and Unpivot",
   "widgets": {}
  },
  "kernelspec": {
   "display_name": "Python 3 (ipykernel)",
   "language": "python",
   "name": "python3"
  },
  "language_info": {
   "codemirror_mode": {
    "name": "ipython",
    "version": 3
   },
   "file_extension": ".py",
   "mimetype": "text/x-python",
   "name": "python",
   "nbconvert_exporter": "python",
   "pygments_lexer": "ipython3",
   "version": "3.10.10"
  }
 },
 "nbformat": 4,
 "nbformat_minor": 4
}
