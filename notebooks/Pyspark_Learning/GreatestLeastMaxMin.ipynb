{
 "cells": [
  {
   "cell_type": "code",
   "execution_count": 2,
   "id": "2a946b52-a545-44dd-8bdc-df4a6a88cd38",
   "metadata": {
    "tags": []
   },
   "outputs": [
    {
     "name": "stdout",
     "output_type": "stream",
     "text": [
      "+-------+---------+---------+---------+---------+\n",
      "|   name|Subject_1|Subject_2|Subject_3|Subject_4|\n",
      "+-------+---------+---------+---------+---------+\n",
      "|   John|       50|       60|       70|       80|\n",
      "|  Alice|       29|       30|       50|       60|\n",
      "|  Nancy|       35|       45|       65|       78|\n",
      "|    Bob|       40|       50|       78|       90|\n",
      "|Michael|       67|       87|       40|       80|\n",
      "+-------+---------+---------+---------+---------+\n",
      "\n"
     ]
    }
   ],
   "source": [
    "from pyspark.sql import SparkSession\n",
    "from pyspark.sql.functions import col, sum,count,when\n",
    "\n",
    "# Initialize Spark session\n",
    "spark = SparkSession.builder.master(\"local[1]\") \\\n",
    "                    .appName('SparkByExamples.com') \\\n",
    "                    .getOrCreate()\n",
    "\n",
    "# Sample DataFrame \n",
    "data = [\n",
    "    (\"John\", 50, 60,70,80),\n",
    "    (\"Alice\", 29,30,50,60),\n",
    "    (\"Nancy\", 35, 45,65,78),\n",
    "    (\"Bob\", 40,50,78,90),\n",
    "    (\"Michael\", 67,87,40, 80)\n",
    "]\n",
    "\n",
    "# Create DataFrame\n",
    "df = spark.createDataFrame(data, [\"name\", \"Subject_1\", \"Subject_2\",\"Subject_3\",\"Subject_4\"])\n",
    "df.show()"
   ]
  },
  {
   "cell_type": "code",
   "execution_count": 3,
   "id": "f3057d5c-9dfc-40b1-9fed-7a76fd46daf5",
   "metadata": {
    "tags": []
   },
   "outputs": [
    {
     "name": "stdout",
     "output_type": "stream",
     "text": [
      "+-------+---------+---------+---------+---------+--------+\n",
      "|   name|Subject_1|Subject_2|Subject_3|Subject_4|Greatest|\n",
      "+-------+---------+---------+---------+---------+--------+\n",
      "|   John|       50|       60|       70|       80|      80|\n",
      "|  Alice|       29|       30|       50|       60|      60|\n",
      "|  Nancy|       35|       45|       65|       78|      78|\n",
      "|    Bob|       40|       50|       78|       90|      90|\n",
      "|Michael|       67|       87|       40|       80|      87|\n",
      "+-------+---------+---------+---------+---------+--------+\n",
      "\n"
     ]
    }
   ],
   "source": [
    "#Greatest of All Columns\n",
    "from pyspark.sql.functions import greatest\n",
    "greatDf = df.withColumn(\"Greatest\",greatest(\"Subject_1\", \"Subject_2\",\"Subject_3\",\"Subject_4\"))\n",
    "greatDf.show()"
   ]
  },
  {
   "cell_type": "code",
   "execution_count": 4,
   "id": "5b838396-b477-4424-8546-3f0ef9876bc8",
   "metadata": {
    "tags": []
   },
   "outputs": [
    {
     "name": "stdout",
     "output_type": "stream",
     "text": [
      "+-------+---------+---------+---------+---------+-----+\n",
      "|   name|Subject_1|Subject_2|Subject_3|Subject_4|least|\n",
      "+-------+---------+---------+---------+---------+-----+\n",
      "|   John|       50|       60|       70|       80|   50|\n",
      "|  Alice|       29|       30|       50|       60|   29|\n",
      "|  Nancy|       35|       45|       65|       78|   35|\n",
      "|    Bob|       40|       50|       78|       90|   40|\n",
      "|Michael|       67|       87|       40|       80|   40|\n",
      "+-------+---------+---------+---------+---------+-----+\n",
      "\n"
     ]
    }
   ],
   "source": [
    "#Least of all Columns\n",
    "from pyspark.sql.functions import least\n",
    "leastDf = df.withColumn(\"least\",least(\"Subject_1\", \"Subject_2\",\"Subject_3\",\"Subject_4\"))\n",
    "leastDf.show()"
   ]
  },
  {
   "cell_type": "code",
   "execution_count": 9,
   "id": "be873884-aea5-49c0-b3d2-e43ccd6a166f",
   "metadata": {
    "tags": []
   },
   "outputs": [
    {
     "name": "stdout",
     "output_type": "stream",
     "text": [
      "+--------------+--------------+--------------+--------------+\n",
      "|max(Subject_2)|max(Subject_1)|max(Subject_4)|max(Subject_3)|\n",
      "+--------------+--------------+--------------+--------------+\n",
      "|            87|            67|            90|            78|\n",
      "+--------------+--------------+--------------+--------------+\n",
      "\n"
     ]
    }
   ],
   "source": [
    "#Max of rows\n",
    "df.agg({'Subject_1':'max','Subject_2':'max','Subject_3':'max','Subject_4':'max'}).show()"
   ]
  },
  {
   "cell_type": "code",
   "execution_count": 8,
   "id": "4e02d464-3024-4d4b-958a-d4f48b36e7f4",
   "metadata": {
    "tags": []
   },
   "outputs": [
    {
     "name": "stdout",
     "output_type": "stream",
     "text": [
      "+--------------+--------------+--------------+--------------+\n",
      "|min(Subject_2)|min(Subject_1)|min(Subject_4)|min(Subject_3)|\n",
      "+--------------+--------------+--------------+--------------+\n",
      "|            30|            29|            60|            40|\n",
      "+--------------+--------------+--------------+--------------+\n",
      "\n"
     ]
    }
   ],
   "source": [
    "#Min of rows\n",
    "df.agg({'Subject_1':'min','Subject_2':'min','Subject_3':'min','Subject_4':'min'}).show()"
   ]
  },
  {
   "cell_type": "code",
   "execution_count": null,
   "id": "8aeb7cb1-a4cb-4423-8225-4b85fef5e332",
   "metadata": {},
   "outputs": [],
   "source": []
  }
 ],
 "metadata": {
  "kernelspec": {
   "display_name": "Python 3 (ipykernel)",
   "language": "python",
   "name": "python3"
  },
  "language_info": {
   "codemirror_mode": {
    "name": "ipython",
    "version": 3
   },
   "file_extension": ".py",
   "mimetype": "text/x-python",
   "name": "python",
   "nbconvert_exporter": "python",
   "pygments_lexer": "ipython3",
   "version": "3.10.10"
  }
 },
 "nbformat": 4,
 "nbformat_minor": 5
}
