{
 "cells": [
  {
   "cell_type": "code",
   "execution_count": 3,
   "id": "818099b8-05ba-401b-bfe2-5cc163f2dc4e",
   "metadata": {
    "tags": []
   },
   "outputs": [
    {
     "name": "stdout",
     "output_type": "stream",
     "text": [
      "+---+----+---+------+\n",
      "| id|name|age|salary|\n",
      "+---+----+---+------+\n",
      "|  1|   2|  3|     3|\n",
      "+---+----+---+------+\n",
      "\n",
      "+---+----+---+------+\n",
      "| id|name|age|salary|\n",
      "+---+----+---+------+\n",
      "|  1|   2|  3|     3|\n",
      "+---+----+---+------+\n",
      "\n"
     ]
    }
   ],
   "source": [
    "from pyspark.sql import SparkSession\n",
    "from pyspark.sql.functions import col, sum,count,when\n",
    "\n",
    "# Initialize Spark session\n",
    "spark = SparkSession.builder.master(\"local[1]\") \\\n",
    "                    .appName('SparkByExamples.com') \\\n",
    "                    .getOrCreate()\n",
    "\n",
    "# Sample DataFrame with NULL values\n",
    "data = [\n",
    "    (1, \"John\", None, 5000),\n",
    "    (2, \"Alice\", 29, None),\n",
    "    (3, None, 35, 7000),\n",
    "    (4, \"Bob\", None, None),\n",
    "    (None, None, None, None)\n",
    "]\n",
    "\n",
    "# Create DataFrame\n",
    "df = spark.createDataFrame(data, [\"id\", \"name\", \"age\", \"salary\"])\n",
    "\n",
    "# Calculate NULL count for each column\n",
    "null_counts = df.select([sum(col(c).isNull().cast(\"int\")).alias(c) for c in df.columns])\n",
    "\n",
    "nullcount = df.select([count(when(col(c).isNull(),c)).alias(c) for c in df.columns])\n",
    "\n",
    "# Show results\n",
    "null_counts.show()\n",
    "nullcount.show()"
   ]
  }
 ],
 "metadata": {
  "kernelspec": {
   "display_name": "Python 3 (ipykernel)",
   "language": "python",
   "name": "python3"
  },
  "language_info": {
   "codemirror_mode": {
    "name": "ipython",
    "version": 3
   },
   "file_extension": ".py",
   "mimetype": "text/x-python",
   "name": "python",
   "nbconvert_exporter": "python",
   "pygments_lexer": "ipython3",
   "version": "3.10.10"
  }
 },
 "nbformat": 4,
 "nbformat_minor": 5
}
